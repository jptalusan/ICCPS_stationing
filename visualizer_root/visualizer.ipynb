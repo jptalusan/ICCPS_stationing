{
 "cells": [
  {
   "cell_type": "code",
   "execution_count": 1,
   "metadata": {},
   "outputs": [
    {
     "name": "stderr",
     "output_type": "stream",
     "text": [
      "/home/jptalusan/anaconda3/envs/py39/lib/python3.9/site-packages/geopandas/_compat.py:112: UserWarning: The Shapely GEOS version (3.10.2-CAPI-1.16.0) is incompatible with the GEOS version PyGEOS was compiled with (3.10.1-CAPI-1.16.0). Conversions between both will be slow.\n",
      "  warnings.warn(\n"
     ]
    }
   ],
   "source": [
    "import pandas as pd\n",
    "import geopandas as gpd\n",
    "from keplergl import KeplerGl\n",
    "import json"
   ]
  },
  {
   "cell_type": "code",
   "execution_count": 2,
   "metadata": {},
   "outputs": [
    {
     "data": {
      "text/html": [
       "<div>\n",
       "<style scoped>\n",
       "    .dataframe tbody tr th:only-of-type {\n",
       "        vertical-align: middle;\n",
       "    }\n",
       "\n",
       "    .dataframe tbody tr th {\n",
       "        vertical-align: top;\n",
       "    }\n",
       "\n",
       "    .dataframe thead th {\n",
       "        text-align: right;\n",
       "    }\n",
       "</style>\n",
       "<table border=\"1\" class=\"dataframe\">\n",
       "  <thead>\n",
       "    <tr style=\"text-align: right;\">\n",
       "      <th></th>\n",
       "      <th>stop_sequence</th>\n",
       "      <th>stop_id_original</th>\n",
       "      <th>stop_name</th>\n",
       "      <th>map_latitude</th>\n",
       "      <th>map_longitude</th>\n",
       "      <th>nearest_node</th>\n",
       "      <th>nearest_edge</th>\n",
       "    </tr>\n",
       "  </thead>\n",
       "  <tbody>\n",
       "    <tr>\n",
       "      <th>0</th>\n",
       "      <td>24</td>\n",
       "      <td>12ADEMNN</td>\n",
       "      <td>12TH AVE S &amp; DEMONBREUN ST NB</td>\n",
       "      <td>36.154509</td>\n",
       "      <td>-86.786056</td>\n",
       "      <td>202342839</td>\n",
       "      <td>(202284281, 202342839, 0)</td>\n",
       "    </tr>\n",
       "  </tbody>\n",
       "</table>\n",
       "</div>"
      ],
      "text/plain": [
       "   stop_sequence stop_id_original                      stop_name  \\\n",
       "0             24         12ADEMNN  12TH AVE S & DEMONBREUN ST NB   \n",
       "\n",
       "   map_latitude  map_longitude  nearest_node               nearest_edge  \n",
       "0     36.154509     -86.786056     202342839  (202284281, 202342839, 0)  "
      ]
     },
     "execution_count": 2,
     "metadata": {},
     "output_type": "execute_result"
    }
   ],
   "source": [
    "fp = '/home/jptalusan/gits/mta_simulator_redo/code_root/scenarios/baseline/data/stops_node_matching.pkl'\n",
    "stops_info = pd.read_pickle(fp)\n",
    "stops_info.head(1)"
   ]
  },
  {
   "cell_type": "code",
   "execution_count": 3,
   "metadata": {},
   "outputs": [],
   "source": [
    "# fp = '../code_root/visualizer.csv'\n",
    "# viz_df = pd.read_csv(fp)\n",
    "# viz_df = viz_df.fillna(method='backfill').sort_values(by='time')\n",
    "# viz_df = pd.merge(viz_df, stops_info[['stop_id_original', 'map_latitude', 'map_longitude']], left_on='last_visited_stop', right_on='stop_id_original')\n",
    "\n",
    "# map_1 = KeplerGl(height=800)\n",
    "# map_1.add_data(viz_df, name='buses')\n",
    "\n",
    "# with open('/home/jptalusan/gits/mta_simulator_redo/code_root/scenarios/baseline/output/config.json', 'r') as fp:\n",
    "#     config = json.load(fp)\n",
    "# map_1.config = config\n",
    "    \n",
    "# map_1"
   ]
  },
  {
   "cell_type": "code",
   "execution_count": 4,
   "metadata": {},
   "outputs": [],
   "source": [
    "# config = map_1.config\n",
    "# with open('/home/jptalusan/gits/mta_simulator_redo/code_root/scenarios/baseline/output/config.json', 'w') as fp:\n",
    "#     json.dump(config, fp)"
   ]
  },
  {
   "cell_type": "code",
   "execution_count": 5,
   "metadata": {},
   "outputs": [],
   "source": [
    "fp = '../code_root/visualizer_1.csv'\n",
    "viz_df = pd.read_csv(fp)\n",
    "viz_df = viz_df.fillna(method='backfill').sort_values(by='time')\n",
    "viz_df = pd.merge(viz_df, stops_info[['stop_id_original', 'map_latitude', 'map_longitude']], left_on='last_visited_stop', right_on='stop_id_original')\n",
    "viz_df = viz_df.drop_duplicates()"
   ]
  },
  {
   "cell_type": "code",
   "execution_count": 6,
   "metadata": {},
   "outputs": [
    {
     "name": "stdout",
     "output_type": "stream",
     "text": [
      "User Guide: https://docs.kepler.gl/docs/keplergl-jupyter\n"
     ]
    },
    {
     "data": {
      "application/vnd.jupyter.widget-view+json": {
       "model_id": "a82ea114afb04ecb9483a5606df2c393",
       "version_major": 2,
       "version_minor": 0
      },
      "text/plain": [
       "KeplerGl(data={'buses': {'index': [0, 1, 2, 3, 4, 7, 8, 9, 10, 11, 12, 13, 14, 15, 16, 17, 18, 19, 20, 21, 22,…"
      ]
     },
     "metadata": {},
     "output_type": "display_data"
    }
   ],
   "source": [
    "map_1 = KeplerGl(height=800)\n",
    "map_1.add_data(viz_df, name='buses')\n",
    "\n",
    "# with open('/home/jptalusan/gits/mta_simulator_redo/code_root/scenarios/baseline/output/config.json', 'r') as fp:\n",
    "#     config = json.load(fp)\n",
    "# map_1.config = config\n",
    "    \n",
    "map_1"
   ]
  }
 ],
 "metadata": {
  "kernelspec": {
   "display_name": "Python 3.9.13 ('py39')",
   "language": "python",
   "name": "python3"
  },
  "language_info": {
   "codemirror_mode": {
    "name": "ipython",
    "version": 3
   },
   "file_extension": ".py",
   "mimetype": "text/x-python",
   "name": "python",
   "nbconvert_exporter": "python",
   "pygments_lexer": "ipython3",
   "version": "3.9.13"
  },
  "orig_nbformat": 4,
  "vscode": {
   "interpreter": {
    "hash": "88d12193eb5d2fbe298f9bb9e457ac6a535b56551d0f537fc14a1636657a2895"
   }
  }
 },
 "nbformat": 4,
 "nbformat_minor": 2
}
