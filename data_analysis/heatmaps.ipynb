{
 "cells": [
  {
   "cell_type": "code",
   "execution_count": 1,
   "metadata": {},
   "outputs": [],
   "source": [
    "import gtfs_kit as gk\n",
    "import geopandas as gpd\n",
    "import datetime as dt\n",
    "import re\n",
    "import pandas as pd\n",
    "from plotly.subplots import make_subplots\n",
    "import shapely\n",
    "import warnings\n",
    "from shapely.errors import ShapelyDeprecationWarning\n",
    "warnings.filterwarnings(\"ignore\", category=ShapelyDeprecationWarning) "
   ]
  },
  {
   "cell_type": "code",
   "execution_count": 2,
   "metadata": {},
   "outputs": [],
   "source": [
    "DATETIME_FORMAT = '%Y-%m-%d %H:%M:%S'"
   ]
  },
  {
   "cell_type": "code",
   "execution_count": 3,
   "metadata": {},
   "outputs": [
    {
     "data": {
      "text/html": [
       "<div>\n",
       "<style scoped>\n",
       "    .dataframe tbody tr th:only-of-type {\n",
       "        vertical-align: middle;\n",
       "    }\n",
       "\n",
       "    .dataframe tbody tr th {\n",
       "        vertical-align: top;\n",
       "    }\n",
       "\n",
       "    .dataframe thead th {\n",
       "        text-align: right;\n",
       "    }\n",
       "</style>\n",
       "<table border=\"1\" class=\"dataframe\">\n",
       "  <thead>\n",
       "    <tr style=\"text-align: right;\">\n",
       "      <th></th>\n",
       "      <th>OBJECTID</th>\n",
       "      <th>NAME</th>\n",
       "      <th>KEY</th>\n",
       "      <th>SHAPE_AREA</th>\n",
       "      <th>SHAPE_LEN</th>\n",
       "      <th>geometry</th>\n",
       "    </tr>\n",
       "  </thead>\n",
       "  <tbody>\n",
       "    <tr>\n",
       "      <th>20</th>\n",
       "      <td>25</td>\n",
       "      <td>Davidson</td>\n",
       "      <td>47037</td>\n",
       "      <td>1.465730e+10</td>\n",
       "      <td>679930.031216</td>\n",
       "      <td>POLYGON ((1699730.035 747536.751, 1699790.248 ...</td>\n",
       "    </tr>\n",
       "  </tbody>\n",
       "</table>\n",
       "</div>"
      ],
      "text/plain": [
       "    OBJECTID      NAME    KEY    SHAPE_AREA      SHAPE_LEN  \\\n",
       "20        25  Davidson  47037  1.465730e+10  679930.031216   \n",
       "\n",
       "                                             geometry  \n",
       "20  POLYGON ((1699730.035 747536.751, 1699790.248 ...  "
      ]
     },
     "execution_count": 3,
     "metadata": {},
     "output_type": "execute_result"
    }
   ],
   "source": [
    "gdf = gpd.read_file('../data_generation/data/shapefiles/tncounty', crs=4326)\n",
    "gdf = gdf.query(\"NAME == 'Davidson'\")\n",
    "gdf"
   ]
  },
  {
   "cell_type": "code",
   "execution_count": 4,
   "metadata": {},
   "outputs": [],
   "source": [
    "import gtfs_kit as gk\n",
    "# feed.describe()\n",
    " # List feed\n",
    "\n",
    "feed = gk.read_feed('../data_generation/data/GTFS/OCT2021/gtfs.zip', dist_units='km')\n",
    "route_df = feed.geometrize_routes()"
   ]
  },
  {
   "cell_type": "code",
   "execution_count": 5,
   "metadata": {},
   "outputs": [
    {
     "data": {
      "text/html": [
       "<div>\n",
       "<style scoped>\n",
       "    .dataframe tbody tr th:only-of-type {\n",
       "        vertical-align: middle;\n",
       "    }\n",
       "\n",
       "    .dataframe tbody tr th {\n",
       "        vertical-align: top;\n",
       "    }\n",
       "\n",
       "    .dataframe thead th {\n",
       "        text-align: right;\n",
       "    }\n",
       "</style>\n",
       "<table border=\"1\" class=\"dataframe\">\n",
       "  <thead>\n",
       "    <tr style=\"text-align: right;\">\n",
       "      <th></th>\n",
       "      <th>stop_id</th>\n",
       "      <th>stop_code</th>\n",
       "      <th>stop_name</th>\n",
       "      <th>stop_desc</th>\n",
       "      <th>zone_id</th>\n",
       "      <th>stop_url</th>\n",
       "      <th>location_type</th>\n",
       "      <th>parent_station</th>\n",
       "      <th>stop_timezone</th>\n",
       "      <th>wheelchair_boarding</th>\n",
       "      <th>geometry</th>\n",
       "    </tr>\n",
       "  </thead>\n",
       "  <tbody>\n",
       "    <tr>\n",
       "      <th>0</th>\n",
       "      <td>10AHERNN</td>\n",
       "      <td>10AHERNN</td>\n",
       "      <td>10TH AVE N &amp; HERMAN ST NB</td>\n",
       "      <td>10TH AV N &amp; HERMAN ST</td>\n",
       "      <td>NaN</td>\n",
       "      <td>NaN</td>\n",
       "      <td>NaN</td>\n",
       "      <td>NaN</td>\n",
       "      <td>NaN</td>\n",
       "      <td>NaN</td>\n",
       "      <td>POINT (-86.79234 36.16883)</td>\n",
       "    </tr>\n",
       "  </tbody>\n",
       "</table>\n",
       "</div>"
      ],
      "text/plain": [
       "    stop_id stop_code                  stop_name              stop_desc  \\\n",
       "0  10AHERNN  10AHERNN  10TH AVE N & HERMAN ST NB  10TH AV N & HERMAN ST   \n",
       "\n",
       "  zone_id stop_url  location_type parent_station stop_timezone  \\\n",
       "0     NaN      NaN            NaN            NaN           NaN   \n",
       "\n",
       "   wheelchair_boarding                    geometry  \n",
       "0                  NaN  POINT (-86.79234 36.16883)  "
      ]
     },
     "execution_count": 5,
     "metadata": {},
     "output_type": "execute_result"
    }
   ],
   "source": [
    "stops_df = gk.stops.geometrize_stops(feed)\n",
    "stops_df.head(1)"
   ]
  },
  {
   "cell_type": "markdown",
   "metadata": {},
   "source": [
    "# HEATMAP of left behind"
   ]
  },
  {
   "cell_type": "code",
   "execution_count": 14,
   "metadata": {},
   "outputs": [],
   "source": [
    "import plotly.graph_objects as go\n",
    "mapbox_access_token = \"pk.eyJ1Ijoidmlzb3ItdnUiLCJhIjoiY2tkdTZteWt4MHZ1cDJ4cXMwMnkzNjNwdSJ9.-O6AIHBGu4oLy3dQ3Tu2XA\"\n",
    "log_files = ['logs/all_buses_8_12_BL_no_over.log', 'logs/no_inject_8_12_baseline.log',  'logs/all_buses_8_12_window_served.log']\n",
    "\n",
    "fig = make_subplots(\n",
    "    rows=1, cols=3,\n",
    "    specs=[[{\"type\": \"mapbox\"}, {\"type\": \"mapbox\"}, {\"type\": \"mapbox\"}]],\n",
    "    # subplot_titles=(\"Montreal 1\",\"Montreal 2\",\"test\"),\n",
    "    horizontal_spacing = 0.05, vertical_spacing=0.05\n",
    ")\n",
    "\n",
    "for i, lf in enumerate(log_files):\n",
    "    # bus stats\n",
    "    passenger_ons = []\n",
    "\n",
    "    # stop stats\n",
    "    passenger_walk_aways = []\n",
    "\n",
    "    with open(lf) as file:\n",
    "        for line in file:\n",
    "            if 'people left stop' in line:\n",
    "                data = line.rstrip()\n",
    "                in_brackets = re.findall(\"\\[(.*?)\\]\", data)\n",
    "                out_brackets = re.findall(r\"(.*?)(?:\\[.*?\\]|$)\", data)\n",
    "                log_text = out_brackets[2].strip()\n",
    "                \n",
    "                time = dt.datetime.strptime(in_brackets[1], DATETIME_FORMAT)\n",
    "                count = int(float(log_text.split(\" \")[0]))\n",
    "                stop = log_text.split(\" \")[-1]\n",
    "                passenger_walk_aways.append({'time':time, 'stop_id':stop, 'count':count})\n",
    "    \n",
    "    pwa_df = pd.DataFrame(passenger_walk_aways)\n",
    "    pwa_df = pd.merge(pwa_df, stops_df[['stop_id', 'geometry']], on='stop_id')\n",
    "    \n",
    "    pwa_df = gpd.GeoDataFrame(pwa_df, geometry='geometry')\n",
    "    # pwa_df.drop(['time', 'stop_id'], axis=1, inplace=True)\n",
    "    pwa_df['lat'] = pwa_df.geometry.y\n",
    "    pwa_df['lon'] = pwa_df.geometry.x\n",
    "\n",
    "    # _fig = go.Densitymapbox(pwa_df, lat='lat', lon='lon', z='count', center=dict(lat=36.16747385573528, lon=-86.75061136634754), \n",
    "    #                         radius=25, zoom=10.6, width=800, height=800, \n",
    "    #                         range_color=(0,35))\n",
    "    fig.add_trace(go.Densitymapbox(lat=pwa_df.lat, lon=pwa_df.lon, z=pwa_df[\"count\"], radius=15,\n",
    "                                   zmin=0, zmax=35), 1, i+1)\n",
    "    \n",
    "\n",
    "\n",
    "fig.update_layout(margin={\"r\":0,\"t\":0,\"l\":0,\"b\":0}, width=1000, height=300)\n",
    "fig.update_layout(\n",
    "    coloraxis_colorbar=dict(\n",
    "        title=dict(text='Passengers who left', side='right', font=dict(size=20)),\n",
    "        tickfont=dict(size=20),\n",
    "    )\n",
    ")\n",
    "fig.update_geos(resolution=110,)\n",
    "\n",
    "# fig.update_layout(\n",
    "#     autosize=True,\n",
    "#     hovermode='closest')\n",
    "\n",
    "#update the common attributes:\n",
    "fig.update_mapboxes(\n",
    "        bearing=0,\n",
    "        accesstoken=mapbox_access_token,\n",
    "        center=dict(\n",
    "            lat=36.16747385573528,\n",
    "            lon=-86.75061136634754\n",
    "        ),\n",
    "        pitch=0,\n",
    "        zoom=9)\n",
    "   \n",
    "#update different styles:\n",
    "# fig.update_layout(mapbox_style='open-street-map', mapbox2_style='light')\n",
    "fig.write_image(\"plots/heatmaps.eps\")"
   ]
  },
  {
   "cell_type": "code",
   "execution_count": null,
   "metadata": {},
   "outputs": [],
   "source": []
  },
  {
   "cell_type": "code",
   "execution_count": null,
   "metadata": {},
   "outputs": [],
   "source": [
    "# log_file = 'logs/no_inject_8_12_baseline.log'\n",
    "# log_file = 'logs/all_buses_8_12_window_served.log'\n",
    "log_file = 'logs/all_buses_8_12_BL_no_over.log'\n",
    "# bus stats\n",
    "passenger_ons = []\n",
    "\n",
    "# stop stats\n",
    "passenger_walk_aways = []\n",
    "\n",
    "with open(log_file) as file:\n",
    "    for line in file:\n",
    "        if 'people left stop' in line:\n",
    "            data = line.rstrip()\n",
    "            in_brackets = re.findall(\"\\[(.*?)\\]\", data)\n",
    "            out_brackets = re.findall(r\"(.*?)(?:\\[.*?\\]|$)\", data)\n",
    "            log_text = out_brackets[2].strip()\n",
    "            \n",
    "            time = dt.datetime.strptime(in_brackets[1], DATETIME_FORMAT)\n",
    "            count = int(float(log_text.split(\" \")[0]))\n",
    "            stop = log_text.split(\" \")[-1]\n",
    "            passenger_walk_aways.append({'time':time, 'stop_id':stop, 'count':count})"
   ]
  },
  {
   "cell_type": "code",
   "execution_count": null,
   "metadata": {},
   "outputs": [],
   "source": [
    "pwa_df = pd.DataFrame(passenger_walk_aways)\n",
    "pwa_df = pd.merge(pwa_df, stops_df[['stop_id', 'geometry']], on='stop_id')"
   ]
  },
  {
   "cell_type": "code",
   "execution_count": null,
   "metadata": {},
   "outputs": [],
   "source": [
    "# pwa_df.groupby('stop_id').agg({\"count\":\"sum\", \"geometry\":\"first\"}).sort_values('count')\n",
    "pwa_df = gpd.GeoDataFrame(pwa_df, geometry='geometry')\n",
    "# pwa_df.drop(['time', 'stop_id'], axis=1, inplace=True)\n",
    "pwa_df['lat'] = pwa_df.geometry.y\n",
    "pwa_df['lon'] = pwa_df.geometry.x"
   ]
  },
  {
   "cell_type": "code",
   "execution_count": null,
   "metadata": {},
   "outputs": [],
   "source": [
    "pwa_df.sum()"
   ]
  },
  {
   "cell_type": "code",
   "execution_count": null,
   "metadata": {},
   "outputs": [],
   "source": [
    "import plotly.express as px"
   ]
  },
  {
   "cell_type": "code",
   "execution_count": null,
   "metadata": {},
   "outputs": [],
   "source": [
    "mapbox_access_token = \"pk.eyJ1Ijoidmlzb3ItdnUiLCJhIjoiY2tkdTZteWt4MHZ1cDJ4cXMwMnkzNjNwdSJ9.-O6AIHBGu4oLy3dQ3Tu2XA\"\n",
    "fig = px.density_mapbox(pwa_df, lat='lat', lon='lon', z='count', center=dict(lat=36.16747385573528, lon=-86.75061136634754), \n",
    "                        radius=25, zoom=10.6, width=800, height=800, \n",
    "                        range_color=(0,35))\n",
    "fig.update_layout(mapbox_style=\"light\", mapbox_accesstoken=mapbox_access_token)\n",
    "fig.update_layout(margin={\"r\":0,\"t\":0,\"l\":0,\"b\":0})\n",
    "fig.update_layout(\n",
    "    coloraxis_colorbar=dict(\n",
    "        title=dict(text='Passengers who left', side='right', font=dict(size=15)),\n",
    "        tickfont=dict(size=15),\n",
    "    )\n",
    ")\n",
    "fig.update_geos(resolution=110,)\n",
    "fig.show()"
   ]
  },
  {
   "cell_type": "markdown",
   "metadata": {},
   "source": [
    "# BUS STATS"
   ]
  },
  {
   "cell_type": "code",
   "execution_count": null,
   "metadata": {},
   "outputs": [],
   "source": [
    "# log_file = 'logs/no_inject_8_12_baseline.log'\n",
    "# log_file = 'logs/all_buses_8_12_window_served.log'\n",
    "log_file = 'logs/all_buses_8_12_BL_no_over.log'\n",
    "# bus stats\n",
    "bus_stats = []\n",
    "\n",
    "with open(log_file) as file:\n",
    "    for line in file:\n",
    "        if 'on trip:' in line:\n",
    "            data = line.rstrip()\n",
    "            in_brackets = re.findall(\"\\[(.*?)\\]\", data)\n",
    "            out_brackets = re.findall(r\"(.*?)(?:\\[.*?\\]|$)\", data)\n",
    "            log_text = out_brackets[2].strip()\n",
    "            \n",
    "            time = dt.datetime.strptime(in_brackets[1], DATETIME_FORMAT)\n",
    "            bus = log_text.split(\" \")[1]\n",
    "            trip = log_text.split(\" \")[4]\n",
    "            scheduled_time = log_text.split(\" \")[7] + \" \" + log_text.split(\" \")[8]\n",
    "            scheduled_time = dt.datetime.strptime(scheduled_time, DATETIME_FORMAT)\n",
    "            stop_id = log_text.split(\" \")[12][:-1]\n",
    "            got_on = log_text.split(\" \")[13].split(\":\")[1][:-1]\n",
    "            on = log_text.split(\" \")[14].split(\":\")[1][:-1]\n",
    "            offs = log_text.split(\" \")[15].split(\":\")[1][:-1]\n",
    "            remain = log_text.split(\" \")[16].split(\":\")[1][:-1]\n",
    "            load = log_text.split(\" \")[17].split(\":\")[1]\n",
    "            \n",
    "            entry = {\"actual_time\":time,\n",
    "                     \"bus_id\":bus,\n",
    "                     \"trip_id\":trip,\n",
    "                     \"scheduled_time\":scheduled_time,\n",
    "                     \"stop_id\":stop_id,\n",
    "                     \"got_on_bus\":got_on,\n",
    "                     \"waiting_to_board\":on,\n",
    "                     \"offs\":offs,\n",
    "                     \"left\":remain,\n",
    "                     \"load\":load}\n",
    "            bus_stats.append(entry)\n",
    "bus_stats = pd.DataFrame(bus_stats)\n",
    "bus_stats['got_on_bus'] = bus_stats['got_on_bus'].astype('int')\n",
    "bus_stats['waiting_to_board'] = bus_stats['waiting_to_board'].astype('int')\n",
    "bus_stats['offs'] = bus_stats['offs'].astype('int')\n",
    "bus_stats['left'] = bus_stats['left'].astype('int')\n",
    "bus_stats['load'] = bus_stats['load'].astype('int')"
   ]
  },
  {
   "cell_type": "code",
   "execution_count": null,
   "metadata": {},
   "outputs": [],
   "source": [
    "bus_stats"
   ]
  },
  {
   "cell_type": "code",
   "execution_count": null,
   "metadata": {},
   "outputs": [],
   "source": [
    "bus_stats.groupby('actual_time').sum().load.plot()"
   ]
  },
  {
   "cell_type": "markdown",
   "metadata": {},
   "source": []
  }
 ],
 "metadata": {
  "kernelspec": {
   "display_name": "py39",
   "language": "python",
   "name": "python3"
  },
  "language_info": {
   "codemirror_mode": {
    "name": "ipython",
    "version": 3
   },
   "file_extension": ".py",
   "mimetype": "text/x-python",
   "name": "python",
   "nbconvert_exporter": "python",
   "pygments_lexer": "ipython3",
   "version": "3.9.13 | packaged by conda-forge | (main, May 27 2022, 16:56:21) \n[GCC 10.3.0]"
  },
  "orig_nbformat": 4,
  "vscode": {
   "interpreter": {
    "hash": "88d12193eb5d2fbe298f9bb9e457ac6a535b56551d0f537fc14a1636657a2895"
   }
  }
 },
 "nbformat": 4,
 "nbformat_minor": 2
}
