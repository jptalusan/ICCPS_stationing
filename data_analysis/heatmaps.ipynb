{
 "cells": [
  {
   "cell_type": "code",
   "execution_count": 1,
   "metadata": {},
   "outputs": [],
   "source": [
    "import gtfs_kit as gk\n",
    "import geopandas as gpd\n",
    "import datetime as dt\n",
    "import re\n",
    "import pandas as pd\n",
    "import seaborn as sns\n",
    "import shapely\n",
    "import warnings\n",
    "from shapely.errors import ShapelyDeprecationWarning\n",
    "warnings.filterwarnings(\"ignore\", category=ShapelyDeprecationWarning) "
   ]
  },
  {
   "cell_type": "code",
   "execution_count": 2,
   "metadata": {},
   "outputs": [],
   "source": [
    "DATETIME_FORMAT = '%Y-%m-%d %H:%M:%S'"
   ]
  },
  {
   "cell_type": "code",
   "execution_count": 3,
   "metadata": {},
   "outputs": [
    {
     "data": {
      "text/html": [
       "<div>\n",
       "<style scoped>\n",
       "    .dataframe tbody tr th:only-of-type {\n",
       "        vertical-align: middle;\n",
       "    }\n",
       "\n",
       "    .dataframe tbody tr th {\n",
       "        vertical-align: top;\n",
       "    }\n",
       "\n",
       "    .dataframe thead th {\n",
       "        text-align: right;\n",
       "    }\n",
       "</style>\n",
       "<table border=\"1\" class=\"dataframe\">\n",
       "  <thead>\n",
       "    <tr style=\"text-align: right;\">\n",
       "      <th></th>\n",
       "      <th>OBJECTID</th>\n",
       "      <th>NAME</th>\n",
       "      <th>KEY</th>\n",
       "      <th>SHAPE_AREA</th>\n",
       "      <th>SHAPE_LEN</th>\n",
       "      <th>geometry</th>\n",
       "    </tr>\n",
       "  </thead>\n",
       "  <tbody>\n",
       "    <tr>\n",
       "      <th>20</th>\n",
       "      <td>25</td>\n",
       "      <td>Davidson</td>\n",
       "      <td>47037</td>\n",
       "      <td>1.465730e+10</td>\n",
       "      <td>679930.031216</td>\n",
       "      <td>POLYGON ((1699730.035 747536.751, 1699790.248 ...</td>\n",
       "    </tr>\n",
       "  </tbody>\n",
       "</table>\n",
       "</div>"
      ],
      "text/plain": [
       "    OBJECTID      NAME    KEY    SHAPE_AREA      SHAPE_LEN  \\\n",
       "20        25  Davidson  47037  1.465730e+10  679930.031216   \n",
       "\n",
       "                                             geometry  \n",
       "20  POLYGON ((1699730.035 747536.751, 1699790.248 ...  "
      ]
     },
     "execution_count": 3,
     "metadata": {},
     "output_type": "execute_result"
    }
   ],
   "source": [
    "gdf = gpd.read_file('../data_generation/data/shapefiles/tncounty', crs=4326)\n",
    "gdf = gdf.query(\"NAME == 'Davidson'\")\n",
    "gdf"
   ]
  },
  {
   "cell_type": "code",
   "execution_count": 4,
   "metadata": {},
   "outputs": [],
   "source": [
    "import gtfs_kit as gk\n",
    "# feed.describe()\n",
    " # List feed\n",
    "\n",
    "feed = gk.read_feed('../data_generation/data/GTFS/OCT2021/gtfs.zip', dist_units='km')\n",
    "route_df = feed.geometrize_routes()"
   ]
  },
  {
   "cell_type": "code",
   "execution_count": 5,
   "metadata": {},
   "outputs": [
    {
     "data": {
      "text/html": [
       "<div>\n",
       "<style scoped>\n",
       "    .dataframe tbody tr th:only-of-type {\n",
       "        vertical-align: middle;\n",
       "    }\n",
       "\n",
       "    .dataframe tbody tr th {\n",
       "        vertical-align: top;\n",
       "    }\n",
       "\n",
       "    .dataframe thead th {\n",
       "        text-align: right;\n",
       "    }\n",
       "</style>\n",
       "<table border=\"1\" class=\"dataframe\">\n",
       "  <thead>\n",
       "    <tr style=\"text-align: right;\">\n",
       "      <th></th>\n",
       "      <th>stop_id</th>\n",
       "      <th>stop_code</th>\n",
       "      <th>stop_name</th>\n",
       "      <th>stop_desc</th>\n",
       "      <th>zone_id</th>\n",
       "      <th>stop_url</th>\n",
       "      <th>location_type</th>\n",
       "      <th>parent_station</th>\n",
       "      <th>stop_timezone</th>\n",
       "      <th>wheelchair_boarding</th>\n",
       "      <th>geometry</th>\n",
       "    </tr>\n",
       "  </thead>\n",
       "  <tbody>\n",
       "    <tr>\n",
       "      <th>0</th>\n",
       "      <td>10AHERNN</td>\n",
       "      <td>10AHERNN</td>\n",
       "      <td>10TH AVE N &amp; HERMAN ST NB</td>\n",
       "      <td>10TH AV N &amp; HERMAN ST</td>\n",
       "      <td>NaN</td>\n",
       "      <td>NaN</td>\n",
       "      <td>NaN</td>\n",
       "      <td>NaN</td>\n",
       "      <td>NaN</td>\n",
       "      <td>NaN</td>\n",
       "      <td>POINT (-86.79234 36.16883)</td>\n",
       "    </tr>\n",
       "  </tbody>\n",
       "</table>\n",
       "</div>"
      ],
      "text/plain": [
       "    stop_id stop_code                  stop_name              stop_desc  \\\n",
       "0  10AHERNN  10AHERNN  10TH AVE N & HERMAN ST NB  10TH AV N & HERMAN ST   \n",
       "\n",
       "  zone_id stop_url  location_type parent_station stop_timezone  \\\n",
       "0     NaN      NaN            NaN            NaN           NaN   \n",
       "\n",
       "   wheelchair_boarding                    geometry  \n",
       "0                  NaN  POINT (-86.79234 36.16883)  "
      ]
     },
     "execution_count": 5,
     "metadata": {},
     "output_type": "execute_result"
    }
   ],
   "source": [
    "stops_df = gk.stops.geometrize_stops(feed)\n",
    "stops_df.head(1)"
   ]
  },
  {
   "cell_type": "markdown",
   "metadata": {},
   "source": [
    "# HEATMAP of left behind"
   ]
  },
  {
   "cell_type": "code",
   "execution_count": 92,
   "metadata": {},
   "outputs": [],
   "source": [
    "# log_file = 'logs/no_inject_8_12_baseline.log'\n",
    "# log_file = 'logs/all_buses_8_12_window_served.log'\n",
    "log_file = 'logs/all_buses_8_12_BL_no_over.log'\n",
    "# bus stats\n",
    "passenger_ons = []\n",
    "\n",
    "# stop stats\n",
    "passenger_walk_aways = []\n",
    "\n",
    "with open(log_file) as file:\n",
    "    for line in file:\n",
    "        if 'people left stop' in line:\n",
    "            data = line.rstrip()\n",
    "            in_brackets = re.findall(\"\\[(.*?)\\]\", data)\n",
    "            out_brackets = re.findall(r\"(.*?)(?:\\[.*?\\]|$)\", data)\n",
    "            log_text = out_brackets[2].strip()\n",
    "            \n",
    "            time = dt.datetime.strptime(in_brackets[1], DATETIME_FORMAT)\n",
    "            count = int(float(log_text.split(\" \")[0]))\n",
    "            stop = log_text.split(\" \")[-1]\n",
    "            passenger_walk_aways.append({'time':time, 'stop_id':stop, 'count':count})"
   ]
  },
  {
   "cell_type": "code",
   "execution_count": 93,
   "metadata": {},
   "outputs": [],
   "source": [
    "pwa_df = pd.DataFrame(passenger_walk_aways)\n",
    "pwa_df = pd.merge(pwa_df, stops_df[['stop_id', 'geometry']], on='stop_id')"
   ]
  },
  {
   "cell_type": "code",
   "execution_count": 94,
   "metadata": {},
   "outputs": [],
   "source": [
    "# pwa_df.groupby('stop_id').agg({\"count\":\"sum\", \"geometry\":\"first\"}).sort_values('count')\n",
    "pwa_df = gpd.GeoDataFrame(pwa_df, geometry='geometry')\n",
    "# pwa_df.drop(['time', 'stop_id'], axis=1, inplace=True)\n",
    "pwa_df['lat'] = pwa_df.geometry.y\n",
    "pwa_df['lon'] = pwa_df.geometry.x"
   ]
  },
  {
   "cell_type": "code",
   "execution_count": 95,
   "metadata": {},
   "outputs": [
    {
     "name": "stderr",
     "output_type": "stream",
     "text": [
      "/tmp/ipykernel_53984/3174215546.py:1: FutureWarning:\n",
      "\n",
      "Dropping of nuisance columns in DataFrame reductions (with 'numeric_only=None') is deprecated; in a future version this will raise TypeError.  Select only valid columns before calling the reduction.\n",
      "\n"
     ]
    },
    {
     "data": {
      "text/plain": [
       "stop_id    MCC5_9BRO17AWNBRO17AWNSHE14SENBRO19AWN21ASCASM...\n",
       "count                                                   1927\n",
       "lat                                              5968.247119\n",
       "lon                                            -14317.521325\n",
       "dtype: object"
      ]
     },
     "execution_count": 95,
     "metadata": {},
     "output_type": "execute_result"
    }
   ],
   "source": [
    "pwa_df.sum()"
   ]
  },
  {
   "cell_type": "code",
   "execution_count": 96,
   "metadata": {},
   "outputs": [],
   "source": [
    "import plotly.express as px"
   ]
  },
  {
   "cell_type": "code",
   "execution_count": 97,
   "metadata": {},
   "outputs": [
    {
     "data": {
      "application/vnd.plotly.v1+json": {
       "config": {
        "plotlyServerURL": "https://plot.ly"
       },
       "data": [
        {
         "coloraxis": "coloraxis",
         "hovertemplate": "count=%{z}<br>lat=%{lat}<br>lon=%{lon}<extra></extra>",
         "lat": [
          36.166706,
          36.153391,
          36.153391,
          36.17079,
          36.151258,
          36.145382,
          36.13998,
          36.13998,
          36.129996,
          36.059458,
          36.170033,
          36.170033,
          36.120733,
          36.166259,
          36.166259,
          36.166259,
          36.166259,
          36.07715,
          36.165893,
          36.171076,
          36.171076,
          36.171076,
          36.171076,
          36.114169,
          36.17214,
          36.17214,
          36.17214,
          36.094437,
          36.109411,
          36.176882,
          36.176882,
          36.176882,
          36.109474,
          36.186852,
          36.186852,
          36.188503,
          36.188503,
          36.254815,
          36.155912,
          36.193468,
          36.127614,
          36.190616,
          36.153458,
          36.195954,
          36.195954,
          36.195954,
          36.131361,
          36.152335,
          36.152335,
          36.18839,
          36.18839,
          36.207101,
          36.198855,
          36.198855,
          36.193238,
          36.154919,
          36.153846,
          36.153846,
          36.168641,
          36.214437,
          36.19918,
          36.19918,
          36.198278,
          36.198278,
          36.198278,
          36.196325,
          36.196325,
          36.196325,
          36.179675,
          36.188396,
          36.188396,
          36.188396,
          36.158492,
          36.188823,
          36.183033,
          36.183033,
          36.079863,
          36.170314,
          36.176688,
          36.176688,
          36.17411,
          36.17411,
          36.186979,
          36.182778,
          36.166322,
          36.164714,
          36.207698,
          36.159567,
          36.28695,
          36.179259,
          36.179259,
          36.27989,
          36.261326,
          36.194829,
          36.194829,
          36.24887,
          36.194119,
          36.14886,
          36.121149,
          36.244207,
          36.116009,
          36.158394,
          36.17055,
          36.102964,
          36.12109,
          36.098669,
          36.176544,
          36.199877,
          36.199877,
          36.182512,
          36.18413,
          36.199911,
          36.199911,
          36.187716,
          36.088579,
          36.192437,
          36.133717,
          36.173453,
          36.076775,
          36.177876,
          36.161082,
          36.170824,
          36.212387,
          36.160819,
          36.111281,
          36.200189,
          36.152446,
          36.166215,
          36.154492,
          36.154424,
          36.154424,
          36.176823,
          36.175848,
          36.187775,
          36.195483,
          36.156137,
          36.192457,
          36.192457,
          36.051031,
          36.19142,
          36.208029,
          36.172108,
          36.18444,
          36.18444,
          36.17701,
          36.1473,
          36.167694,
          36.16867,
          36.19772,
          36.128913,
          36.132893,
          36.191349,
          36.16939,
          36.190411,
          36.166205,
          36.179751,
          36.159527,
          36.193804,
          36.153425,
          36.185483,
          36.19168,
          36.191732,
          36.175428,
          36.19922,
          36.168626
         ],
         "lon": [
          -86.781693,
          -86.793952,
          -86.793952,
          -86.74695,
          -86.796363,
          -86.799742,
          -86.800488,
          -86.800488,
          -86.802285,
          -86.641035,
          -86.756138,
          -86.756138,
          -86.808043,
          -86.781861,
          -86.781861,
          -86.781861,
          -86.781861,
          -86.641295,
          -86.780414,
          -86.782103,
          -86.782103,
          -86.782103,
          -86.782103,
          -86.811039,
          -86.782792,
          -86.782792,
          -86.782792,
          -86.653178,
          -86.811917,
          -86.785814,
          -86.785814,
          -86.785814,
          -86.814515,
          -86.793303,
          -86.793303,
          -86.7964,
          -86.7964,
          -86.702031,
          -86.767211,
          -86.804342,
          -86.789082,
          -86.763738,
          -86.733717,
          -86.81767,
          -86.81767,
          -86.81767,
          -86.778931,
          -86.783785,
          -86.783785,
          -86.83891,
          -86.83891,
          -86.719288,
          -86.814192,
          -86.814192,
          -86.726482,
          -86.712349,
          -86.721279,
          -86.721279,
          -86.656204,
          -86.73063,
          -86.799771,
          -86.799771,
          -86.795193,
          -86.795193,
          -86.795193,
          -86.792789,
          -86.792789,
          -86.792789,
          -86.750244,
          -86.796012,
          -86.796012,
          -86.796012,
          -86.827075,
          -86.628212,
          -86.789923,
          -86.789923,
          -86.703793,
          -86.740096,
          -86.784712,
          -86.784712,
          -86.782895,
          -86.782895,
          -86.764469,
          -86.738046,
          -86.781446,
          -86.784416,
          -86.735472,
          -86.788367,
          -86.705463,
          -86.787365,
          -86.787365,
          -86.708677,
          -86.712671,
          -86.796634,
          -86.796634,
          -86.719915,
          -86.801301,
          -86.762226,
          -86.704215,
          -86.760509,
          -86.696787,
          -86.783577,
          -86.754368,
          -86.666093,
          -86.77526,
          -86.659698,
          -86.803166,
          -86.811528,
          -86.811528,
          -86.845736,
          -86.843152,
          -86.803637,
          -86.803637,
          -86.839444,
          -86.649765,
          -86.834602,
          -86.77923,
          -86.742328,
          -86.641112,
          -86.786595,
          -86.846414,
          -86.764018,
          -86.765054,
          -86.854182,
          -86.811431,
          -86.770043,
          -86.852286,
          -86.777565,
          -86.739533,
          -86.743072,
          -86.743072,
          -86.645222,
          -86.774565,
          -86.798861,
          -86.621651,
          -86.774063,
          -86.79649,
          -86.79649,
          -86.651247,
          -86.83582,
          -86.716987,
          -86.790757,
          -86.843029,
          -86.843029,
          -86.774366,
          -86.758053,
          -86.778124,
          -86.78388,
          -86.816771,
          -86.778188,
          -86.829728,
          -86.795593,
          -86.757805,
          -86.797513,
          -86.798497,
          -86.787941,
          -86.703951,
          -86.810007,
          -86.724436,
          -86.808334,
          -86.803943,
          -86.802666,
          -86.792952,
          -86.80876,
          -86.788446
         ],
         "name": "",
         "radius": 25,
         "subplot": "mapbox",
         "type": "densitymapbox",
         "z": [
          2,
          2,
          2,
          1,
          15,
          35,
          36,
          1,
          34,
          26,
          1,
          1,
          9,
          8,
          26,
          20,
          12,
          24,
          3,
          5,
          11,
          13,
          19,
          13,
          7,
          23,
          15,
          2,
          4,
          8,
          6,
          24,
          6,
          30,
          12,
          2,
          2,
          4,
          2,
          19,
          21,
          4,
          1,
          2,
          18,
          5,
          31,
          19,
          40,
          1,
          36,
          1,
          10,
          7,
          1,
          1,
          36,
          4,
          1,
          1,
          5,
          23,
          3,
          6,
          3,
          11,
          12,
          16,
          1,
          24,
          10,
          24,
          3,
          1,
          9,
          24,
          7,
          2,
          2,
          13,
          17,
          11,
          2,
          2,
          1,
          4,
          5,
          34,
          14,
          14,
          13,
          12,
          11,
          22,
          5,
          4,
          9,
          1,
          13,
          2,
          10,
          12,
          1,
          3,
          1,
          23,
          1,
          3,
          4,
          2,
          2,
          4,
          28,
          1,
          25,
          6,
          1,
          47,
          16,
          18,
          37,
          40,
          6,
          1,
          1,
          1,
          2,
          24,
          24,
          10,
          27,
          6,
          29,
          1,
          30,
          2,
          7,
          21,
          5,
          5,
          28,
          7,
          24,
          2,
          13,
          4,
          18,
          2,
          14,
          2,
          1,
          8,
          2,
          2,
          31,
          28,
          23,
          8,
          1,
          4,
          7,
          33,
          28,
          5,
          25
         ]
        }
       ],
       "layout": {
        "coloraxis": {
         "cmax": 35,
         "cmin": 0,
         "colorbar": {
          "title": {
           "text": "count"
          }
         },
         "colorscale": [
          [
           0,
           "#0d0887"
          ],
          [
           0.1111111111111111,
           "#46039f"
          ],
          [
           0.2222222222222222,
           "#7201a8"
          ],
          [
           0.3333333333333333,
           "#9c179e"
          ],
          [
           0.4444444444444444,
           "#bd3786"
          ],
          [
           0.5555555555555556,
           "#d8576b"
          ],
          [
           0.6666666666666666,
           "#ed7953"
          ],
          [
           0.7777777777777778,
           "#fb9f3a"
          ],
          [
           0.8888888888888888,
           "#fdca26"
          ],
          [
           1,
           "#f0f921"
          ]
         ]
        },
        "geo": {
         "resolution": 110
        },
        "height": 800,
        "legend": {
         "tracegroupgap": 0
        },
        "mapbox": {
         "accesstoken": "pk.eyJ1Ijoidmlzb3ItdnUiLCJhIjoiY2tkdTZteWt4MHZ1cDJ4cXMwMnkzNjNwdSJ9.-O6AIHBGu4oLy3dQ3Tu2XA",
         "center": {
          "lat": 36.16747385573528,
          "lon": -86.75061136634754
         },
         "domain": {
          "x": [
           0,
           1
          ],
          "y": [
           0,
           1
          ]
         },
         "style": "light",
         "zoom": 10.6
        },
        "margin": {
         "b": 0,
         "l": 0,
         "r": 0,
         "t": 0
        },
        "template": {
         "data": {
          "bar": [
           {
            "error_x": {
             "color": "#2a3f5f"
            },
            "error_y": {
             "color": "#2a3f5f"
            },
            "marker": {
             "line": {
              "color": "#E5ECF6",
              "width": 0.5
             },
             "pattern": {
              "fillmode": "overlay",
              "size": 10,
              "solidity": 0.2
             }
            },
            "type": "bar"
           }
          ],
          "barpolar": [
           {
            "marker": {
             "line": {
              "color": "#E5ECF6",
              "width": 0.5
             },
             "pattern": {
              "fillmode": "overlay",
              "size": 10,
              "solidity": 0.2
             }
            },
            "type": "barpolar"
           }
          ],
          "carpet": [
           {
            "aaxis": {
             "endlinecolor": "#2a3f5f",
             "gridcolor": "white",
             "linecolor": "white",
             "minorgridcolor": "white",
             "startlinecolor": "#2a3f5f"
            },
            "baxis": {
             "endlinecolor": "#2a3f5f",
             "gridcolor": "white",
             "linecolor": "white",
             "minorgridcolor": "white",
             "startlinecolor": "#2a3f5f"
            },
            "type": "carpet"
           }
          ],
          "choropleth": [
           {
            "colorbar": {
             "outlinewidth": 0,
             "ticks": ""
            },
            "type": "choropleth"
           }
          ],
          "contour": [
           {
            "colorbar": {
             "outlinewidth": 0,
             "ticks": ""
            },
            "colorscale": [
             [
              0,
              "#0d0887"
             ],
             [
              0.1111111111111111,
              "#46039f"
             ],
             [
              0.2222222222222222,
              "#7201a8"
             ],
             [
              0.3333333333333333,
              "#9c179e"
             ],
             [
              0.4444444444444444,
              "#bd3786"
             ],
             [
              0.5555555555555556,
              "#d8576b"
             ],
             [
              0.6666666666666666,
              "#ed7953"
             ],
             [
              0.7777777777777778,
              "#fb9f3a"
             ],
             [
              0.8888888888888888,
              "#fdca26"
             ],
             [
              1,
              "#f0f921"
             ]
            ],
            "type": "contour"
           }
          ],
          "contourcarpet": [
           {
            "colorbar": {
             "outlinewidth": 0,
             "ticks": ""
            },
            "type": "contourcarpet"
           }
          ],
          "heatmap": [
           {
            "colorbar": {
             "outlinewidth": 0,
             "ticks": ""
            },
            "colorscale": [
             [
              0,
              "#0d0887"
             ],
             [
              0.1111111111111111,
              "#46039f"
             ],
             [
              0.2222222222222222,
              "#7201a8"
             ],
             [
              0.3333333333333333,
              "#9c179e"
             ],
             [
              0.4444444444444444,
              "#bd3786"
             ],
             [
              0.5555555555555556,
              "#d8576b"
             ],
             [
              0.6666666666666666,
              "#ed7953"
             ],
             [
              0.7777777777777778,
              "#fb9f3a"
             ],
             [
              0.8888888888888888,
              "#fdca26"
             ],
             [
              1,
              "#f0f921"
             ]
            ],
            "type": "heatmap"
           }
          ],
          "heatmapgl": [
           {
            "colorbar": {
             "outlinewidth": 0,
             "ticks": ""
            },
            "colorscale": [
             [
              0,
              "#0d0887"
             ],
             [
              0.1111111111111111,
              "#46039f"
             ],
             [
              0.2222222222222222,
              "#7201a8"
             ],
             [
              0.3333333333333333,
              "#9c179e"
             ],
             [
              0.4444444444444444,
              "#bd3786"
             ],
             [
              0.5555555555555556,
              "#d8576b"
             ],
             [
              0.6666666666666666,
              "#ed7953"
             ],
             [
              0.7777777777777778,
              "#fb9f3a"
             ],
             [
              0.8888888888888888,
              "#fdca26"
             ],
             [
              1,
              "#f0f921"
             ]
            ],
            "type": "heatmapgl"
           }
          ],
          "histogram": [
           {
            "marker": {
             "pattern": {
              "fillmode": "overlay",
              "size": 10,
              "solidity": 0.2
             }
            },
            "type": "histogram"
           }
          ],
          "histogram2d": [
           {
            "colorbar": {
             "outlinewidth": 0,
             "ticks": ""
            },
            "colorscale": [
             [
              0,
              "#0d0887"
             ],
             [
              0.1111111111111111,
              "#46039f"
             ],
             [
              0.2222222222222222,
              "#7201a8"
             ],
             [
              0.3333333333333333,
              "#9c179e"
             ],
             [
              0.4444444444444444,
              "#bd3786"
             ],
             [
              0.5555555555555556,
              "#d8576b"
             ],
             [
              0.6666666666666666,
              "#ed7953"
             ],
             [
              0.7777777777777778,
              "#fb9f3a"
             ],
             [
              0.8888888888888888,
              "#fdca26"
             ],
             [
              1,
              "#f0f921"
             ]
            ],
            "type": "histogram2d"
           }
          ],
          "histogram2dcontour": [
           {
            "colorbar": {
             "outlinewidth": 0,
             "ticks": ""
            },
            "colorscale": [
             [
              0,
              "#0d0887"
             ],
             [
              0.1111111111111111,
              "#46039f"
             ],
             [
              0.2222222222222222,
              "#7201a8"
             ],
             [
              0.3333333333333333,
              "#9c179e"
             ],
             [
              0.4444444444444444,
              "#bd3786"
             ],
             [
              0.5555555555555556,
              "#d8576b"
             ],
             [
              0.6666666666666666,
              "#ed7953"
             ],
             [
              0.7777777777777778,
              "#fb9f3a"
             ],
             [
              0.8888888888888888,
              "#fdca26"
             ],
             [
              1,
              "#f0f921"
             ]
            ],
            "type": "histogram2dcontour"
           }
          ],
          "mesh3d": [
           {
            "colorbar": {
             "outlinewidth": 0,
             "ticks": ""
            },
            "type": "mesh3d"
           }
          ],
          "parcoords": [
           {
            "line": {
             "colorbar": {
              "outlinewidth": 0,
              "ticks": ""
             }
            },
            "type": "parcoords"
           }
          ],
          "pie": [
           {
            "automargin": true,
            "type": "pie"
           }
          ],
          "scatter": [
           {
            "fillpattern": {
             "fillmode": "overlay",
             "size": 10,
             "solidity": 0.2
            },
            "type": "scatter"
           }
          ],
          "scatter3d": [
           {
            "line": {
             "colorbar": {
              "outlinewidth": 0,
              "ticks": ""
             }
            },
            "marker": {
             "colorbar": {
              "outlinewidth": 0,
              "ticks": ""
             }
            },
            "type": "scatter3d"
           }
          ],
          "scattercarpet": [
           {
            "marker": {
             "colorbar": {
              "outlinewidth": 0,
              "ticks": ""
             }
            },
            "type": "scattercarpet"
           }
          ],
          "scattergeo": [
           {
            "marker": {
             "colorbar": {
              "outlinewidth": 0,
              "ticks": ""
             }
            },
            "type": "scattergeo"
           }
          ],
          "scattergl": [
           {
            "marker": {
             "colorbar": {
              "outlinewidth": 0,
              "ticks": ""
             }
            },
            "type": "scattergl"
           }
          ],
          "scattermapbox": [
           {
            "marker": {
             "colorbar": {
              "outlinewidth": 0,
              "ticks": ""
             }
            },
            "type": "scattermapbox"
           }
          ],
          "scatterpolar": [
           {
            "marker": {
             "colorbar": {
              "outlinewidth": 0,
              "ticks": ""
             }
            },
            "type": "scatterpolar"
           }
          ],
          "scatterpolargl": [
           {
            "marker": {
             "colorbar": {
              "outlinewidth": 0,
              "ticks": ""
             }
            },
            "type": "scatterpolargl"
           }
          ],
          "scatterternary": [
           {
            "marker": {
             "colorbar": {
              "outlinewidth": 0,
              "ticks": ""
             }
            },
            "type": "scatterternary"
           }
          ],
          "surface": [
           {
            "colorbar": {
             "outlinewidth": 0,
             "ticks": ""
            },
            "colorscale": [
             [
              0,
              "#0d0887"
             ],
             [
              0.1111111111111111,
              "#46039f"
             ],
             [
              0.2222222222222222,
              "#7201a8"
             ],
             [
              0.3333333333333333,
              "#9c179e"
             ],
             [
              0.4444444444444444,
              "#bd3786"
             ],
             [
              0.5555555555555556,
              "#d8576b"
             ],
             [
              0.6666666666666666,
              "#ed7953"
             ],
             [
              0.7777777777777778,
              "#fb9f3a"
             ],
             [
              0.8888888888888888,
              "#fdca26"
             ],
             [
              1,
              "#f0f921"
             ]
            ],
            "type": "surface"
           }
          ],
          "table": [
           {
            "cells": {
             "fill": {
              "color": "#EBF0F8"
             },
             "line": {
              "color": "white"
             }
            },
            "header": {
             "fill": {
              "color": "#C8D4E3"
             },
             "line": {
              "color": "white"
             }
            },
            "type": "table"
           }
          ]
         },
         "layout": {
          "annotationdefaults": {
           "arrowcolor": "#2a3f5f",
           "arrowhead": 0,
           "arrowwidth": 1
          },
          "autotypenumbers": "strict",
          "coloraxis": {
           "colorbar": {
            "outlinewidth": 0,
            "ticks": ""
           }
          },
          "colorscale": {
           "diverging": [
            [
             0,
             "#8e0152"
            ],
            [
             0.1,
             "#c51b7d"
            ],
            [
             0.2,
             "#de77ae"
            ],
            [
             0.3,
             "#f1b6da"
            ],
            [
             0.4,
             "#fde0ef"
            ],
            [
             0.5,
             "#f7f7f7"
            ],
            [
             0.6,
             "#e6f5d0"
            ],
            [
             0.7,
             "#b8e186"
            ],
            [
             0.8,
             "#7fbc41"
            ],
            [
             0.9,
             "#4d9221"
            ],
            [
             1,
             "#276419"
            ]
           ],
           "sequential": [
            [
             0,
             "#0d0887"
            ],
            [
             0.1111111111111111,
             "#46039f"
            ],
            [
             0.2222222222222222,
             "#7201a8"
            ],
            [
             0.3333333333333333,
             "#9c179e"
            ],
            [
             0.4444444444444444,
             "#bd3786"
            ],
            [
             0.5555555555555556,
             "#d8576b"
            ],
            [
             0.6666666666666666,
             "#ed7953"
            ],
            [
             0.7777777777777778,
             "#fb9f3a"
            ],
            [
             0.8888888888888888,
             "#fdca26"
            ],
            [
             1,
             "#f0f921"
            ]
           ],
           "sequentialminus": [
            [
             0,
             "#0d0887"
            ],
            [
             0.1111111111111111,
             "#46039f"
            ],
            [
             0.2222222222222222,
             "#7201a8"
            ],
            [
             0.3333333333333333,
             "#9c179e"
            ],
            [
             0.4444444444444444,
             "#bd3786"
            ],
            [
             0.5555555555555556,
             "#d8576b"
            ],
            [
             0.6666666666666666,
             "#ed7953"
            ],
            [
             0.7777777777777778,
             "#fb9f3a"
            ],
            [
             0.8888888888888888,
             "#fdca26"
            ],
            [
             1,
             "#f0f921"
            ]
           ]
          },
          "colorway": [
           "#636efa",
           "#EF553B",
           "#00cc96",
           "#ab63fa",
           "#FFA15A",
           "#19d3f3",
           "#FF6692",
           "#B6E880",
           "#FF97FF",
           "#FECB52"
          ],
          "font": {
           "color": "#2a3f5f"
          },
          "geo": {
           "bgcolor": "white",
           "lakecolor": "white",
           "landcolor": "#E5ECF6",
           "showlakes": true,
           "showland": true,
           "subunitcolor": "white"
          },
          "hoverlabel": {
           "align": "left"
          },
          "hovermode": "closest",
          "mapbox": {
           "style": "light"
          },
          "paper_bgcolor": "white",
          "plot_bgcolor": "#E5ECF6",
          "polar": {
           "angularaxis": {
            "gridcolor": "white",
            "linecolor": "white",
            "ticks": ""
           },
           "bgcolor": "#E5ECF6",
           "radialaxis": {
            "gridcolor": "white",
            "linecolor": "white",
            "ticks": ""
           }
          },
          "scene": {
           "xaxis": {
            "backgroundcolor": "#E5ECF6",
            "gridcolor": "white",
            "gridwidth": 2,
            "linecolor": "white",
            "showbackground": true,
            "ticks": "",
            "zerolinecolor": "white"
           },
           "yaxis": {
            "backgroundcolor": "#E5ECF6",
            "gridcolor": "white",
            "gridwidth": 2,
            "linecolor": "white",
            "showbackground": true,
            "ticks": "",
            "zerolinecolor": "white"
           },
           "zaxis": {
            "backgroundcolor": "#E5ECF6",
            "gridcolor": "white",
            "gridwidth": 2,
            "linecolor": "white",
            "showbackground": true,
            "ticks": "",
            "zerolinecolor": "white"
           }
          },
          "shapedefaults": {
           "line": {
            "color": "#2a3f5f"
           }
          },
          "ternary": {
           "aaxis": {
            "gridcolor": "white",
            "linecolor": "white",
            "ticks": ""
           },
           "baxis": {
            "gridcolor": "white",
            "linecolor": "white",
            "ticks": ""
           },
           "bgcolor": "#E5ECF6",
           "caxis": {
            "gridcolor": "white",
            "linecolor": "white",
            "ticks": ""
           }
          },
          "title": {
           "x": 0.05
          },
          "xaxis": {
           "automargin": true,
           "gridcolor": "white",
           "linecolor": "white",
           "ticks": "",
           "title": {
            "standoff": 15
           },
           "zerolinecolor": "white",
           "zerolinewidth": 2
          },
          "yaxis": {
           "automargin": true,
           "gridcolor": "white",
           "linecolor": "white",
           "ticks": "",
           "title": {
            "standoff": 15
           },
           "zerolinecolor": "white",
           "zerolinewidth": 2
          }
         }
        },
        "width": 800
       }
      },
      "text/html": [
       "<div>                            <div id=\"341e0f71-eb9e-4010-aa85-dac93d52bfe0\" class=\"plotly-graph-div\" style=\"height:800px; width:800px;\"></div>            <script type=\"text/javascript\">                require([\"plotly\"], function(Plotly) {                    window.PLOTLYENV=window.PLOTLYENV || {};                                    if (document.getElementById(\"341e0f71-eb9e-4010-aa85-dac93d52bfe0\")) {                    Plotly.newPlot(                        \"341e0f71-eb9e-4010-aa85-dac93d52bfe0\",                        [{\"coloraxis\":\"coloraxis\",\"hovertemplate\":\"count=%{z}<br>lat=%{lat}<br>lon=%{lon}<extra></extra>\",\"lat\":[36.166706,36.153391,36.153391,36.17079,36.151258,36.145382,36.13998,36.13998,36.129996,36.059458,36.170033,36.170033,36.120733,36.166259,36.166259,36.166259,36.166259,36.07715,36.165893,36.171076,36.171076,36.171076,36.171076,36.114169,36.17214,36.17214,36.17214,36.094437,36.109411,36.176882,36.176882,36.176882,36.109474,36.186852,36.186852,36.188503,36.188503,36.254815,36.155912,36.193468,36.127614,36.190616,36.153458,36.195954,36.195954,36.195954,36.131361,36.152335,36.152335,36.18839,36.18839,36.207101,36.198855,36.198855,36.193238,36.154919,36.153846,36.153846,36.168641,36.214437,36.19918,36.19918,36.198278,36.198278,36.198278,36.196325,36.196325,36.196325,36.179675,36.188396,36.188396,36.188396,36.158492,36.188823,36.183033,36.183033,36.079863,36.170314,36.176688,36.176688,36.17411,36.17411,36.186979,36.182778,36.166322,36.164714,36.207698,36.159567,36.28695,36.179259,36.179259,36.27989,36.261326,36.194829,36.194829,36.24887,36.194119,36.14886,36.121149,36.244207,36.116009,36.158394,36.17055,36.102964,36.12109,36.098669,36.176544,36.199877,36.199877,36.182512,36.18413,36.199911,36.199911,36.187716,36.088579,36.192437,36.133717,36.173453,36.076775,36.177876,36.161082,36.170824,36.212387,36.160819,36.111281,36.200189,36.152446,36.166215,36.154492,36.154424,36.154424,36.176823,36.175848,36.187775,36.195483,36.156137,36.192457,36.192457,36.051031,36.19142,36.208029,36.172108,36.18444,36.18444,36.17701,36.1473,36.167694,36.16867,36.19772,36.128913,36.132893,36.191349,36.16939,36.190411,36.166205,36.179751,36.159527,36.193804,36.153425,36.185483,36.19168,36.191732,36.175428,36.19922,36.168626],\"lon\":[-86.781693,-86.793952,-86.793952,-86.74695,-86.796363,-86.799742,-86.800488,-86.800488,-86.802285,-86.641035,-86.756138,-86.756138,-86.808043,-86.781861,-86.781861,-86.781861,-86.781861,-86.641295,-86.780414,-86.782103,-86.782103,-86.782103,-86.782103,-86.811039,-86.782792,-86.782792,-86.782792,-86.653178,-86.811917,-86.785814,-86.785814,-86.785814,-86.814515,-86.793303,-86.793303,-86.7964,-86.7964,-86.702031,-86.767211,-86.804342,-86.789082,-86.763738,-86.733717,-86.81767,-86.81767,-86.81767,-86.778931,-86.783785,-86.783785,-86.83891,-86.83891,-86.719288,-86.814192,-86.814192,-86.726482,-86.712349,-86.721279,-86.721279,-86.656204,-86.73063,-86.799771,-86.799771,-86.795193,-86.795193,-86.795193,-86.792789,-86.792789,-86.792789,-86.750244,-86.796012,-86.796012,-86.796012,-86.827075,-86.628212,-86.789923,-86.789923,-86.703793,-86.740096,-86.784712,-86.784712,-86.782895,-86.782895,-86.764469,-86.738046,-86.781446,-86.784416,-86.735472,-86.788367,-86.705463,-86.787365,-86.787365,-86.708677,-86.712671,-86.796634,-86.796634,-86.719915,-86.801301,-86.762226,-86.704215,-86.760509,-86.696787,-86.783577,-86.754368,-86.666093,-86.77526,-86.659698,-86.803166,-86.811528,-86.811528,-86.845736,-86.843152,-86.803637,-86.803637,-86.839444,-86.649765,-86.834602,-86.77923,-86.742328,-86.641112,-86.786595,-86.846414,-86.764018,-86.765054,-86.854182,-86.811431,-86.770043,-86.852286,-86.777565,-86.739533,-86.743072,-86.743072,-86.645222,-86.774565,-86.798861,-86.621651,-86.774063,-86.79649,-86.79649,-86.651247,-86.83582,-86.716987,-86.790757,-86.843029,-86.843029,-86.774366,-86.758053,-86.778124,-86.78388,-86.816771,-86.778188,-86.829728,-86.795593,-86.757805,-86.797513,-86.798497,-86.787941,-86.703951,-86.810007,-86.724436,-86.808334,-86.803943,-86.802666,-86.792952,-86.80876,-86.788446],\"name\":\"\",\"radius\":25,\"subplot\":\"mapbox\",\"z\":[2,2,2,1,15,35,36,1,34,26,1,1,9,8,26,20,12,24,3,5,11,13,19,13,7,23,15,2,4,8,6,24,6,30,12,2,2,4,2,19,21,4,1,2,18,5,31,19,40,1,36,1,10,7,1,1,36,4,1,1,5,23,3,6,3,11,12,16,1,24,10,24,3,1,9,24,7,2,2,13,17,11,2,2,1,4,5,34,14,14,13,12,11,22,5,4,9,1,13,2,10,12,1,3,1,23,1,3,4,2,2,4,28,1,25,6,1,47,16,18,37,40,6,1,1,1,2,24,24,10,27,6,29,1,30,2,7,21,5,5,28,7,24,2,13,4,18,2,14,2,1,8,2,2,31,28,23,8,1,4,7,33,28,5,25],\"type\":\"densitymapbox\"}],                        {\"template\":{\"data\":{\"histogram2dcontour\":[{\"type\":\"histogram2dcontour\",\"colorbar\":{\"outlinewidth\":0,\"ticks\":\"\"},\"colorscale\":[[0.0,\"#0d0887\"],[0.1111111111111111,\"#46039f\"],[0.2222222222222222,\"#7201a8\"],[0.3333333333333333,\"#9c179e\"],[0.4444444444444444,\"#bd3786\"],[0.5555555555555556,\"#d8576b\"],[0.6666666666666666,\"#ed7953\"],[0.7777777777777778,\"#fb9f3a\"],[0.8888888888888888,\"#fdca26\"],[1.0,\"#f0f921\"]]}],\"choropleth\":[{\"type\":\"choropleth\",\"colorbar\":{\"outlinewidth\":0,\"ticks\":\"\"}}],\"histogram2d\":[{\"type\":\"histogram2d\",\"colorbar\":{\"outlinewidth\":0,\"ticks\":\"\"},\"colorscale\":[[0.0,\"#0d0887\"],[0.1111111111111111,\"#46039f\"],[0.2222222222222222,\"#7201a8\"],[0.3333333333333333,\"#9c179e\"],[0.4444444444444444,\"#bd3786\"],[0.5555555555555556,\"#d8576b\"],[0.6666666666666666,\"#ed7953\"],[0.7777777777777778,\"#fb9f3a\"],[0.8888888888888888,\"#fdca26\"],[1.0,\"#f0f921\"]]}],\"heatmap\":[{\"type\":\"heatmap\",\"colorbar\":{\"outlinewidth\":0,\"ticks\":\"\"},\"colorscale\":[[0.0,\"#0d0887\"],[0.1111111111111111,\"#46039f\"],[0.2222222222222222,\"#7201a8\"],[0.3333333333333333,\"#9c179e\"],[0.4444444444444444,\"#bd3786\"],[0.5555555555555556,\"#d8576b\"],[0.6666666666666666,\"#ed7953\"],[0.7777777777777778,\"#fb9f3a\"],[0.8888888888888888,\"#fdca26\"],[1.0,\"#f0f921\"]]}],\"heatmapgl\":[{\"type\":\"heatmapgl\",\"colorbar\":{\"outlinewidth\":0,\"ticks\":\"\"},\"colorscale\":[[0.0,\"#0d0887\"],[0.1111111111111111,\"#46039f\"],[0.2222222222222222,\"#7201a8\"],[0.3333333333333333,\"#9c179e\"],[0.4444444444444444,\"#bd3786\"],[0.5555555555555556,\"#d8576b\"],[0.6666666666666666,\"#ed7953\"],[0.7777777777777778,\"#fb9f3a\"],[0.8888888888888888,\"#fdca26\"],[1.0,\"#f0f921\"]]}],\"contourcarpet\":[{\"type\":\"contourcarpet\",\"colorbar\":{\"outlinewidth\":0,\"ticks\":\"\"}}],\"contour\":[{\"type\":\"contour\",\"colorbar\":{\"outlinewidth\":0,\"ticks\":\"\"},\"colorscale\":[[0.0,\"#0d0887\"],[0.1111111111111111,\"#46039f\"],[0.2222222222222222,\"#7201a8\"],[0.3333333333333333,\"#9c179e\"],[0.4444444444444444,\"#bd3786\"],[0.5555555555555556,\"#d8576b\"],[0.6666666666666666,\"#ed7953\"],[0.7777777777777778,\"#fb9f3a\"],[0.8888888888888888,\"#fdca26\"],[1.0,\"#f0f921\"]]}],\"surface\":[{\"type\":\"surface\",\"colorbar\":{\"outlinewidth\":0,\"ticks\":\"\"},\"colorscale\":[[0.0,\"#0d0887\"],[0.1111111111111111,\"#46039f\"],[0.2222222222222222,\"#7201a8\"],[0.3333333333333333,\"#9c179e\"],[0.4444444444444444,\"#bd3786\"],[0.5555555555555556,\"#d8576b\"],[0.6666666666666666,\"#ed7953\"],[0.7777777777777778,\"#fb9f3a\"],[0.8888888888888888,\"#fdca26\"],[1.0,\"#f0f921\"]]}],\"mesh3d\":[{\"type\":\"mesh3d\",\"colorbar\":{\"outlinewidth\":0,\"ticks\":\"\"}}],\"scatter\":[{\"fillpattern\":{\"fillmode\":\"overlay\",\"size\":10,\"solidity\":0.2},\"type\":\"scatter\"}],\"parcoords\":[{\"type\":\"parcoords\",\"line\":{\"colorbar\":{\"outlinewidth\":0,\"ticks\":\"\"}}}],\"scatterpolargl\":[{\"type\":\"scatterpolargl\",\"marker\":{\"colorbar\":{\"outlinewidth\":0,\"ticks\":\"\"}}}],\"bar\":[{\"error_x\":{\"color\":\"#2a3f5f\"},\"error_y\":{\"color\":\"#2a3f5f\"},\"marker\":{\"line\":{\"color\":\"#E5ECF6\",\"width\":0.5},\"pattern\":{\"fillmode\":\"overlay\",\"size\":10,\"solidity\":0.2}},\"type\":\"bar\"}],\"scattergeo\":[{\"type\":\"scattergeo\",\"marker\":{\"colorbar\":{\"outlinewidth\":0,\"ticks\":\"\"}}}],\"scatterpolar\":[{\"type\":\"scatterpolar\",\"marker\":{\"colorbar\":{\"outlinewidth\":0,\"ticks\":\"\"}}}],\"histogram\":[{\"marker\":{\"pattern\":{\"fillmode\":\"overlay\",\"size\":10,\"solidity\":0.2}},\"type\":\"histogram\"}],\"scattergl\":[{\"type\":\"scattergl\",\"marker\":{\"colorbar\":{\"outlinewidth\":0,\"ticks\":\"\"}}}],\"scatter3d\":[{\"type\":\"scatter3d\",\"line\":{\"colorbar\":{\"outlinewidth\":0,\"ticks\":\"\"}},\"marker\":{\"colorbar\":{\"outlinewidth\":0,\"ticks\":\"\"}}}],\"scattermapbox\":[{\"type\":\"scattermapbox\",\"marker\":{\"colorbar\":{\"outlinewidth\":0,\"ticks\":\"\"}}}],\"scatterternary\":[{\"type\":\"scatterternary\",\"marker\":{\"colorbar\":{\"outlinewidth\":0,\"ticks\":\"\"}}}],\"scattercarpet\":[{\"type\":\"scattercarpet\",\"marker\":{\"colorbar\":{\"outlinewidth\":0,\"ticks\":\"\"}}}],\"carpet\":[{\"aaxis\":{\"endlinecolor\":\"#2a3f5f\",\"gridcolor\":\"white\",\"linecolor\":\"white\",\"minorgridcolor\":\"white\",\"startlinecolor\":\"#2a3f5f\"},\"baxis\":{\"endlinecolor\":\"#2a3f5f\",\"gridcolor\":\"white\",\"linecolor\":\"white\",\"minorgridcolor\":\"white\",\"startlinecolor\":\"#2a3f5f\"},\"type\":\"carpet\"}],\"table\":[{\"cells\":{\"fill\":{\"color\":\"#EBF0F8\"},\"line\":{\"color\":\"white\"}},\"header\":{\"fill\":{\"color\":\"#C8D4E3\"},\"line\":{\"color\":\"white\"}},\"type\":\"table\"}],\"barpolar\":[{\"marker\":{\"line\":{\"color\":\"#E5ECF6\",\"width\":0.5},\"pattern\":{\"fillmode\":\"overlay\",\"size\":10,\"solidity\":0.2}},\"type\":\"barpolar\"}],\"pie\":[{\"automargin\":true,\"type\":\"pie\"}]},\"layout\":{\"autotypenumbers\":\"strict\",\"colorway\":[\"#636efa\",\"#EF553B\",\"#00cc96\",\"#ab63fa\",\"#FFA15A\",\"#19d3f3\",\"#FF6692\",\"#B6E880\",\"#FF97FF\",\"#FECB52\"],\"font\":{\"color\":\"#2a3f5f\"},\"hovermode\":\"closest\",\"hoverlabel\":{\"align\":\"left\"},\"paper_bgcolor\":\"white\",\"plot_bgcolor\":\"#E5ECF6\",\"polar\":{\"bgcolor\":\"#E5ECF6\",\"angularaxis\":{\"gridcolor\":\"white\",\"linecolor\":\"white\",\"ticks\":\"\"},\"radialaxis\":{\"gridcolor\":\"white\",\"linecolor\":\"white\",\"ticks\":\"\"}},\"ternary\":{\"bgcolor\":\"#E5ECF6\",\"aaxis\":{\"gridcolor\":\"white\",\"linecolor\":\"white\",\"ticks\":\"\"},\"baxis\":{\"gridcolor\":\"white\",\"linecolor\":\"white\",\"ticks\":\"\"},\"caxis\":{\"gridcolor\":\"white\",\"linecolor\":\"white\",\"ticks\":\"\"}},\"coloraxis\":{\"colorbar\":{\"outlinewidth\":0,\"ticks\":\"\"}},\"colorscale\":{\"sequential\":[[0.0,\"#0d0887\"],[0.1111111111111111,\"#46039f\"],[0.2222222222222222,\"#7201a8\"],[0.3333333333333333,\"#9c179e\"],[0.4444444444444444,\"#bd3786\"],[0.5555555555555556,\"#d8576b\"],[0.6666666666666666,\"#ed7953\"],[0.7777777777777778,\"#fb9f3a\"],[0.8888888888888888,\"#fdca26\"],[1.0,\"#f0f921\"]],\"sequentialminus\":[[0.0,\"#0d0887\"],[0.1111111111111111,\"#46039f\"],[0.2222222222222222,\"#7201a8\"],[0.3333333333333333,\"#9c179e\"],[0.4444444444444444,\"#bd3786\"],[0.5555555555555556,\"#d8576b\"],[0.6666666666666666,\"#ed7953\"],[0.7777777777777778,\"#fb9f3a\"],[0.8888888888888888,\"#fdca26\"],[1.0,\"#f0f921\"]],\"diverging\":[[0,\"#8e0152\"],[0.1,\"#c51b7d\"],[0.2,\"#de77ae\"],[0.3,\"#f1b6da\"],[0.4,\"#fde0ef\"],[0.5,\"#f7f7f7\"],[0.6,\"#e6f5d0\"],[0.7,\"#b8e186\"],[0.8,\"#7fbc41\"],[0.9,\"#4d9221\"],[1,\"#276419\"]]},\"xaxis\":{\"gridcolor\":\"white\",\"linecolor\":\"white\",\"ticks\":\"\",\"title\":{\"standoff\":15},\"zerolinecolor\":\"white\",\"automargin\":true,\"zerolinewidth\":2},\"yaxis\":{\"gridcolor\":\"white\",\"linecolor\":\"white\",\"ticks\":\"\",\"title\":{\"standoff\":15},\"zerolinecolor\":\"white\",\"automargin\":true,\"zerolinewidth\":2},\"scene\":{\"xaxis\":{\"backgroundcolor\":\"#E5ECF6\",\"gridcolor\":\"white\",\"linecolor\":\"white\",\"showbackground\":true,\"ticks\":\"\",\"zerolinecolor\":\"white\",\"gridwidth\":2},\"yaxis\":{\"backgroundcolor\":\"#E5ECF6\",\"gridcolor\":\"white\",\"linecolor\":\"white\",\"showbackground\":true,\"ticks\":\"\",\"zerolinecolor\":\"white\",\"gridwidth\":2},\"zaxis\":{\"backgroundcolor\":\"#E5ECF6\",\"gridcolor\":\"white\",\"linecolor\":\"white\",\"showbackground\":true,\"ticks\":\"\",\"zerolinecolor\":\"white\",\"gridwidth\":2}},\"shapedefaults\":{\"line\":{\"color\":\"#2a3f5f\"}},\"annotationdefaults\":{\"arrowcolor\":\"#2a3f5f\",\"arrowhead\":0,\"arrowwidth\":1},\"geo\":{\"bgcolor\":\"white\",\"landcolor\":\"#E5ECF6\",\"subunitcolor\":\"white\",\"showland\":true,\"showlakes\":true,\"lakecolor\":\"white\"},\"title\":{\"x\":0.05},\"mapbox\":{\"style\":\"light\"}}},\"mapbox\":{\"domain\":{\"x\":[0.0,1.0],\"y\":[0.0,1.0]},\"center\":{\"lat\":36.16747385573528,\"lon\":-86.75061136634754},\"zoom\":10.6,\"style\":\"light\",\"accesstoken\":\"pk.eyJ1Ijoidmlzb3ItdnUiLCJhIjoiY2tkdTZteWt4MHZ1cDJ4cXMwMnkzNjNwdSJ9.-O6AIHBGu4oLy3dQ3Tu2XA\"},\"coloraxis\":{\"colorbar\":{\"title\":{\"text\":\"count\"}},\"colorscale\":[[0.0,\"#0d0887\"],[0.1111111111111111,\"#46039f\"],[0.2222222222222222,\"#7201a8\"],[0.3333333333333333,\"#9c179e\"],[0.4444444444444444,\"#bd3786\"],[0.5555555555555556,\"#d8576b\"],[0.6666666666666666,\"#ed7953\"],[0.7777777777777778,\"#fb9f3a\"],[0.8888888888888888,\"#fdca26\"],[1.0,\"#f0f921\"]],\"cmin\":0,\"cmax\":35},\"legend\":{\"tracegroupgap\":0},\"margin\":{\"t\":0,\"r\":0,\"l\":0,\"b\":0},\"height\":800,\"width\":800,\"geo\":{\"resolution\":110}},                        {\"responsive\": true}                    ).then(function(){\n",
       "                            \n",
       "var gd = document.getElementById('341e0f71-eb9e-4010-aa85-dac93d52bfe0');\n",
       "var x = new MutationObserver(function (mutations, observer) {{\n",
       "        var display = window.getComputedStyle(gd).display;\n",
       "        if (!display || display === 'none') {{\n",
       "            console.log([gd, 'removed!']);\n",
       "            Plotly.purge(gd);\n",
       "            observer.disconnect();\n",
       "        }}\n",
       "}});\n",
       "\n",
       "// Listen for the removal of the full notebook cells\n",
       "var notebookContainer = gd.closest('#notebook-container');\n",
       "if (notebookContainer) {{\n",
       "    x.observe(notebookContainer, {childList: true});\n",
       "}}\n",
       "\n",
       "// Listen for the clearing of the current output cell\n",
       "var outputEl = gd.closest('.output');\n",
       "if (outputEl) {{\n",
       "    x.observe(outputEl, {childList: true});\n",
       "}}\n",
       "\n",
       "                        })                };                });            </script>        </div>"
      ]
     },
     "metadata": {},
     "output_type": "display_data"
    }
   ],
   "source": [
    "mapbox_access_token = \"pk.eyJ1Ijoidmlzb3ItdnUiLCJhIjoiY2tkdTZteWt4MHZ1cDJ4cXMwMnkzNjNwdSJ9.-O6AIHBGu4oLy3dQ3Tu2XA\"\n",
    "fig = px.density_mapbox(pwa_df, lat='lat', lon='lon', z='count', center=dict(lat=36.16747385573528, lon=-86.75061136634754), radius=25, zoom=10.6, width=800, height=800, range_color=(0,35))\n",
    "fig.update_layout(mapbox_style=\"light\", mapbox_accesstoken=mapbox_access_token)\n",
    "fig.update_layout(margin={\"r\":0,\"t\":0,\"l\":0,\"b\":0})\n",
    "fig.update_geos(resolution=110,)\n",
    "fig.show()"
   ]
  },
  {
   "cell_type": "markdown",
   "metadata": {},
   "source": [
    "# BUS STATS"
   ]
  },
  {
   "cell_type": "markdown",
   "metadata": {},
   "source": []
  }
 ],
 "metadata": {
  "kernelspec": {
   "display_name": "Python 3.9.13 ('anomaly_detect')",
   "language": "python",
   "name": "python3"
  },
  "language_info": {
   "codemirror_mode": {
    "name": "ipython",
    "version": 3
   },
   "file_extension": ".py",
   "mimetype": "text/x-python",
   "name": "python",
   "nbconvert_exporter": "python",
   "pygments_lexer": "ipython3",
   "version": "3.9.13"
  },
  "orig_nbformat": 4,
  "vscode": {
   "interpreter": {
    "hash": "933272d4630fea264efdf9980c7f4109e56942e385dbe549e42a4761410f6539"
   }
  }
 },
 "nbformat": 4,
 "nbformat_minor": 2
}
