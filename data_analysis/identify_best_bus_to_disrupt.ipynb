{
 "cells": [
  {
   "cell_type": "code",
   "execution_count": 102,
   "metadata": {},
   "outputs": [],
   "source": [
    "import matplotlib.pyplot as plt\n",
    "import plotly.express as px\n",
    "import utils\n",
    "import importlib\n",
    "import matplotlib.dates as mdates\n",
    "import plotly.graph_objects as go\n",
    "from plotly.subplots import make_subplots\n",
    "import matplotlib.ticker as plticker\n",
    "importlib.reload(utils)\n",
    "import datetime as dt\n",
    "import numpy as np\n",
    "import warnings\n",
    "import os\n",
    "import pandas as pd\n",
    "from tqdm import tqdm\n",
    "from pandas.errors import SettingWithCopyWarning\n",
    "# from pandas.core.common import SettingWithCopyWarning\n",
    "import dateparser\n",
    "\n",
    "# Ignore dateparser warnings regarding pytz\n",
    "warnings.filterwarnings(\n",
    "    \"ignore\",\n",
    "    message=\"The localize method is no longer necessary, as this time zone supports the fold attribute\",\n",
    ")\n",
    "warnings.simplefilter(action=\"ignore\", category=SettingWithCopyWarning)"
   ]
  },
  {
   "cell_type": "code",
   "execution_count": 103,
   "metadata": {},
   "outputs": [
    {
     "name": "stderr",
     "output_type": "stream",
     "text": [
      "100%|██████████| 31/31 [03:31<00:00,  6.83s/it]\n"
     ]
    }
   ],
   "source": [
    "import glob\n",
    "\n",
    "breakdowns_arr = []\n",
    "breakdown_time = '10:00:00'\n",
    "listfiles = glob.glob('MCTS_RESULTS/2022_NEW_C/*.log')\n",
    "for lf in tqdm(listfiles):\n",
    "    fname = os.path.basename(lf)\n",
    "    date = fname.split(\"_\")[2]\n",
    "    df = utils.get_bus_df(lf)\n",
    "    df_arr = []\n",
    "    for k, v in df.groupby('trip_id'):\n",
    "        v['sequence'] = list(range(len(v)))\n",
    "        v['last_sequence'] = len(v)\n",
    "        df_arr.append(v)\n",
    "    df = pd.concat(df_arr)\n",
    "    df['count'] = 1\n",
    "    _df = df.groupby('bus_id').agg({'count':'sum', 'got_on_bus':'sum'})\n",
    "    _df = _df[~_df.index.isin(['41', '42', '43', '44', '45'])].sort_values('got_on_bus', ascending=False)\n",
    "    # display(df)\n",
    "    most_used_bus = _df.iloc[0].name\n",
    "    a = df.query(\"bus_id == @most_used_bus\")\n",
    "    dt = f\"{date} {breakdown_time}\"\n",
    "    dt = dateparser.parse(dt, date_formats=[\"%Y%m%d %H:%M:%S\"])\n",
    "    # print(dt)\n",
    "    \n",
    "    minidx = (abs(dt - a['scheduled_time'])).idxmin()\n",
    "    b = a.loc[[minidx]].iloc[0]\n",
    "    if b.sequence == b.last_sequence:\n",
    "        minidx = minidx + 5\n",
    "    break_sched = a.loc[[minidx]].scheduled_time.iloc[0]\n",
    "    breakdowns_arr.append((date, most_used_bus, break_sched))\n",
    "breakdowns_df = pd.DataFrame(breakdowns_arr, columns=['date', 'bus', 'datetime'])"
   ]
  },
  {
   "cell_type": "code",
   "execution_count": 105,
   "metadata": {},
   "outputs": [],
   "source": [
    "breakdowns_df.to_pickle('results/breakdowns_2022_10.pkl')"
   ]
  },
  {
   "cell_type": "code",
   "execution_count": null,
   "metadata": {},
   "outputs": [],
   "source": []
  }
 ],
 "metadata": {
  "kernelspec": {
   "display_name": "py39",
   "language": "python",
   "name": "python3"
  },
  "language_info": {
   "codemirror_mode": {
    "name": "ipython",
    "version": 3
   },
   "file_extension": ".py",
   "mimetype": "text/x-python",
   "name": "python",
   "nbconvert_exporter": "python",
   "pygments_lexer": "ipython3",
   "version": "3.9.15"
  },
  "orig_nbformat": 4,
  "vscode": {
   "interpreter": {
    "hash": "88d12193eb5d2fbe298f9bb9e457ac6a535b56551d0f537fc14a1636657a2895"
   }
  }
 },
 "nbformat": 4,
 "nbformat_minor": 2
}
