{
 "cells": [
  {
   "cell_type": "markdown",
   "metadata": {},
   "source": [
    "# Generating Event chains in Events format\n",
    "* Since doing this at run time takes very long (looping through the entire event list)\n",
    "* Run after `data_generation/generate_day_trips.ipynb` has generated the chains."
   ]
  },
  {
   "cell_type": "code",
   "execution_count": 2,
   "metadata": {},
   "outputs": [],
   "source": [
    "from Environment.DataStructures.Event import Event\n",
    "from Environment.DataStructures.Bus import Bus\n",
    "from Environment.DataStructures.Stop import Stop\n",
    "from Environment.enums import BusStatus, BusType, EventType, MCTSType\n",
    "from src.utils import *\n",
    "from tqdm import tqdm\n",
    "import numpy as np\n",
    "import pandas as pd\n",
    "import pickle\n",
    "import os\n",
    "import json"
   ]
  },
  {
   "cell_type": "code",
   "execution_count": 9,
   "metadata": {},
   "outputs": [
    {
     "name": "stdout",
     "output_type": "stream",
     "text": [
      "{'b': {}}\n"
     ]
    },
    {
     "data": {
      "text/plain": [
       "{}"
      ]
     },
     "execution_count": 9,
     "metadata": {},
     "output_type": "execute_result"
    }
   ],
   "source": [
    "a = {'b':{}}\n",
    "print(a)\n",
    "del a['b']\n",
    "a"
   ]
  },
  {
   "cell_type": "code",
   "execution_count": 3,
   "metadata": {},
   "outputs": [],
   "source": [
    "def load_initial_state(bus_plan, trip_plan, random_seed=100):\n",
    "    print(\"Loading initial states...\")\n",
    "    active_stops = []\n",
    "\n",
    "    Buses = {}\n",
    "    for bus_id, bus_info in bus_plan.items():\n",
    "        bus_type = bus_info['service_type']\n",
    "        if bus_type == 'regular':\n",
    "            bus_type = BusType.REGULAR\n",
    "        else:\n",
    "            bus_type = BusType.OVERLOAD\n",
    "\n",
    "        bus_status = BusStatus.IDLE\n",
    "        bus_capacity = bus_info['vehicle_capacity']\n",
    "        bus_starting_depot = bus_info['starting_depot']\n",
    "        bus_block_trips = np.asarray(bus_info['trips'])\n",
    "\n",
    "        bus_block_trips = [tuple(bus_block_trip) for bus_block_trip in bus_block_trips]\n",
    "        for i, bus_block_trip in enumerate(bus_block_trips):\n",
    "            block_id = bus_block_trip[0]\n",
    "            trip_id = bus_block_trip[1]\n",
    "            trip_info = trip_plan[trip_id]\n",
    "            stop_id_original = trip_info['stop_id_original']\n",
    "            active_stops.extend(stop_id_original)\n",
    "            if i == 0:\n",
    "                st = trip_plan[trip_id]['scheduled_time']\n",
    "                st = [str_timestamp_to_datetime(st).time().strftime('%H:%M:%S') for st in st][0]\n",
    "                # Add when the bus should reach next stop as state change\n",
    "                t_state_change = str_timestamp_to_datetime(f\"{starting_date_str} {st}\")\n",
    "\n",
    "        bus = Bus(bus_id,\n",
    "                  bus_type,\n",
    "                  bus_status,\n",
    "                  bus_capacity,\n",
    "                  bus_block_trips)\n",
    "        bus.current_stop = bus_starting_depot\n",
    "        bus.current_load = 0\n",
    "        bus.t_state_change = t_state_change\n",
    "        Buses[bus_id] = bus\n",
    "\n",
    "    Stops = {}\n",
    "    for active_stop in active_stops:\n",
    "        stop = Stop(stop_id=active_stop)\n",
    "        Stops[active_stop] = stop\n",
    "\n",
    "    print(f\"Added {len(Buses)} buses and {len(Stops)} stops.\")\n",
    "    return Buses, Stops\n",
    "\n",
    "\n",
    "def load_events(starting_date, Buses, Stops, trip_plan, sampled_travel_time, random_seed=100, chain=1):\n",
    "    # print(\"Adding events...\")\n",
    "    np.random.seed(random_seed)\n",
    "    has_broken = False\n",
    "    is_weekend = 0 if dt.datetime.strptime(starting_date, '%Y-%m-%d').weekday() < 5 else 1\n",
    "\n",
    "    # Initial events\n",
    "    # Includes: Trip starts, passenger sampling\n",
    "    # all active stops that buses will pass\n",
    "    events = []\n",
    "\n",
    "    event_file = 'events_all_vehicles_chain_{chain}.pkl'\n",
    "    # event_file = 'events_2_vehicles.pkl'\n",
    "    saved_events = f'scenarios/baseline/data/{event_file}'\n",
    "\n",
    "    pbar = tqdm(Buses.items())\n",
    "    for bus_id, bus in pbar:\n",
    "        if bus.type == BusType.OVERLOAD:\n",
    "            continue\n",
    "        blocks_trips = bus.bus_block_trips\n",
    "\n",
    "        # Start trip (assuming trips are in sequential order)\n",
    "        block = blocks_trips[0][0]\n",
    "        trip = blocks_trips[0][1]\n",
    "        st = trip_plan[trip]['scheduled_time']\n",
    "        st = [str_timestamp_to_datetime(st).time().strftime('%H:%M:%S') for st in st][0]\n",
    "        event_datetime = str_timestamp_to_datetime(f\"{starting_date_str} {st}\")\n",
    "        event = Event(event_type=EventType.VEHICLE_START_TRIP,\n",
    "                        time=event_datetime,\n",
    "                        type_specific_information={'bus_id': bus_id})\n",
    "        events.append(event)\n",
    "\n",
    "        # Populate stops\n",
    "        for block_trip in blocks_trips:\n",
    "            block = int(block_trip[0])\n",
    "            trip = block_trip[1]\n",
    "            route_id = trip_plan[trip]['route_id']\n",
    "            route_direction = trip_plan[trip]['route_direction']\n",
    "            route_id_dir = f\"{route_id}_{route_direction}\"\n",
    "            scheduled_time = trip_plan[trip]['scheduled_time']\n",
    "            stop_id_original = trip_plan[trip]['stop_id_original']\n",
    "            scheduled_time = [str_timestamp_to_datetime(st).strftime('%Y-%m-%d %H:%M:%S') for st in scheduled_time]\n",
    "\n",
    "            for stop_sequence in range(len(scheduled_time)):\n",
    "                # sampled_travel_time['23_FROM DOWNTOWN', 2310, 32, 'DWMRT', pd.Timestamp('2021-08-23 05:41:00')]\n",
    "                val = sampled_travel_time[route_id_dir, block, stop_sequence + 1, stop_id_original[stop_sequence], pd.Timestamp(scheduled_time[stop_sequence])]\n",
    "                load = val['sampled_loads']\n",
    "                ons = val['ons']\n",
    "                offs = val['offs']\n",
    "\n",
    "                pbar.set_description(\n",
    "                    f\"Processing {block}, {stop_id_original[stop_sequence]}, {scheduled_time[stop_sequence]}, {route_id_dir}, {load}, {ons}, {offs}\")\n",
    "                # making sure passengers arrives before the bus\n",
    "                event_datetime = str_timestamp_to_datetime(f\"{scheduled_time[stop_sequence]}\") - dt.timedelta(minutes=EARLY_PASSENGER_DELTA_MIN)\n",
    "\n",
    "                event = Event(event_type=EventType.PASSENGER_ARRIVE_STOP,\n",
    "                                time=event_datetime,\n",
    "                                type_specific_information={'route_id_dir': route_id_dir,\n",
    "                                                            'block_abbr': block,\n",
    "                                                            'stop_sequence': stop_sequence + 1,\n",
    "                                                            'stop_id': stop_id_original[stop_sequence],\n",
    "                                                            'load': load, 'ons': ons, 'offs': offs})\n",
    "                events.append(event)\n",
    "\n",
    "                # people will leave after N minutes.\n",
    "                event = Event(event_type=EventType.PASSENGER_LEAVE_STOP,\n",
    "                                time=event_datetime + dt.timedelta(minutes=PASSENGER_TIME_TO_LEAVE),\n",
    "                                type_specific_information={'route_id_dir': route_id_dir,\n",
    "                                                            'stop_id': stop_id_original[stop_sequence],\n",
    "                                                            'time': event_datetime})\n",
    "                events.append(event)\n",
    "\n",
    "    events.sort(key=lambda x: x.time, reverse=False)\n",
    "    \n",
    "    return events"
   ]
  },
  {
   "cell_type": "code",
   "execution_count": 4,
   "metadata": {},
   "outputs": [
    {
     "name": "stdout",
     "output_type": "stream",
     "text": [
      "Loading initial states...\n",
      "Added 12 buses and 394 stops.\n"
     ]
    }
   ],
   "source": [
    "config_path = 'scenarios/baseline/data/config.json'\n",
    "with open(config_path) as f:\n",
    "    config = json.load(f)\n",
    "\n",
    "config_path = f'scenarios/baseline/data/{config[\"trip_plan\"]}'\n",
    "with open(config_path) as f:\n",
    "    trip_plan = json.load(f)\n",
    "\n",
    "config_path = f'scenarios/baseline/data/{config[\"vehicle_plan\"]}'\n",
    "with open(config_path) as f:\n",
    "    bus_plan = json.load(f)\n",
    "\n",
    "starting_date_str = '2021-08-23'\n",
    "starting_date = dt.datetime.strptime(starting_date_str, '%Y-%m-%d')\n",
    "starting_time = dt.time(0, 0, 0)\n",
    "starting_datetime = dt.datetime.combine(starting_date, starting_time)\n",
    "Buses, Stops = load_initial_state(bus_plan, trip_plan)"
   ]
  },
  {
   "cell_type": "code",
   "execution_count": 5,
   "metadata": {},
   "outputs": [
    {
     "name": "stdout",
     "output_type": "stream",
     "text": [
      "{'sampled_loads': 8, 'ons': 8.0, 'offs': 0.0}\n"
     ]
    },
    {
     "name": "stderr",
     "output_type": "stream",
     "text": [
      "Processing 2503, 25ACLASN, 2021-08-23 18:36:00, 25_NORTHBOUND, 0, 0.0, 0.0: 100%|██████████| 12/12 [00:01<00:00,  8.04it/s]    \n"
     ]
    },
    {
     "name": "stdout",
     "output_type": "stream",
     "text": [
      "{'sampled_loads': 6, 'ons': 6.0, 'offs': 0.0}\n"
     ]
    },
    {
     "name": "stderr",
     "output_type": "stream",
     "text": [
      "Processing 2503, 25ACLASN, 2021-08-23 18:36:00, 25_NORTHBOUND, 4, 0.0, 4.0: 100%|██████████| 12/12 [00:01<00:00,  7.93it/s]    \n"
     ]
    },
    {
     "name": "stdout",
     "output_type": "stream",
     "text": [
      "{'sampled_loads': 8, 'ons': 8.0, 'offs': 0.0}\n"
     ]
    },
    {
     "name": "stderr",
     "output_type": "stream",
     "text": [
      "Processing 2503, 25ACLASN, 2021-08-23 18:36:00, 25_NORTHBOUND, 0, 0.0, 0.0: 100%|██████████| 12/12 [00:01<00:00,  7.81it/s]    \n"
     ]
    },
    {
     "name": "stdout",
     "output_type": "stream",
     "text": [
      "{'sampled_loads': 9, 'ons': 9.0, 'offs': 0.0}\n"
     ]
    },
    {
     "name": "stderr",
     "output_type": "stream",
     "text": [
      "Processing 2503, 25ACLASN, 2021-08-23 18:36:00, 25_NORTHBOUND, 3, 0.0, 3.0: 100%|██████████| 12/12 [00:01<00:00,  8.04it/s]    \n"
     ]
    }
   ],
   "source": [
    "chain_dir = 'scenarios/baseline/chains'\n",
    "chain_count = 4\n",
    "\n",
    "chains = []\n",
    "for chain in range(chain_count):\n",
    "    event_chain = []\n",
    "    with open(f'{chain_dir}/ons_offs_dict_chain_{chain + 1}.pkl', 'rb') as handle:\n",
    "        sampled_ons_offs_dict = pickle.load(handle)\n",
    "    for k, v in sampled_ons_offs_dict.items():\n",
    "        print(v)\n",
    "        break\n",
    "    passenger_events = load_events(starting_date_str, Buses, Stops, trip_plan, sampled_ons_offs_dict, random_seed=100, chain=chain)\n",
    "    chains.append(passenger_events)\n",
    "    \n",
    "    save_to = f'{chain_dir}/ons_offs_dict_chain_{chain + 1}_processed.pkl'\n",
    "    \n",
    "    with open(save_to, 'wb') as handle:\n",
    "        pickle.dump(passenger_events, handle, protocol=pickle.HIGHEST_PROTOCOL)"
   ]
  },
  {
   "cell_type": "markdown",
   "metadata": {},
   "source": [
    "even if we get them TMC hcannel ids are arbitrary\n",
    "map matching is a very old art\n",
    "\n",
    "ask can you give us road GPS coords/linestrings of their network\n",
    "plot on kepler\n",
    "\n",
    "we will do it ourselves.\n",
    "go foward with NDA if needed"
   ]
  },
  {
   "cell_type": "code",
   "execution_count": 23,
   "metadata": {},
   "outputs": [
    {
     "data": {
      "text/plain": [
       "84806"
      ]
     },
     "execution_count": 23,
     "metadata": {},
     "output_type": "execute_result"
    }
   ],
   "source": [
    "len(passenger_events)"
   ]
  },
  {
   "cell_type": "code",
   "execution_count": 18,
   "metadata": {},
   "outputs": [
    {
     "data": {
      "text/plain": [
       "100"
      ]
     },
     "execution_count": 18,
     "metadata": {},
     "output_type": "execute_result"
    }
   ],
   "source": [
    "sum(1 for pe in passenger_events if pe.event_type == EventType.VEHICLE_START_TRIP)"
   ]
  },
  {
   "cell_type": "code",
   "execution_count": 19,
   "metadata": {},
   "outputs": [
    {
     "data": {
      "text/plain": [
       "42353"
      ]
     },
     "execution_count": 19,
     "metadata": {},
     "output_type": "execute_result"
    }
   ],
   "source": [
    "sum(1 for pe in passenger_events if pe.event_type == EventType.PASSENGER_ARRIVE_STOP)"
   ]
  },
  {
   "cell_type": "code",
   "execution_count": 32,
   "metadata": {},
   "outputs": [
    {
     "name": "stdout",
     "output_type": "stream",
     "text": [
      "2021-08-23 04:51:58,PASSENGER_ARRIVE_STOP,{'route_id_dir': '23_FROM DOWNTOWN', 'block_abbr': 2311, 'stop_sequence': 17, 'stop_id': 'CRERICWN', 'load': 5, 'ons': 0.0, 'offs': 5.0}\n",
      "2021-08-23 04:51:58,PASSENGER_ARRIVE_STOP,{'route_id_dir': '23_FROM DOWNTOWN', 'block_abbr': 2311, 'stop_sequence': 17, 'stop_id': 'CRERICWN', 'load': 1, 'ons': 1.0, 'offs': 0.0}\n",
      "2021-08-23 04:51:58,PASSENGER_ARRIVE_STOP,{'route_id_dir': '23_FROM DOWNTOWN', 'block_abbr': 2311, 'stop_sequence': 17, 'stop_id': 'CRERICWN', 'load': 2, 'ons': 1.0, 'offs': 0.0}\n",
      "2021-08-23 04:51:58,PASSENGER_ARRIVE_STOP,{'route_id_dir': '23_FROM DOWNTOWN', 'block_abbr': 2311, 'stop_sequence': 17, 'stop_id': 'CRERICWN', 'load': 0, 'ons': 1.0, 'offs': 0.0}\n"
     ]
    }
   ],
   "source": [
    "for chain in chains:\n",
    "    print(chain[100])"
   ]
  },
  {
   "cell_type": "code",
   "execution_count": 34,
   "metadata": {},
   "outputs": [
    {
     "name": "stdout",
     "output_type": "stream",
     "text": [
      "0.06398129463195801\n"
     ]
    }
   ],
   "source": [
    "import time\n",
    "np.random.shuffle(chains[0])\n",
    "start = time.time()\n",
    "\n",
    "chains[0].sort(key=lambda x: x.time, reverse=False)\n",
    "end = time.time() - start\n",
    "print(end)\n"
   ]
  },
  {
   "cell_type": "code",
   "execution_count": 47,
   "metadata": {},
   "outputs": [
    {
     "data": {
      "text/plain": [
       "84806"
      ]
     },
     "execution_count": 47,
     "metadata": {},
     "output_type": "execute_result"
    }
   ],
   "source": [
    "a = [pe for pe in chains[0] if (pe.event_type != EventType.PASSENGER_ARRIVE_STOP) and (pe.event_type != EventType.PASSENGER_LEAVE_STOP)]\n",
    "b = [pe for pe in chains[1] if (pe.event_type == EventType.PASSENGER_ARRIVE_STOP) or (pe.event_type == EventType.PASSENGER_LEAVE_STOP)]\n",
    "c = a + b\n",
    "c.sort(key=lambda x: x.time, reverse=False)\n",
    "len(c)"
   ]
  },
  {
   "cell_type": "code",
   "execution_count": null,
   "metadata": {},
   "outputs": [],
   "source": []
  }
 ],
 "metadata": {
  "kernelspec": {
   "display_name": "Python 3.9.13 ('py39')",
   "language": "python",
   "name": "python3"
  },
  "language_info": {
   "codemirror_mode": {
    "name": "ipython",
    "version": 3
   },
   "file_extension": ".py",
   "mimetype": "text/x-python",
   "name": "python",
   "nbconvert_exporter": "python",
   "pygments_lexer": "ipython3",
   "version": "3.9.13"
  },
  "orig_nbformat": 4,
  "vscode": {
   "interpreter": {
    "hash": "88d12193eb5d2fbe298f9bb9e457ac6a535b56551d0f537fc14a1636657a2895"
   }
  }
 },
 "nbformat": 4,
 "nbformat_minor": 2
}
