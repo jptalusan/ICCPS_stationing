{
 "cells": [
  {
   "cell_type": "code",
   "execution_count": 1,
   "metadata": {
    "collapsed": true
   },
   "outputs": [
    {
     "name": "stderr",
     "output_type": "stream",
     "text": [
      "/home/jptalusan/anaconda3/envs/py39/lib/python3.9/site-packages/geopandas/_compat.py:112: UserWarning: The Shapely GEOS version (3.10.2-CAPI-1.16.0) is incompatible with the GEOS version PyGEOS was compiled with (3.10.1-CAPI-1.16.0). Conversions between both will be slow.\n",
      "  warnings.warn(\n"
     ]
    }
   ],
   "source": [
    "import os\n",
    "import osmnx as ox\n",
    "# from pyspark import SparkContext,SparkConf\n",
    "# from pyspark.sql import SQLContext\n",
    "from pyspark.sql import Row, SparkSession\n",
    "# from pyspark.sql.types import IntegerType\n",
    "from pyspark.sql import functions as F\n",
    "# from pyspark import SparkConf\n",
    "import pandas as pd\n",
    "# import pickle\n",
    "# from tqdm import tqdm"
   ]
  },
  {
   "cell_type": "code",
   "execution_count": 2,
   "metadata": {
    "collapsed": false
   },
   "outputs": [
    {
     "name": "stdout",
     "output_type": "stream",
     "text": [
      "22/10/18 20:34:54 WARN Utils: Your hostname, scope-vanderbilt resolves to a loopback address: 127.0.1.1; using 10.2.218.69 instead (on interface enp8s0)\n",
      "22/10/18 20:34:54 WARN Utils: Set SPARK_LOCAL_IP if you need to bind to another address\n"
     ]
    },
    {
     "name": "stderr",
     "output_type": "stream",
     "text": [
      "Setting default log level to \"WARN\".\n",
      "To adjust logging level use sc.setLogLevel(newLevel). For SparkR, use setLogLevel(newLevel).\n"
     ]
    },
    {
     "name": "stdout",
     "output_type": "stream",
     "text": [
      "22/10/18 20:34:54 WARN NativeCodeLoader: Unable to load native-hadoop library for your platform... using builtin-java classes where applicable\n",
      "22/10/18 20:34:55 WARN Utils: Service 'SparkUI' could not bind on port 4040. Attempting port 4041.\n"
     ]
    }
   ],
   "source": [
    "spark = SparkSession.builder.config('spark.executor.cores', '8').config('spark.executor.memory', '80g')\\\n",
    "        .config(\"spark.sql.session.timeZone\", \"UTC\").config('spark.driver.memory', '40g').master(\"local[26]\")\\\n",
    "        .appName(\"wego-daily\").config('spark.driver.extraJavaOptions', '-Duser.timezone=UTC').config('spark.executor.extraJavaOptions', '-Duser.timezone=UTC')\\\n",
    "        .config(\"spark.sql.datetime.java8API.enabled\", \"true\").config(\"spark.sql.execution.arrow.pyspark.enabled\", \"true\")\\\n",
    "        .config(\"spark.sql.autoBroadcastJoinThreshold\", -1)\\\n",
    "        .config(\"spark.driver.maxResultSize\", 0)\\\n",
    "        .config(\"spark.shuffle.spill\", \"true\")\\\n",
    "        .getOrCreate()\n",
    "spark.sparkContext.setLogLevel(\"ERROR\")"
   ]
  },
  {
   "cell_type": "code",
   "execution_count": 3,
   "metadata": {
    "collapsed": false
   },
   "outputs": [
    {
     "name": "stdout",
     "output_type": "stream",
     "text": [
      "['gtfs_date', 'dayofweek', 'hour', 'gtfs_route_id', 'gtfs_direction_id', 'stop_id', 'transit_date', 'trip_id', 'day', 'overload_id', 'vehicle_id', 'block_abbr', 'activation_date', 'activation_date_str', 'arrival_time', 'arrival_time_str', 'block_stop_order', 'deactivation_date', 'deactivation_date_str', 'departure_time', 'departure_time_str', 'load', 'load_factor', 'map_latitude', 'map_longitude', 'offs', 'ons', 'pattern_num', 'route_direction_name', 'route_id', 'scheduled_time', 'scheduled_time_str', 'source_pattern_id', 'stop_id_list', 'stop_id_original', 'stop_name', 'stop_sequence', 'stop_sequence_list', 'transit_date_str', 'update_date', 'vehicle_capacity', 'zero_load_at_trip_end', 'count', 'darksky_temperature', 'darksky_humidity', 'darksky_nearest_storm_distance', 'darksky_precipitation_intensity', 'darksky_precipitation_probability', 'darksky_pressure', 'darksky_wind_gust', 'darksky_wind_speed', 'weatherbit_rh', 'weatherbit_wind_spd', 'weatherbit_app_temp', 'weatherbit_temp', 'weatherbit_snow', 'weatherbit_precip', 'gtfs_file', 'gtfs_shape_id', 'gtfs_start_date', 'gtfs_end_date', 'gtfs_number_of_scheduled_trips', 'gtfs_number_of_scheduled_trips_at_stop', 'delay_time', 'dwell_time', 'prev_sched', 'sched_hdwy', 'prev_depart', 'actual_hdwy', 'is_gapped', 'is_bunched', 'is_target', 'year', 'month']\n",
      "\n",
      "       SELECT stop_id_original, map_latitude, map_longitude\n",
      "       FROM apc\n",
      "       \n"
     ]
    },
    {
     "name": "stderr",
     "output_type": "stream",
     "text": [
      "                                                                                \r"
     ]
    }
   ],
   "source": [
    "f = os.path.join('/home/jptalusan/mta_stationing_problem/data/processed/apc_weather_gtfs.parquet')\n",
    "apcdata = spark.read.load(f)\n",
    "print(apcdata.columns)\n",
    "get_columns = ['stop_id_original', 'map_latitude', 'map_longitude']\n",
    "get_str = \", \".join([c for c in get_columns])\n",
    "apcdata.createOrReplaceTempView(\"apc\")\n",
    "# # filter subset\n",
    "query = f\"\"\"\n",
    "       SELECT {get_str}\n",
    "       FROM apc\n",
    "       \"\"\"\n",
    "print(query)\n",
    "apcdata = spark.sql(query)\n",
    "apcdata = apcdata.dropDuplicates(['stop_id_original'])\n",
    "apcdf = apcdata.toPandas()"
   ]
  },
  {
   "cell_type": "code",
   "execution_count": 4,
   "metadata": {
    "collapsed": false
   },
   "outputs": [
    {
     "data": {
      "text/html": [
       "<div>\n",
       "<style scoped>\n",
       "    .dataframe tbody tr th:only-of-type {\n",
       "        vertical-align: middle;\n",
       "    }\n",
       "\n",
       "    .dataframe tbody tr th {\n",
       "        vertical-align: top;\n",
       "    }\n",
       "\n",
       "    .dataframe thead th {\n",
       "        text-align: right;\n",
       "    }\n",
       "</style>\n",
       "<table border=\"1\" class=\"dataframe\">\n",
       "  <thead>\n",
       "    <tr style=\"text-align: right;\">\n",
       "      <th></th>\n",
       "      <th>stop_id_original</th>\n",
       "      <th>map_latitude</th>\n",
       "      <th>map_longitude</th>\n",
       "    </tr>\n",
       "  </thead>\n",
       "  <tbody>\n",
       "    <tr>\n",
       "      <th>0</th>\n",
       "      <td>8A9ANM</td>\n",
       "      <td>36.169933</td>\n",
       "      <td>-86.789091</td>\n",
       "    </tr>\n",
       "    <tr>\n",
       "      <th>1</th>\n",
       "      <td>BOYBUENN</td>\n",
       "      <td>36.227897</td>\n",
       "      <td>-86.827407</td>\n",
       "    </tr>\n",
       "    <tr>\n",
       "      <th>2</th>\n",
       "      <td>HERDECWN</td>\n",
       "      <td>36.153648</td>\n",
       "      <td>-86.753553</td>\n",
       "    </tr>\n",
       "    <tr>\n",
       "      <th>3</th>\n",
       "      <td>LEBBONWM</td>\n",
       "      <td>36.189506</td>\n",
       "      <td>-86.627722</td>\n",
       "    </tr>\n",
       "    <tr>\n",
       "      <th>4</th>\n",
       "      <td>LEBOMOEN</td>\n",
       "      <td>36.154402</td>\n",
       "      <td>-86.739793</td>\n",
       "    </tr>\n",
       "  </tbody>\n",
       "</table>\n",
       "</div>"
      ],
      "text/plain": [
       "  stop_id_original  map_latitude  map_longitude\n",
       "0           8A9ANM     36.169933     -86.789091\n",
       "1         BOYBUENN     36.227897     -86.827407\n",
       "2         HERDECWN     36.153648     -86.753553\n",
       "3         LEBBONWM     36.189506     -86.627722\n",
       "4         LEBOMOEN     36.154402     -86.739793"
      ]
     },
     "execution_count": 4,
     "metadata": {},
     "output_type": "execute_result"
    }
   ],
   "source": [
    "apcdf.head()"
   ]
  },
  {
   "cell_type": "code",
   "execution_count": 5,
   "metadata": {
    "collapsed": false,
    "pycharm": {
     "is_executing": true
    }
   },
   "outputs": [],
   "source": [
    "fp = os.path.join('data', 'davidson_graph.graphml')\n",
    "G = ox.load_graphml(fp)"
   ]
  },
  {
   "cell_type": "code",
   "execution_count": 7,
   "metadata": {
    "collapsed": false
   },
   "outputs": [
    {
     "data": {
      "text/html": [
       "<div>\n",
       "<style scoped>\n",
       "    .dataframe tbody tr th:only-of-type {\n",
       "        vertical-align: middle;\n",
       "    }\n",
       "\n",
       "    .dataframe tbody tr th {\n",
       "        vertical-align: top;\n",
       "    }\n",
       "\n",
       "    .dataframe thead th {\n",
       "        text-align: right;\n",
       "    }\n",
       "</style>\n",
       "<table border=\"1\" class=\"dataframe\">\n",
       "  <thead>\n",
       "    <tr style=\"text-align: right;\">\n",
       "      <th></th>\n",
       "      <th>stop_id_original</th>\n",
       "      <th>map_latitude</th>\n",
       "      <th>map_longitude</th>\n",
       "    </tr>\n",
       "  </thead>\n",
       "  <tbody>\n",
       "    <tr>\n",
       "      <th>9</th>\n",
       "      <td>BAPSEMNN</td>\n",
       "      <td>36.200568</td>\n",
       "      <td>-86.786623</td>\n",
       "    </tr>\n",
       "  </tbody>\n",
       "</table>\n",
       "</div>"
      ],
      "text/plain": [
       "  stop_id_original  map_latitude  map_longitude\n",
       "9         BAPSEMNN     36.200568     -86.786623"
      ]
     },
     "execution_count": 7,
     "metadata": {},
     "output_type": "execute_result"
    }
   ],
   "source": [
    "apcdf.query(\"stop_id_original == 'BAPSEMNN'\")"
   ]
  },
  {
   "cell_type": "code",
   "execution_count": 13,
   "metadata": {},
   "outputs": [
    {
     "data": {
      "text/html": [
       "<div>\n",
       "<style scoped>\n",
       "    .dataframe tbody tr th:only-of-type {\n",
       "        vertical-align: middle;\n",
       "    }\n",
       "\n",
       "    .dataframe tbody tr th {\n",
       "        vertical-align: top;\n",
       "    }\n",
       "\n",
       "    .dataframe thead th {\n",
       "        text-align: right;\n",
       "    }\n",
       "</style>\n",
       "<table border=\"1\" class=\"dataframe\">\n",
       "  <thead>\n",
       "    <tr style=\"text-align: right;\">\n",
       "      <th></th>\n",
       "      <th>stop_sequence</th>\n",
       "      <th>stop_id_original</th>\n",
       "      <th>stop_name</th>\n",
       "      <th>map_latitude</th>\n",
       "      <th>map_longitude</th>\n",
       "      <th>nearest_node</th>\n",
       "      <th>nearest_edge</th>\n",
       "    </tr>\n",
       "  </thead>\n",
       "  <tbody>\n",
       "    <tr>\n",
       "      <th>1063</th>\n",
       "      <td>1</td>\n",
       "      <td>MCC5_1</td>\n",
       "      <td>CENTRAL 5TH AVE - BAY 1</td>\n",
       "      <td>36.167091</td>\n",
       "      <td>-86.781923</td>\n",
       "      <td>1443059058</td>\n",
       "      <td>(202338737, 202338859, 0)</td>\n",
       "    </tr>\n",
       "  </tbody>\n",
       "</table>\n",
       "</div>"
      ],
      "text/plain": [
       "      stop_sequence stop_id_original                stop_name  map_latitude  \\\n",
       "1063              1           MCC5_1  CENTRAL 5TH AVE - BAY 1     36.167091   \n",
       "\n",
       "      map_longitude  nearest_node               nearest_edge  \n",
       "1063     -86.781923    1443059058  (202338737, 202338859, 0)  "
      ]
     },
     "execution_count": 13,
     "metadata": {},
     "output_type": "execute_result"
    }
   ],
   "source": [
    "fp = 'results/stops_node_matching.pkl'\n",
    "df = pd.read_pickle(fp)\n",
    "df.query(\"stop_id_original == 'MCC5_1'\")"
   ]
  },
  {
   "cell_type": "code",
   "execution_count": 14,
   "metadata": {},
   "outputs": [],
   "source": [
    "current_node = 1443059058\n",
    "next_node = 202443952\n",
    "try:\n",
    "    r = ox.shortest_path(G, current_node, next_node, weight='length')\n",
    "    cols = ['osmid', 'length', 'travel_time']\n",
    "    attrs = ox.utils_graph.get_route_edge_attributes(G, r)\n",
    "    tt = pd.DataFrame(attrs)[cols]['travel_time'].sum()\n",
    "    dd = pd.DataFrame(attrs)[cols]['length'].sum()\n",
    "except:\n",
    "    tt = -1\n",
    "    dd = -1"
   ]
  },
  {
   "cell_type": "code",
   "execution_count": 15,
   "metadata": {},
   "outputs": [
    {
     "data": {
      "text/plain": [
       "(334.09999999999997, 5203.804)"
      ]
     },
     "execution_count": 15,
     "metadata": {},
     "output_type": "execute_result"
    }
   ],
   "source": [
    "tt, dd"
   ]
  },
  {
   "cell_type": "code",
   "execution_count": 36,
   "metadata": {},
   "outputs": [
    {
     "data": {
      "text/html": [
       "<div>\n",
       "<style scoped>\n",
       "    .dataframe tbody tr th:only-of-type {\n",
       "        vertical-align: middle;\n",
       "    }\n",
       "\n",
       "    .dataframe tbody tr th {\n",
       "        vertical-align: top;\n",
       "    }\n",
       "\n",
       "    .dataframe thead th {\n",
       "        text-align: right;\n",
       "    }\n",
       "</style>\n",
       "<table border=\"1\" class=\"dataframe\">\n",
       "  <thead>\n",
       "    <tr style=\"text-align: right;\">\n",
       "      <th></th>\n",
       "      <th>current_node</th>\n",
       "      <th>next_node</th>\n",
       "      <th>travel_time_s</th>\n",
       "      <th>distance_m</th>\n",
       "      <th>current_stop</th>\n",
       "      <th>next_stop</th>\n",
       "    </tr>\n",
       "  </thead>\n",
       "  <tbody>\n",
       "  </tbody>\n",
       "</table>\n",
       "</div>"
      ],
      "text/plain": [
       "Empty DataFrame\n",
       "Columns: [current_node, next_node, travel_time_s, distance_m, current_stop, next_stop]\n",
       "Index: []"
      ]
     },
     "execution_count": 36,
     "metadata": {},
     "output_type": "execute_result"
    }
   ],
   "source": [
    "fp = 'results/pair_tt_dd_stops.pkl'\n",
    "df = pd.read_pickle(fp)\n",
    "df.query(\"current_stop == 'MCC5_1' and next_stop == 'BAPSEMNN'\")"
   ]
  },
  {
   "cell_type": "code",
   "execution_count": 37,
   "metadata": {},
   "outputs": [
    {
     "data": {
      "text/html": [
       "<div>\n",
       "<style scoped>\n",
       "    .dataframe tbody tr th:only-of-type {\n",
       "        vertical-align: middle;\n",
       "    }\n",
       "\n",
       "    .dataframe tbody tr th {\n",
       "        vertical-align: top;\n",
       "    }\n",
       "\n",
       "    .dataframe thead th {\n",
       "        text-align: right;\n",
       "    }\n",
       "</style>\n",
       "<table border=\"1\" class=\"dataframe\">\n",
       "  <thead>\n",
       "    <tr style=\"text-align: right;\">\n",
       "      <th></th>\n",
       "      <th>current_node</th>\n",
       "      <th>next_node</th>\n",
       "      <th>travel_time_s</th>\n",
       "      <th>distance_m</th>\n",
       "      <th>current_stop</th>\n",
       "      <th>next_stop</th>\n",
       "    </tr>\n",
       "  </thead>\n",
       "  <tbody>\n",
       "    <tr>\n",
       "      <th>1148693</th>\n",
       "      <td>202443952</td>\n",
       "      <td>1443059058</td>\n",
       "      <td>338.9</td>\n",
       "      <td>5212.0</td>\n",
       "      <td>BAPSEMNN</td>\n",
       "      <td>MCC5_1</td>\n",
       "    </tr>\n",
       "  </tbody>\n",
       "</table>\n",
       "</div>"
      ],
      "text/plain": [
       "         current_node   next_node  travel_time_s  distance_m current_stop  \\\n",
       "1148693     202443952  1443059058          338.9      5212.0     BAPSEMNN   \n",
       "\n",
       "        next_stop  \n",
       "1148693    MCC5_1  "
      ]
     },
     "execution_count": 37,
     "metadata": {},
     "output_type": "execute_result"
    }
   ],
   "source": [
    "df.query(\"current_stop == 'BAPSEMNN' and next_stop == 'MCC5_1'\")"
   ]
  },
  {
   "cell_type": "code",
   "execution_count": 38,
   "metadata": {},
   "outputs": [],
   "source": [
    "df['key_pair'] = list(zip(df.current_stop, df.next_stop))\n",
    "df = df.set_index('key_pair')"
   ]
  },
  {
   "cell_type": "code",
   "execution_count": 39,
   "metadata": {},
   "outputs": [],
   "source": [
    "stops_tt_dd_dict = df.drop(['current_node', 'next_node', 'current_stop', 'next_stop'], axis=1).to_dict('index')"
   ]
  },
  {
   "cell_type": "code",
   "execution_count": 40,
   "metadata": {},
   "outputs": [
    {
     "data": {
      "text/plain": [
       "{'travel_time_s': 338.8999999999999, 'distance_m': 5212.0}"
      ]
     },
     "execution_count": 40,
     "metadata": {},
     "output_type": "execute_result"
    }
   ],
   "source": [
    "stops_tt_dd_dict[('BAPSEMNN', 'MCC5_1')]"
   ]
  },
  {
   "cell_type": "code",
   "execution_count": 31,
   "metadata": {},
   "outputs": [
    {
     "data": {
      "text/plain": [
       "3284820"
      ]
     },
     "execution_count": 31,
     "metadata": {},
     "output_type": "execute_result"
    }
   ],
   "source": [
    "len(list(stops_tt_dd_dict.keys()))"
   ]
  },
  {
   "cell_type": "code",
   "execution_count": 41,
   "metadata": {},
   "outputs": [],
   "source": [
    "import pickle \n",
    "\n",
    "with open('results/stops_tt_dd_dict.pkl', 'wb') as handle:\n",
    "    pickle.dump(stops_tt_dd_dict, handle, protocol=pickle.HIGHEST_PROTOCOL)"
   ]
  },
  {
   "cell_type": "code",
   "execution_count": 5,
   "metadata": {},
   "outputs": [
    {
     "ename": "KeyboardInterrupt",
     "evalue": "",
     "output_type": "error",
     "traceback": [
      "\u001b[0;31m---------------------------------------------------------------------------\u001b[0m",
      "\u001b[0;31mKeyboardInterrupt\u001b[0m                         Traceback (most recent call last)",
      "\u001b[1;32m/home/jptalusan/gits/mta_simulator_redo/data_generation/all_stops_matching_tt_dd.ipynb Cell 13\u001b[0m in \u001b[0;36m<cell line: 3>\u001b[0;34m()\u001b[0m\n\u001b[1;32m      <a href='vscode-notebook-cell://ssh-remote%2Bdigital-storm-1/home/jptalusan/gits/mta_simulator_redo/data_generation/all_stops_matching_tt_dd.ipynb#X14sdnNjb2RlLXJlbW90ZQ%3D%3D?line=0'>1</a>\u001b[0m stops_tt_dd \u001b[39m=\u001b[39m {}\n\u001b[0;32m----> <a href='vscode-notebook-cell://ssh-remote%2Bdigital-storm-1/home/jptalusan/gits/mta_simulator_redo/data_generation/all_stops_matching_tt_dd.ipynb#X14sdnNjb2RlLXJlbW90ZQ%3D%3D?line=2'>3</a>\u001b[0m \u001b[39mfor\u001b[39;00m k, v \u001b[39min\u001b[39;00m df\u001b[39m.\u001b[39miterrows():\n\u001b[1;32m      <a href='vscode-notebook-cell://ssh-remote%2Bdigital-storm-1/home/jptalusan/gits/mta_simulator_redo/data_generation/all_stops_matching_tt_dd.ipynb#X14sdnNjb2RlLXJlbW90ZQ%3D%3D?line=3'>4</a>\u001b[0m     cn \u001b[39m=\u001b[39m v[\u001b[39m'\u001b[39m\u001b[39mcurrent_node\u001b[39m\u001b[39m'\u001b[39m]\n\u001b[1;32m      <a href='vscode-notebook-cell://ssh-remote%2Bdigital-storm-1/home/jptalusan/gits/mta_simulator_redo/data_generation/all_stops_matching_tt_dd.ipynb#X14sdnNjb2RlLXJlbW90ZQ%3D%3D?line=4'>5</a>\u001b[0m     nn \u001b[39m=\u001b[39m v[\u001b[39m'\u001b[39m\u001b[39mnext_node\u001b[39m\u001b[39m'\u001b[39m]\n",
      "File \u001b[0;32m~/anaconda3/envs/py39/lib/python3.9/site-packages/pandas/core/frame.py:1324\u001b[0m, in \u001b[0;36mDataFrame.iterrows\u001b[0;34m(self)\u001b[0m\n\u001b[1;32m   1322\u001b[0m klass \u001b[39m=\u001b[39m \u001b[39mself\u001b[39m\u001b[39m.\u001b[39m_constructor_sliced\n\u001b[1;32m   1323\u001b[0m \u001b[39mfor\u001b[39;00m k, v \u001b[39min\u001b[39;00m \u001b[39mzip\u001b[39m(\u001b[39mself\u001b[39m\u001b[39m.\u001b[39mindex, \u001b[39mself\u001b[39m\u001b[39m.\u001b[39mvalues):\n\u001b[0;32m-> 1324\u001b[0m     s \u001b[39m=\u001b[39m klass(v, index\u001b[39m=\u001b[39;49mcolumns, name\u001b[39m=\u001b[39;49mk)\n\u001b[1;32m   1325\u001b[0m     \u001b[39myield\u001b[39;00m k, s\n",
      "File \u001b[0;32m~/anaconda3/envs/py39/lib/python3.9/site-packages/pandas/core/series.py:455\u001b[0m, in \u001b[0;36mSeries.__init__\u001b[0;34m(self, data, index, dtype, name, copy, fastpath)\u001b[0m\n\u001b[1;32m    453\u001b[0m manager \u001b[39m=\u001b[39m get_option(\u001b[39m\"\u001b[39m\u001b[39mmode.data_manager\u001b[39m\u001b[39m\"\u001b[39m)\n\u001b[1;32m    454\u001b[0m \u001b[39mif\u001b[39;00m manager \u001b[39m==\u001b[39m \u001b[39m\"\u001b[39m\u001b[39mblock\u001b[39m\u001b[39m\"\u001b[39m:\n\u001b[0;32m--> 455\u001b[0m     data \u001b[39m=\u001b[39m SingleBlockManager\u001b[39m.\u001b[39;49mfrom_array(data, index)\n\u001b[1;32m    456\u001b[0m \u001b[39melif\u001b[39;00m manager \u001b[39m==\u001b[39m \u001b[39m\"\u001b[39m\u001b[39marray\u001b[39m\u001b[39m\"\u001b[39m:\n\u001b[1;32m    457\u001b[0m     data \u001b[39m=\u001b[39m SingleArrayManager\u001b[39m.\u001b[39mfrom_array(data, index)\n",
      "File \u001b[0;32m~/anaconda3/envs/py39/lib/python3.9/site-packages/pandas/core/internals/managers.py:1736\u001b[0m, in \u001b[0;36mSingleBlockManager.from_array\u001b[0;34m(cls, array, index)\u001b[0m\n\u001b[1;32m   1731\u001b[0m \u001b[39m@classmethod\u001b[39m\n\u001b[1;32m   1732\u001b[0m \u001b[39mdef\u001b[39;00m \u001b[39mfrom_array\u001b[39m(\u001b[39mcls\u001b[39m, array: ArrayLike, index: Index) \u001b[39m-\u001b[39m\u001b[39m>\u001b[39m SingleBlockManager:\n\u001b[1;32m   1733\u001b[0m     \u001b[39m\"\"\"\u001b[39;00m\n\u001b[1;32m   1734\u001b[0m \u001b[39m    Constructor for if we have an array that is not yet a Block.\u001b[39;00m\n\u001b[1;32m   1735\u001b[0m \u001b[39m    \"\"\"\u001b[39;00m\n\u001b[0;32m-> 1736\u001b[0m     block \u001b[39m=\u001b[39m new_block(array, placement\u001b[39m=\u001b[39;49m\u001b[39mslice\u001b[39;49m(\u001b[39m0\u001b[39;49m, \u001b[39mlen\u001b[39;49m(index)), ndim\u001b[39m=\u001b[39;49m\u001b[39m1\u001b[39;49m)\n\u001b[1;32m   1737\u001b[0m     \u001b[39mreturn\u001b[39;00m \u001b[39mcls\u001b[39m(block, index)\n",
      "File \u001b[0;32m~/anaconda3/envs/py39/lib/python3.9/site-packages/pandas/core/internals/blocks.py:2051\u001b[0m, in \u001b[0;36mnew_block\u001b[0;34m(values, placement, ndim)\u001b[0m\n\u001b[1;32m   2047\u001b[0m     placement \u001b[39m=\u001b[39m BlockPlacement(placement)\n\u001b[1;32m   2049\u001b[0m check_ndim(values, placement, ndim)\n\u001b[0;32m-> 2051\u001b[0m klass \u001b[39m=\u001b[39m get_block_type(values\u001b[39m.\u001b[39;49mdtype)\n\u001b[1;32m   2053\u001b[0m values \u001b[39m=\u001b[39m maybe_coerce_values(values)\n\u001b[1;32m   2054\u001b[0m \u001b[39mreturn\u001b[39;00m klass(values, ndim\u001b[39m=\u001b[39mndim, placement\u001b[39m=\u001b[39mplacement)\n",
      "File \u001b[0;32m~/anaconda3/envs/py39/lib/python3.9/site-packages/pandas/core/internals/blocks.py:2005\u001b[0m, in \u001b[0;36mget_block_type\u001b[0;34m(dtype)\u001b[0m\n\u001b[1;32m   1992\u001b[0m \u001b[39m\"\"\"\u001b[39;00m\n\u001b[1;32m   1993\u001b[0m \u001b[39mFind the appropriate Block subclass to use for the given values and dtype.\u001b[39;00m\n\u001b[1;32m   1994\u001b[0m \n\u001b[0;32m   (...)\u001b[0m\n\u001b[1;32m   2001\u001b[0m \u001b[39mcls : class, subclass of Block\u001b[39;00m\n\u001b[1;32m   2002\u001b[0m \u001b[39m\"\"\"\u001b[39;00m\n\u001b[1;32m   2003\u001b[0m \u001b[39m# We use vtype and kind checks because they are much more performant\u001b[39;00m\n\u001b[1;32m   2004\u001b[0m \u001b[39m#  than is_foo_dtype\u001b[39;00m\n\u001b[0;32m-> 2005\u001b[0m vtype \u001b[39m=\u001b[39m dtype\u001b[39m.\u001b[39;49mtype\n\u001b[1;32m   2006\u001b[0m kind \u001b[39m=\u001b[39m dtype\u001b[39m.\u001b[39mkind\n\u001b[1;32m   2008\u001b[0m \u001b[39mcls\u001b[39m: \u001b[39mtype\u001b[39m[Block]\n",
      "\u001b[0;31mKeyboardInterrupt\u001b[0m: "
     ]
    }
   ],
   "source": [
    "# stops_tt_dd = {}\n",
    "\n",
    "# for k, v in df.iterrows():\n",
    "#     cn = v['current_node']\n",
    "#     nn = v['next_node']\n",
    "#     tt = v['travel_time_s']\n",
    "#     dd = v['distance_m']\n",
    "#     cs = v['current_stop']\n",
    "#     ns = v['next_stop']\n",
    "    \n",
    "#     stops_tt_dd[cs] = {'next_stop': ns, \n",
    "#                        'travel_time_s': tt,\n",
    "#                        'distance_m': dd}\n"
   ]
  },
  {
   "cell_type": "code",
   "execution_count": 28,
   "metadata": {},
   "outputs": [],
   "source": [
    "travel_time_path = 'results/sampled_travel_times.pkl'\n",
    "df = pd.read_pickle(travel_time_path)\n",
    "#         tdf = self.sampled_travel_time[(self.sampled_travel_time['route_id_direction'] == route_id_dir) & \\\n",
    "#                                        (self.sampled_travel_time['block_abbr'] == block_abbr) & \\\n",
    "#                                        (self.sampled_travel_time['stop_sequence'] == current_stop_number + 1) & \\\n",
    "#                                        (self.sampled_travel_time['stop_id_original'] == stop_id_original) & \\\n",
    "#                                        (self.sampled_travel_time['IsWeekend'] == IsWeekend)]"
   ]
  },
  {
   "cell_type": "code",
   "execution_count": 29,
   "metadata": {},
   "outputs": [],
   "source": [
    "df['key_pair'] = list(zip(df.route_id_direction, df.block_abbr, df.stop_sequence, df.stop_id_original, df.time, df.IsWeekend))\n",
    "df = df.set_index('key_pair')\n",
    "sampled_travel_time_dict = df.drop(['time_to_next_stop', 'route_id_direction', 'block_abbr', 'stop_sequence', 'stop_id_original', 'time', 'IsWeekend'], axis=1).to_dict('index')"
   ]
  },
  {
   "cell_type": "code",
   "execution_count": 34,
   "metadata": {},
   "outputs": [],
   "source": [
    "import pickle \n",
    "\n",
    "with open('results/sampled_travel_times_dict.pkl', 'wb') as handle:\n",
    "    pickle.dump(sampled_travel_time_dict, handle, protocol=pickle.HIGHEST_PROTOCOL)"
   ]
  },
  {
   "cell_type": "code",
   "execution_count": 30,
   "metadata": {},
   "outputs": [
    {
     "data": {
      "text/plain": [
       "('14_FROM DOWNTOWN', 1400, 1, '1SJAMNM', datetime.time(7, 18, 13), 0)"
      ]
     },
     "execution_count": 30,
     "metadata": {},
     "output_type": "execute_result"
    }
   ],
   "source": [
    "list(sampled_travel_time_dict.keys())[0]"
   ]
  },
  {
   "cell_type": "code",
   "execution_count": 31,
   "metadata": {},
   "outputs": [
    {
     "data": {
      "text/plain": [
       "True"
      ]
     },
     "execution_count": 31,
     "metadata": {},
     "output_type": "execute_result"
    }
   ],
   "source": [
    "import datetime as dt\n",
    "\n",
    "dt.datetime.strptime(\"7:18:13\", \"%H:%M:%S\").time() == dt.time(7, 18, 13)"
   ]
  },
  {
   "cell_type": "code",
   "execution_count": 32,
   "metadata": {},
   "outputs": [
    {
     "data": {
      "text/plain": [
       "datetime.time(7, 18, 13)"
      ]
     },
     "execution_count": 32,
     "metadata": {},
     "output_type": "execute_result"
    }
   ],
   "source": [
    "dt.time(7, 18, 13)"
   ]
  },
  {
   "cell_type": "code",
   "execution_count": 35,
   "metadata": {},
   "outputs": [
    {
     "data": {
      "text/plain": [
       "{'sampled_travel_time': 143.0}"
      ]
     },
     "execution_count": 35,
     "metadata": {},
     "output_type": "execute_result"
    }
   ],
   "source": [
    "rid = '14_FROM DOWNTOWN'\n",
    "bid = 1400\n",
    "ssq = 1\n",
    "sid = 'MCC4_20'\n",
    "tme = dt.datetime.strptime(\"7:18:13\", \"%H:%M:%S\").time() \n",
    "wkd = 0\n",
    "key = (rid, bid, ssq, sid, tme, wkd)\n",
    "sampled_travel_time_dict[key]"
   ]
  },
  {
   "cell_type": "code",
   "execution_count": null,
   "metadata": {},
   "outputs": [],
   "source": [
    "('14_FROM DOWNTOWN', 1400, 1, 'MCC4_20', datetime.time(7, 18, 13), 0)"
   ]
  },
  {
   "cell_type": "code",
   "execution_count": 2,
   "metadata": {},
   "outputs": [
    {
     "data": {
      "text/html": [
       "<div>\n",
       "<style scoped>\n",
       "    .dataframe tbody tr th:only-of-type {\n",
       "        vertical-align: middle;\n",
       "    }\n",
       "\n",
       "    .dataframe tbody tr th {\n",
       "        vertical-align: top;\n",
       "    }\n",
       "\n",
       "    .dataframe thead th {\n",
       "        text-align: right;\n",
       "    }\n",
       "</style>\n",
       "<table border=\"1\" class=\"dataframe\">\n",
       "  <thead>\n",
       "    <tr style=\"text-align: right;\">\n",
       "      <th></th>\n",
       "      <th>stop_sequence</th>\n",
       "      <th>stop_id_original</th>\n",
       "      <th>stop_name</th>\n",
       "      <th>map_latitude</th>\n",
       "      <th>map_longitude</th>\n",
       "      <th>nearest_node</th>\n",
       "      <th>nearest_edge</th>\n",
       "    </tr>\n",
       "  </thead>\n",
       "  <tbody>\n",
       "    <tr>\n",
       "      <th>0</th>\n",
       "      <td>24</td>\n",
       "      <td>12ADEMNN</td>\n",
       "      <td>12TH AVE S &amp; DEMONBREUN ST NB</td>\n",
       "      <td>36.154509</td>\n",
       "      <td>-86.786056</td>\n",
       "      <td>202342839</td>\n",
       "      <td>(202342839, 202284281, 0)</td>\n",
       "    </tr>\n",
       "    <tr>\n",
       "      <th>1</th>\n",
       "      <td>22</td>\n",
       "      <td>12ADIVNN</td>\n",
       "      <td>12TH AVE S &amp; DIVISION ST NB</td>\n",
       "      <td>36.150417</td>\n",
       "      <td>-86.784338</td>\n",
       "      <td>202189411</td>\n",
       "      <td>(202300128, 202315471, 0)</td>\n",
       "    </tr>\n",
       "    <tr>\n",
       "      <th>2</th>\n",
       "      <td>24</td>\n",
       "      <td>16SFATSN</td>\n",
       "      <td>16TH ST &amp; FATHERLAND ST SB</td>\n",
       "      <td>36.173512</td>\n",
       "      <td>-86.742468</td>\n",
       "      <td>202301462</td>\n",
       "      <td>(202301462, 202324500, 0)</td>\n",
       "    </tr>\n",
       "    <tr>\n",
       "      <th>3</th>\n",
       "      <td>21</td>\n",
       "      <td>19SFATNN</td>\n",
       "      <td>S 19TH ST &amp; FATHERLAND ST NB</td>\n",
       "      <td>36.172884</td>\n",
       "      <td>-86.737058</td>\n",
       "      <td>202301467</td>\n",
       "      <td>(202301467, 202310609, 0)</td>\n",
       "    </tr>\n",
       "    <tr>\n",
       "      <th>4</th>\n",
       "      <td>47</td>\n",
       "      <td>1SOLDSM</td>\n",
       "      <td>N 1ST ST &amp; OLDHAM ST SB</td>\n",
       "      <td>36.172806</td>\n",
       "      <td>-86.774050</td>\n",
       "      <td>202374591</td>\n",
       "      <td>(202374591, 7251999645, 0)</td>\n",
       "    </tr>\n",
       "    <tr>\n",
       "      <th>...</th>\n",
       "      <td>...</td>\n",
       "      <td>...</td>\n",
       "      <td>...</td>\n",
       "      <td>...</td>\n",
       "      <td>...</td>\n",
       "      <td>...</td>\n",
       "      <td>...</td>\n",
       "    </tr>\n",
       "    <tr>\n",
       "      <th>2095</th>\n",
       "      <td>22</td>\n",
       "      <td>WHIFRANN</td>\n",
       "      <td>WHITES CREEK PIKE &amp; FRANCIS ST NB</td>\n",
       "      <td>36.213771</td>\n",
       "      <td>-86.799842</td>\n",
       "      <td>202301967</td>\n",
       "      <td>(202301963, 202301967, 0)</td>\n",
       "    </tr>\n",
       "    <tr>\n",
       "      <th>2096</th>\n",
       "      <td>3</td>\n",
       "      <td>WHIKENSN</td>\n",
       "      <td>WHITE BRIDGE PIKE &amp; KENDALL SB</td>\n",
       "      <td>36.139637</td>\n",
       "      <td>-86.857509</td>\n",
       "      <td>202258742</td>\n",
       "      <td>(202258742, 202259611, 0)</td>\n",
       "    </tr>\n",
       "    <tr>\n",
       "      <th>2097</th>\n",
       "      <td>10</td>\n",
       "      <td>WHIPOSSN</td>\n",
       "      <td>WHITE BRIDGE PIKE &amp; POST RD SB</td>\n",
       "      <td>36.128043</td>\n",
       "      <td>-86.852227</td>\n",
       "      <td>202246405</td>\n",
       "      <td>(202290049, 202246405, 0)</td>\n",
       "    </tr>\n",
       "    <tr>\n",
       "      <th>2098</th>\n",
       "      <td>7</td>\n",
       "      <td>WHIVINSM</td>\n",
       "      <td>WHITE BRIDGE PIKE &amp; VINE RIDGE DR S</td>\n",
       "      <td>36.133673</td>\n",
       "      <td>-86.858250</td>\n",
       "      <td>2473512360</td>\n",
       "      <td>(202290062, 2473512360, 0)</td>\n",
       "    </tr>\n",
       "    <tr>\n",
       "      <th>2099</th>\n",
       "      <td>21</td>\n",
       "      <td>WHIWTRSF</td>\n",
       "      <td>WHITES CREEK PIKE &amp; W TRINITY LN SB</td>\n",
       "      <td>36.207090</td>\n",
       "      <td>-86.791715</td>\n",
       "      <td>202301934</td>\n",
       "      <td>(202301934, 202301950, 0)</td>\n",
       "    </tr>\n",
       "  </tbody>\n",
       "</table>\n",
       "<p>2100 rows × 7 columns</p>\n",
       "</div>"
      ],
      "text/plain": [
       "      stop_sequence stop_id_original                            stop_name  \\\n",
       "0                24         12ADEMNN        12TH AVE S & DEMONBREUN ST NB   \n",
       "1                22         12ADIVNN          12TH AVE S & DIVISION ST NB   \n",
       "2                24         16SFATSN           16TH ST & FATHERLAND ST SB   \n",
       "3                21         19SFATNN         S 19TH ST & FATHERLAND ST NB   \n",
       "4                47          1SOLDSM              N 1ST ST & OLDHAM ST SB   \n",
       "...             ...              ...                                  ...   \n",
       "2095             22         WHIFRANN    WHITES CREEK PIKE & FRANCIS ST NB   \n",
       "2096              3         WHIKENSN       WHITE BRIDGE PIKE & KENDALL SB   \n",
       "2097             10         WHIPOSSN       WHITE BRIDGE PIKE & POST RD SB   \n",
       "2098              7         WHIVINSM  WHITE BRIDGE PIKE & VINE RIDGE DR S   \n",
       "2099             21         WHIWTRSF  WHITES CREEK PIKE & W TRINITY LN SB   \n",
       "\n",
       "      map_latitude  map_longitude  nearest_node                nearest_edge  \n",
       "0        36.154509     -86.786056     202342839   (202342839, 202284281, 0)  \n",
       "1        36.150417     -86.784338     202189411   (202300128, 202315471, 0)  \n",
       "2        36.173512     -86.742468     202301462   (202301462, 202324500, 0)  \n",
       "3        36.172884     -86.737058     202301467   (202301467, 202310609, 0)  \n",
       "4        36.172806     -86.774050     202374591  (202374591, 7251999645, 0)  \n",
       "...            ...            ...           ...                         ...  \n",
       "2095     36.213771     -86.799842     202301967   (202301963, 202301967, 0)  \n",
       "2096     36.139637     -86.857509     202258742   (202258742, 202259611, 0)  \n",
       "2097     36.128043     -86.852227     202246405   (202290049, 202246405, 0)  \n",
       "2098     36.133673     -86.858250    2473512360  (202290062, 2473512360, 0)  \n",
       "2099     36.207090     -86.791715     202301934   (202301934, 202301950, 0)  \n",
       "\n",
       "[2100 rows x 7 columns]"
      ]
     },
     "execution_count": 2,
     "metadata": {},
     "output_type": "execute_result"
    }
   ],
   "source": [
    "import pandas as pd\n",
    "fp = 'results/stops_node_matching.pkl'\n",
    "df = pd.read_pickle(fp)\n",
    "df"
   ]
  },
  {
   "cell_type": "code",
   "execution_count": 5,
   "metadata": {},
   "outputs": [
    {
     "data": {
      "text/html": [
       "<div>\n",
       "<style scoped>\n",
       "    .dataframe tbody tr th:only-of-type {\n",
       "        vertical-align: middle;\n",
       "    }\n",
       "\n",
       "    .dataframe tbody tr th {\n",
       "        vertical-align: top;\n",
       "    }\n",
       "\n",
       "    .dataframe thead th {\n",
       "        text-align: right;\n",
       "    }\n",
       "</style>\n",
       "<table border=\"1\" class=\"dataframe\">\n",
       "  <thead>\n",
       "    <tr style=\"text-align: right;\">\n",
       "      <th></th>\n",
       "      <th>stop_sequence</th>\n",
       "      <th>stop_id_original</th>\n",
       "      <th>stop_name</th>\n",
       "      <th>map_latitude</th>\n",
       "      <th>map_longitude</th>\n",
       "      <th>nearest_node</th>\n",
       "      <th>nearest_edge</th>\n",
       "    </tr>\n",
       "  </thead>\n",
       "  <tbody>\n",
       "    <tr>\n",
       "      <th>1570</th>\n",
       "      <td>14</td>\n",
       "      <td>WESWILEN</td>\n",
       "      <td>WEST END &amp; WILSON BLVD</td>\n",
       "      <td>36.131239</td>\n",
       "      <td>-86.834654</td>\n",
       "      <td>202384294</td>\n",
       "      <td>(202242765, 202384294, 0)</td>\n",
       "    </tr>\n",
       "  </tbody>\n",
       "</table>\n",
       "</div>"
      ],
      "text/plain": [
       "      stop_sequence stop_id_original               stop_name  map_latitude  \\\n",
       "1570             14         WESWILEN  WEST END & WILSON BLVD     36.131239   \n",
       "\n",
       "      map_longitude  nearest_node               nearest_edge  \n",
       "1570     -86.834654     202384294  (202242765, 202384294, 0)  "
      ]
     },
     "execution_count": 5,
     "metadata": {},
     "output_type": "execute_result"
    }
   ],
   "source": [
    "df[df['stop_id_original'].str.contains('WESWILEN')]"
   ]
  },
  {
   "cell_type": "markdown",
   "metadata": {},
   "source": [
    "## DBSCAN Clustering"
   ]
  },
  {
   "cell_type": "code",
   "execution_count": 86,
   "metadata": {},
   "outputs": [
    {
     "name": "stdout",
     "output_type": "stream",
     "text": [
      "[[  -1   75]\n",
      " [   0 1786]\n",
      " [   1   52]\n",
      " [   2   18]\n",
      " [   3  122]\n",
      " [   4   13]\n",
      " [   5   16]\n",
      " [   6    8]\n",
      " [   7   10]]\n",
      "[[ -1 579]\n",
      " [  0 655]\n",
      " [  1  83]\n",
      " [  2  69]\n",
      " [  3  23]\n",
      " [  4 102]\n",
      " [  5  22]\n",
      " [  6  22]\n",
      " [  7  49]\n",
      " [  8  12]\n",
      " [  9  14]\n",
      " [ 10  13]\n",
      " [ 11  21]\n",
      " [ 12  24]\n",
      " [ 13  10]\n",
      " [ 14  13]\n",
      " [ 15  16]\n",
      " [ 16  18]\n",
      " [ 17  10]\n",
      " [ 18  10]\n",
      " [ 19  21]]\n",
      "21\n"
     ]
    },
    {
     "name": "stderr",
     "output_type": "stream",
     "text": [
      "/home/jptalusan/anaconda3/envs/py39/lib/python3.9/site-packages/geopandas/geodataframe.py:1456: SettingWithCopyWarning: \n",
      "A value is trying to be set on a copy of a slice from a DataFrame.\n",
      "Try using .loc[row_indexer,col_indexer] = value instead\n",
      "\n",
      "See the caveats in the documentation: https://pandas.pydata.org/pandas-docs/stable/user_guide/indexing.html#returning-a-view-versus-a-copy\n",
      "  super().__setitem__(key, value)\n"
     ]
    },
    {
     "data": {
      "text/plain": [
       "<AxesSubplot:>"
      ]
     },
     "execution_count": 86,
     "metadata": {},
     "output_type": "execute_result"
    },
    {
     "data": {
      "image/png": "[encoded data removed]",
      "text/plain": [
       "<Figure size 432x288 with 1 Axes>"
      ]
     },
     "metadata": {
      "needs_background": "light"
     },
     "output_type": "display_data"
    }
   ],
   "source": [
    "from sklearn.cluster import DBSCAN\n",
    "import numpy as np\n",
    "\n",
    "import pandas as pd\n",
    "fp = 'results/stops_node_matching.pkl'\n",
    "df = pd.read_pickle(fp)\n",
    "df\n",
    "\n",
    "db = DBSCAN(eps=0.00019, min_samples=10, metric='haversine')\n",
    "res = db.fit(np.radians(df[['map_latitude', 'map_longitude']]))\n",
    "labels = res.labels_\n",
    "num_clusters = len(set(labels))\n",
    "\n",
    "unique, counts = np.unique(labels, return_counts=True)\n",
    "print(np.asarray((unique, counts)).T)\n",
    "df['label'] = labels\n",
    "\n",
    "import geopandas as gpd\n",
    "gdf = gpd.GeoDataFrame(df, geometry=gpd.points_from_xy(df.map_longitude, df.map_latitude))\n",
    "# gdf.query(\"label == 0\").plot(color='red')\n",
    "df = gdf.query(\"label == 0\")\n",
    "\n",
    "db = DBSCAN(eps=0.00008, min_samples=10, metric='haversine')\n",
    "res = db.fit(np.radians(df[['map_latitude', 'map_longitude']]))\n",
    "labels = res.labels_\n",
    "num_clusters = len(set(labels))\n",
    "\n",
    "unique, counts = np.unique(labels, return_counts=True)\n",
    "print(np.asarray((unique, counts)).T)\n",
    "df['label'] = labels\n",
    "print(num_clusters)\n",
    "ax = gdf.query(\"label == 4\").plot(color='red')\n",
    "gdf.query(\"label == 0\").plot(color='blue', ax=ax)\n",
    "gdf.query(\"label == 2\").plot(color='green', ax=ax)\n",
    "gdf.query(\"label == 1\").plot(color='black', ax=ax)"
   ]
  },
  {
   "cell_type": "markdown",
   "metadata": {},
   "source": [
    "### Break Davidson into grids"
   ]
  },
  {
   "cell_type": "code",
   "execution_count": 91,
   "metadata": {},
   "outputs": [
    {
     "name": "stdout",
     "output_type": "stream",
     "text": [
      "5\n",
      "5\n"
     ]
    },
    {
     "data": {
      "text/plain": [
       "<AxesSubplot:>"
      ]
     },
     "execution_count": 91,
     "metadata": {},
     "output_type": "execute_result"
    },
    {
     "data": {
      "image/png": "[encoded data removed]",
      "text/plain": [
       "<Figure size 432x288 with 1 Axes>"
      ]
     },
     "metadata": {
      "needs_background": "light"
     },
     "output_type": "display_data"
    }
   ],
   "source": [
    "from shapely.geometry import Polygon\n",
    "\n",
    "fp = os.path.join('data', 'shapefiles', \"tncounty\")\n",
    "gdf_county = gpd.read_file(fp)\n",
    "gdf_dav = gdf_county[gdf_county[\"NAME\"] == \"Davidson\"]\n",
    "gdf_david = gdf_dav.to_crs(\"EPSG:4326\")\n",
    "gdf_david.crs\n",
    "xmin, ymin, xmax, ymax = gdf_dav.total_bounds\n",
    "gdf_dav.total_bounds\n",
    "length = 5280 * 8\n",
    "wide = 5280 * 8\n",
    "\n",
    "cols = list(np.arange(xmin, xmax + wide, wide))\n",
    "print(len(cols))\n",
    "rows = list(np.arange(ymin, ymax + length, length))\n",
    "print(len(cols))\n",
    "\n",
    "polygons = []\n",
    "for x in cols[:-1]:\n",
    "    for y in rows[:-1]:\n",
    "        polygons.append(Polygon([(x,y), (x+wide, y), (x+wide, y+length), (x, y+length)]))\n",
    "\n",
    "grid = gpd.GeoDataFrame({'geometry':polygons})\n",
    "fp = os.path.join('data', 'shapefiles', 'grid_shapes.shp')\n",
    "grid.to_file(fp)\n",
    "grid.plot(ax = gdf_dav.plot(color='blue'), color='none', edgecolor='red')"
   ]
  },
  {
   "cell_type": "code",
   "execution_count": null,
   "metadata": {},
   "outputs": [],
   "source": []
  }
 ],
 "metadata": {
  "kernelspec": {
   "display_name": "Python 3.9.13 ('py39')",
   "language": "python",
   "name": "python3"
  },
  "language_info": {
   "codemirror_mode": {
    "name": "ipython",
    "version": 3
   },
   "file_extension": ".py",
   "mimetype": "text/x-python",
   "name": "python",
   "nbconvert_exporter": "python",
   "pygments_lexer": "ipython3",
   "version": "3.9.13"
  },
  "vscode": {
   "interpreter": {
    "hash": "88d12193eb5d2fbe298f9bb9e457ac6a535b56551d0f537fc14a1636657a2895"
   }
  }
 },
 "nbformat": 4,
 "nbformat_minor": 0
}
