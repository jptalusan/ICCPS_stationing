{
 "cells": [
  {
   "cell_type": "markdown",
   "metadata": {},
   "source": [
    "# Notebook mainly for creating the dictionary of stops and travel times/distances for look up"
   ]
  },
  {
   "cell_type": "code",
   "execution_count": 1,
   "metadata": {
    "collapsed": true
   },
   "outputs": [],
   "source": [
    "import os\n",
    "import pandas as pd\n",
    "import pickle"
   ]
  },
  {
   "cell_type": "markdown",
   "metadata": {},
   "source": [
    "## To create the dictionary from the `pair_tt_dd.py` file"
   ]
  },
  {
   "cell_type": "code",
   "execution_count": 54,
   "metadata": {
    "collapsed": false
   },
   "outputs": [],
   "source": [
    "df = pd.read_pickle('results/pair_tt_dd_stops.pkl')\n",
    "df = df.drop_duplicates(subset=['current_node', 'next_node'])\n",
    "df['key_pair'] = list(zip(df.current_node, df.next_node))\n",
    "df = df.set_index('key_pair')\n",
    "stops_tt_dd_dict = df.drop(['current_node', 'next_node', 'current_stop', 'next_stop'], axis=1).to_dict('index')\n",
    "with open('results/stops_tt_dd_node_dict.pkl', 'wb') as handle:\n",
    "    pickle.dump(stops_tt_dd_dict, handle, protocol=pickle.HIGHEST_PROTOCOL)"
   ]
  },
  {
   "cell_type": "markdown",
   "metadata": {},
   "source": [
    "## Creating the stops to node dictionary"
   ]
  },
  {
   "cell_type": "code",
   "execution_count": 62,
   "metadata": {},
   "outputs": [],
   "source": [
    "fp = '/home/jptalusan/mta_simulator/code/data/stops_node_matching.pkl'\n",
    "stop_nodes = pd.read_pickle(fp)\n",
    "stop_nodes = stop_nodes.set_index('stop_id_original')\n",
    "stop_nodes_dict = stop_nodes.drop(['stop_sequence', \n",
    "                                   'stop_name', 'map_latitude', \n",
    "                                   'map_longitude', \n",
    "                                   'nearest_edge'], axis=1).to_dict('index')\n",
    "with open('results/stops_node_matching_dict.pkl', 'wb') as handle:\n",
    "    pickle.dump(stop_nodes_dict, handle, protocol=pickle.HIGHEST_PROTOCOL)"
   ]
  },
  {
   "cell_type": "code",
   "execution_count": 61,
   "metadata": {},
   "outputs": [
    {
     "name": "stdout",
     "output_type": "stream",
     "text": [
      "8231407036 7668988489\n",
      "63.6 960.0269999999999\n"
     ]
    }
   ],
   "source": [
    "# Usage\n",
    "with open('results/stops_tt_dd_node_dict.pkl', 'rb') as handle:\n",
    "    stops_tt_dd_dict = pickle.load(handle)\n",
    "with open('results/stops_node_matching_dict.pkl', 'rb') as handle:\n",
    "    stop_nodes_dict = pickle.load(handle)\n",
    "\n",
    "nn_id = 'DWMRT'\n",
    "cn_id = 'DWMRTX'\n",
    "nn = stop_nodes_dict[nn_id]['nearest_node']\n",
    "cn = stop_nodes_dict[cn_id]['nearest_node']\n",
    "print(cn, nn)\n",
    "\n",
    "tt = stops_tt_dd_dict[(cn, nn)]['travel_time_s']\n",
    "if tt < 0:\n",
    "    tt = stops_tt_dd_dict[(nn, cn)]['travel_time_s']\n",
    "    dd = stops_tt_dd_dict[(nn, cn)]['distance_m']\n",
    "else:\n",
    "    dd = stops_tt_dd_dict[(cn, nn)]['distance_m']\n",
    "print(tt, dd)"
   ]
  },
  {
   "cell_type": "markdown",
   "metadata": {},
   "source": [
    "# Might not be needed anymore vvvvv"
   ]
  },
  {
   "cell_type": "markdown",
   "metadata": {},
   "source": [
    "## To solve the issue of some missing stops in the dictionary\n",
    "* Probably due to not being able to find the exact location of the stop in OSM.\n",
    "* Then it got removed by a drop_duplicate somewhere"
   ]
  },
  {
   "cell_type": "code",
   "execution_count": 2,
   "metadata": {
    "collapsed": false
   },
   "outputs": [
    {
     "data": {
      "text/html": [
       "<div>\n",
       "<style scoped>\n",
       "    .dataframe tbody tr th:only-of-type {\n",
       "        vertical-align: middle;\n",
       "    }\n",
       "\n",
       "    .dataframe tbody tr th {\n",
       "        vertical-align: top;\n",
       "    }\n",
       "\n",
       "    .dataframe thead th {\n",
       "        text-align: right;\n",
       "    }\n",
       "</style>\n",
       "<table border=\"1\" class=\"dataframe\">\n",
       "  <thead>\n",
       "    <tr style=\"text-align: right;\">\n",
       "      <th></th>\n",
       "      <th>stop_sequence</th>\n",
       "      <th>stop_id_original</th>\n",
       "      <th>stop_name</th>\n",
       "      <th>map_latitude</th>\n",
       "      <th>map_longitude</th>\n",
       "      <th>nearest_node</th>\n",
       "      <th>nearest_edge</th>\n",
       "    </tr>\n",
       "  </thead>\n",
       "  <tbody>\n",
       "    <tr>\n",
       "      <th>481</th>\n",
       "      <td>30</td>\n",
       "      <td>MUREXPWN</td>\n",
       "      <td>MURFREESBORO PIKE &amp; EXPRESSWAY PARK</td>\n",
       "      <td>36.145896</td>\n",
       "      <td>-86.753302</td>\n",
       "      <td>202255344</td>\n",
       "      <td>(202255344, 202302733, 0)</td>\n",
       "    </tr>\n",
       "  </tbody>\n",
       "</table>\n",
       "</div>"
      ],
      "text/plain": [
       "     stop_sequence stop_id_original                            stop_name  \\\n",
       "481             30         MUREXPWN  MURFREESBORO PIKE & EXPRESSWAY PARK   \n",
       "\n",
       "     map_latitude  map_longitude  nearest_node               nearest_edge  \n",
       "481     36.145896     -86.753302     202255344  (202255344, 202302733, 0)  "
      ]
     },
     "execution_count": 2,
     "metadata": {},
     "output_type": "execute_result"
    }
   ],
   "source": [
    "df = pd.read_pickle('results/pair_tt_dd_stops.pkl')\n",
    "fp = '/home/jptalusan/mta_simulator/code/data/stops_node_matching.pkl'\n",
    "stop_nodes = pd.read_pickle(fp)\n",
    "stop_nodes.query(\"stop_id_original == 'MUREXPWN'\")\n",
    "\n",
    "# Merging alternative names to prevent failing to find stops.\n",
    "df = pd.merge(stop_nodes[['stop_id_original', 'nearest_node']], df, right_on='current_node', left_on='nearest_node')\n",
    "df = df.drop_duplicates()\n",
    "df = df.drop_duplicates(subset=['stop_id_original','nearest_node','current_node','next_node','travel_time_s','distance_m','current_stop'])\n",
    "df = df[['stop_id_original', 'current_stop']].drop_duplicates().query(\"stop_id_original != current_stop\").drop_duplicates(subset=['stop_id_original'])\n",
    "df = df.set_index('stop_id_original')\n",
    "matching_stop_names_dict = df.to_dict('index')\n",
    "with open('results/matching_stop_names_dict.pkl', 'wb') as handle:\n",
    "    pickle.dump(matching_stop_names_dict, handle, protocol=pickle.HIGHEST_PROTOCOL)"
   ]
  },
  {
   "cell_type": "markdown",
   "metadata": {},
   "source": [
    "## DBSCAN Clustering"
   ]
  },
  {
   "cell_type": "code",
   "execution_count": null,
   "metadata": {},
   "outputs": [
    {
     "name": "stdout",
     "output_type": "stream",
     "text": [
      "[[  -1   75]\n",
      " [   0 1786]\n",
      " [   1   52]\n",
      " [   2   18]\n",
      " [   3  122]\n",
      " [   4   13]\n",
      " [   5   16]\n",
      " [   6    8]\n",
      " [   7   10]]\n",
      "[[ -1 579]\n",
      " [  0 655]\n",
      " [  1  83]\n",
      " [  2  69]\n",
      " [  3  23]\n",
      " [  4 102]\n",
      " [  5  22]\n",
      " [  6  22]\n",
      " [  7  49]\n",
      " [  8  12]\n",
      " [  9  14]\n",
      " [ 10  13]\n",
      " [ 11  21]\n",
      " [ 12  24]\n",
      " [ 13  10]\n",
      " [ 14  13]\n",
      " [ 15  16]\n",
      " [ 16  18]\n",
      " [ 17  10]\n",
      " [ 18  10]\n",
      " [ 19  21]]\n",
      "21\n"
     ]
    },
    {
     "name": "stderr",
     "output_type": "stream",
     "text": [
      "/home/jptalusan/anaconda3/envs/py39/lib/python3.9/site-packages/geopandas/geodataframe.py:1456: SettingWithCopyWarning: \n",
      "A value is trying to be set on a copy of a slice from a DataFrame.\n",
      "Try using .loc[row_indexer,col_indexer] = value instead\n",
      "\n",
      "See the caveats in the documentation: https://pandas.pydata.org/pandas-docs/stable/user_guide/indexing.html#returning-a-view-versus-a-copy\n",
      "  super().__setitem__(key, value)\n"
     ]
    },
    {
     "data": {
      "text/plain": [
       "<AxesSubplot:>"
      ]
     },
     "metadata": {},
     "output_type": "display_data"
    },
    {
     "data": {
      "image/png": "[encoded data removed]",
      "text/plain": [
       "<Figure size 432x288 with 1 Axes>"
      ]
     },
     "metadata": {},
     "output_type": "display_data"
    }
   ],
   "source": [
    "from sklearn.cluster import DBSCAN\n",
    "import numpy as np\n",
    "\n",
    "import pandas as pd\n",
    "fp = 'results/stops_node_matching.pkl'\n",
    "df = pd.read_pickle(fp)\n",
    "df\n",
    "\n",
    "db = DBSCAN(eps=0.00019, min_samples=10, metric='haversine')\n",
    "res = db.fit(np.radians(df[['map_latitude', 'map_longitude']]))\n",
    "labels = res.labels_\n",
    "num_clusters = len(set(labels))\n",
    "\n",
    "unique, counts = np.unique(labels, return_counts=True)\n",
    "print(np.asarray((unique, counts)).T)\n",
    "df['label'] = labels\n",
    "\n",
    "import geopandas as gpd\n",
    "gdf = gpd.GeoDataFrame(df, geometry=gpd.points_from_xy(df.map_longitude, df.map_latitude))\n",
    "# gdf.query(\"label == 0\").plot(color='red')\n",
    "df = gdf.query(\"label == 0\")\n",
    "\n",
    "db = DBSCAN(eps=0.00008, min_samples=10, metric='haversine')\n",
    "res = db.fit(np.radians(df[['map_latitude', 'map_longitude']]))\n",
    "labels = res.labels_\n",
    "num_clusters = len(set(labels))\n",
    "\n",
    "unique, counts = np.unique(labels, return_counts=True)\n",
    "print(np.asarray((unique, counts)).T)\n",
    "df['label'] = labels\n",
    "print(num_clusters)\n",
    "ax = gdf.query(\"label == 4\").plot(color='red')\n",
    "gdf.query(\"label == 0\").plot(color='blue', ax=ax)\n",
    "gdf.query(\"label == 2\").plot(color='green', ax=ax)\n",
    "gdf.query(\"label == 1\").plot(color='black', ax=ax)"
   ]
  },
  {
   "cell_type": "markdown",
   "metadata": {},
   "source": [
    "### Break Davidson into grids"
   ]
  },
  {
   "cell_type": "code",
   "execution_count": null,
   "metadata": {},
   "outputs": [
    {
     "name": "stdout",
     "output_type": "stream",
     "text": [
      "5\n",
      "5\n"
     ]
    },
    {
     "data": {
      "text/plain": [
       "<AxesSubplot:>"
      ]
     },
     "metadata": {},
     "output_type": "display_data"
    },
    {
     "data": {
      "image/png": "[encoded data removed]",
      "text/plain": [
       "<Figure size 432x288 with 1 Axes>"
      ]
     },
     "metadata": {},
     "output_type": "display_data"
    }
   ],
   "source": [
    "from shapely.geometry import Polygon\n",
    "\n",
    "fp = os.path.join('data', 'shapefiles', \"tncounty\")\n",
    "gdf_county = gpd.read_file(fp)\n",
    "gdf_dav = gdf_county[gdf_county[\"NAME\"] == \"Davidson\"]\n",
    "gdf_david = gdf_dav.to_crs(\"EPSG:4326\")\n",
    "gdf_david.crs\n",
    "xmin, ymin, xmax, ymax = gdf_dav.total_bounds\n",
    "gdf_dav.total_bounds\n",
    "length = 5280 * 8\n",
    "wide = 5280 * 8\n",
    "\n",
    "cols = list(np.arange(xmin, xmax + wide, wide))\n",
    "print(len(cols))\n",
    "rows = list(np.arange(ymin, ymax + length, length))\n",
    "print(len(cols))\n",
    "\n",
    "polygons = []\n",
    "for x in cols[:-1]:\n",
    "    for y in rows[:-1]:\n",
    "        polygons.append(Polygon([(x,y), (x+wide, y), (x+wide, y+length), (x, y+length)]))\n",
    "\n",
    "grid = gpd.GeoDataFrame({'geometry':polygons})\n",
    "fp = os.path.join('data', 'shapefiles', 'grid_shapes.shp')\n",
    "grid.to_file(fp)\n",
    "grid.plot(ax = gdf_dav.plot(color='blue'), color='none', edgecolor='red')"
   ]
  }
 ],
 "metadata": {
  "kernelspec": {
   "display_name": "Python 3.9.13 ('py39')",
   "language": "python",
   "name": "python3"
  },
  "language_info": {
   "codemirror_mode": {
    "name": "ipython",
    "version": 3
   },
   "file_extension": ".py",
   "mimetype": "text/x-python",
   "name": "python",
   "nbconvert_exporter": "python",
   "pygments_lexer": "ipython3",
   "version": "3.9.13"
  },
  "vscode": {
   "interpreter": {
    "hash": "88d12193eb5d2fbe298f9bb9e457ac6a535b56551d0f537fc14a1636657a2895"
   }
  }
 },
 "nbformat": 4,
 "nbformat_minor": 0
}
