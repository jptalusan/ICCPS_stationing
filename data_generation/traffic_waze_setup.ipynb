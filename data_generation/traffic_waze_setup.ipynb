{
 "cells": [
  {
   "cell_type": "code",
   "execution_count": 1,
   "metadata": {},
   "outputs": [
    {
     "name": "stderr",
     "output_type": "stream",
     "text": [
      "/home/jptalusan/anaconda3/envs/py39/lib/python3.9/site-packages/geopandas/_compat.py:123: UserWarning: The Shapely GEOS version (3.10.3-CAPI-1.16.1) is incompatible with the GEOS version PyGEOS was compiled with (3.11.1-CAPI-1.17.1). Conversions between both will be slow.\n",
      "  warnings.warn(\n"
     ]
    }
   ],
   "source": [
    "import gtfs_kit as gk\n",
    "import geopandas as gpd\n",
    "import datetime as dt\n",
    "import re\n",
    "import pandas as pd\n",
    "from plotly.subplots import make_subplots\n",
    "import shapely\n",
    "import warnings\n",
    "from shapely.errors import ShapelyDeprecationWarning\n",
    "warnings.filterwarnings(\"ignore\", category=ShapelyDeprecationWarning) "
   ]
  },
  {
   "cell_type": "code",
   "execution_count": 10,
   "metadata": {},
   "outputs": [],
   "source": [
    "gdf = gpd.read_file('../data_generation/data/shapefiles/tncounty', crs=4326)\n",
    "gdf = gdf.query(\"NAME == 'Davidson'\")\n",
    "gdf = gdf.to_crs(\"EPSG:4326\")"
   ]
  },
  {
   "cell_type": "code",
   "execution_count": 11,
   "metadata": {},
   "outputs": [
    {
     "name": "stdout",
     "output_type": "stream",
     "text": [
      "POLYGON ((-86.50089282036289 36.392667406224554, -87.03606572098616 36.41960602242327, -87.05768574582721 35.99009430139107, -86.52251284520395 35.963155685192355, -86.50089282036289 36.392667406224554))\n"
     ]
    }
   ],
   "source": [
    "print(gdf.geometry.iloc[0].minimum_rotated_rectangle)"
   ]
  },
  {
   "cell_type": "code",
   "execution_count": null,
   "metadata": {},
   "outputs": [],
   "source": [
    "#### Query for BigQuery ####\n",
    "\n",
    "# Select \n",
    "#   date(ts) as date,\n",
    "#   EXTRACT(hour from ts) as hour,\n",
    "#   EXTRACT(minute from ts) as minute,\n",
    "#   EXTRACT(second from ts) as second,\n",
    "#   EXTRACT(DAYOFWEEK from ts) as day_of_week,\n",
    "#   country,\n",
    "#   city,\n",
    "#   street,\n",
    "#   type,\n",
    "#   subtype,\n",
    "#   uuid,\n",
    "#   confidence,\n",
    "#   geo,\n",
    "#   reliability,\n",
    "#   magvar,\n",
    "#   reportrating, \n",
    "# FROM \n",
    "#   waze-public-dataset.partner_VanderbiltUniversity.view_alerts_clustered\n",
    "# WHERE \n",
    "#   type = \"ACCIDENT\"\n",
    "#   AND ST_DWITHIN(ST_GEOGFROMTEXT('POLYGON ((-86.50089282036289 36.392667406224554, -87.03606572098616 36.41960602242327, -87.05768574582721 35.99009430139107, -86.52251284520395 35.963155685192355, -86.50089282036289 36.392667406224554))'), geo, 1)\n",
    "#   AND DATE(ts) >= \"2022-12-01\" \n",
    "#   AND DATE(ts) <= \"2022-12-31\"\n",
    "# order by  \n",
    "#   ts asc\n",
    "# LIMIT 10\n"
   ]
  }
 ],
 "metadata": {
  "kernelspec": {
   "display_name": "py39",
   "language": "python",
   "name": "python3"
  },
  "language_info": {
   "codemirror_mode": {
    "name": "ipython",
    "version": 3
   },
   "file_extension": ".py",
   "mimetype": "text/x-python",
   "name": "python",
   "nbconvert_exporter": "python",
   "pygments_lexer": "ipython3",
   "version": "3.9.15"
  },
  "orig_nbformat": 4,
  "vscode": {
   "interpreter": {
    "hash": "88d12193eb5d2fbe298f9bb9e457ac6a535b56551d0f537fc14a1636657a2895"
   }
  }
 },
 "nbformat": 4,
 "nbformat_minor": 2
}
