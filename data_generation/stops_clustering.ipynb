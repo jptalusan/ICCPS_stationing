{
 "cells": [
  {
   "cell_type": "code",
   "execution_count": 1,
   "metadata": {},
   "outputs": [
    {
     "name": "stderr",
     "output_type": "stream",
     "text": [
      "/home/jptalusan/anaconda3/envs/py39/lib/python3.9/site-packages/geopandas/_compat.py:123: UserWarning: The Shapely GEOS version (3.10.3-CAPI-1.16.1) is incompatible with the GEOS version PyGEOS was compiled with (3.11.1-CAPI-1.17.1). Conversions between both will be slow.\n",
      "  warnings.warn(\n"
     ]
    }
   ],
   "source": [
    "import pandas as pd\n",
    "import geopandas as gpd\n",
    "import os\n",
    "import gtfs_kit as gk\n",
    "import osmnx as ox"
   ]
  },
  {
   "cell_type": "code",
   "execution_count": 2,
   "metadata": {},
   "outputs": [
    {
     "name": "stdout",
     "output_type": "stream",
     "text": [
      "Shape: (5066, 10)\n"
     ]
    }
   ],
   "source": [
    "# Get service disruption dataset\n",
    "fp = os.path.join('data', 'Service Disruptions_07_2019_08_2022.csv')\n",
    "disruptions_df = pd.read_csv(fp)\n",
    "disruptions_df.head()\n",
    "disruptions_df['DATETIME'] = disruptions_df['DATE'] + ' ' + disruptions_df['TIME']\n",
    "disruptions_df['DATE'] = pd.to_datetime(disruptions_df['DATE'], format='%m/%d/%y', errors='coerce')\n",
    "disruptions_df['TIME'] = pd.to_datetime(disruptions_df['TIME'], format='%H:%M:%S', errors='coerce')\n",
    "disruptions_df['DATETIME'] = pd.to_datetime(disruptions_df['DATETIME'], format='%m/%d/%y %H:%M:%S', errors='coerce')\n",
    "\n",
    "# Remove weather related disruptions\n",
    "# disruptions_df = disruptions_df[(disruptions_df['REASON'] != 'Weather')].sort_values(by=['DATETIME']).reset_index(drop=True)\n",
    "print('Shape:', disruptions_df.shape)\n",
    "# disruptions_df = disruptions_df.drop(columns=['COMMENTS'])\n",
    "disruptions_df['BLOCK'] = disruptions_df['BLOCK'].astype('int32')\n",
    "\n",
    "# Convert to spark dataframe for merging\n",
    "# disruptions_sp = spark.createDataFrame(disruptions_df)\n",
    "# disruptions_sp = disruptions_sp.withColumn(\"BLOCK\", F.col(\"BLOCK\").cast(IntegerType()))"
   ]
  },
  {
   "cell_type": "code",
   "execution_count": 3,
   "metadata": {},
   "outputs": [
    {
     "data": {
      "text/html": [
       "<div>\n",
       "<style scoped>\n",
       "    .dataframe tbody tr th:only-of-type {\n",
       "        vertical-align: middle;\n",
       "    }\n",
       "\n",
       "    .dataframe tbody tr th {\n",
       "        vertical-align: top;\n",
       "    }\n",
       "\n",
       "    .dataframe thead th {\n",
       "        text-align: right;\n",
       "    }\n",
       "</style>\n",
       "<table border=\"1\" class=\"dataframe\">\n",
       "  <thead>\n",
       "    <tr style=\"text-align: right;\">\n",
       "      <th></th>\n",
       "      <th>DATETIME</th>\n",
       "      <th>BLOCK</th>\n",
       "      <th>REASON</th>\n",
       "      <th>COMMENTS</th>\n",
       "      <th>START_STOP_ABBR</th>\n",
       "      <th>geometry</th>\n",
       "    </tr>\n",
       "  </thead>\n",
       "  <tbody>\n",
       "    <tr>\n",
       "      <th>0</th>\n",
       "      <td>2020-05-11 16:31:00</td>\n",
       "      <td>1400</td>\n",
       "      <td>Passenger Incident</td>\n",
       "      <td>Passenger Incident, 99 opr to cover outbound...jf</td>\n",
       "      <td>WHIMOONN</td>\n",
       "      <td>POINT (-86.80345 36.21818)</td>\n",
       "    </tr>\n",
       "    <tr>\n",
       "      <th>1</th>\n",
       "      <td>2020-06-22 06:32:00</td>\n",
       "      <td>1400</td>\n",
       "      <td>Accident</td>\n",
       "      <td>Accident,Bus not involved,No 99 needed at this...</td>\n",
       "      <td>WHIMOONN</td>\n",
       "      <td>POINT (-86.80345 36.21818)</td>\n",
       "    </tr>\n",
       "    <tr>\n",
       "      <th>2</th>\n",
       "      <td>2020-06-26 07:15:00</td>\n",
       "      <td>1400</td>\n",
       "      <td>Mechanical</td>\n",
       "      <td>Mechanical, 99 covered outbound trip</td>\n",
       "      <td>MCC4_20</td>\n",
       "      <td>POINT (-86.78192 36.16709)</td>\n",
       "    </tr>\n",
       "    <tr>\n",
       "      <th>3</th>\n",
       "      <td>2020-08-06 16:15:00</td>\n",
       "      <td>1400</td>\n",
       "      <td>Accident</td>\n",
       "      <td>Accident along route, 99 covered the OB trip-DB</td>\n",
       "      <td>MCC4_20</td>\n",
       "      <td>POINT (-86.78192 36.16709)</td>\n",
       "    </tr>\n",
       "    <tr>\n",
       "      <th>4</th>\n",
       "      <td>2020-10-15 06:38:00</td>\n",
       "      <td>1400</td>\n",
       "      <td>Mechanical</td>\n",
       "      <td>Mechanical,99 covered inbound trip</td>\n",
       "      <td>ROWBUESN</td>\n",
       "      <td>POINT (-86.81951 36.21714)</td>\n",
       "    </tr>\n",
       "  </tbody>\n",
       "</table>\n",
       "</div>"
      ],
      "text/plain": [
       "             DATETIME  BLOCK              REASON  \\\n",
       "0 2020-05-11 16:31:00   1400  Passenger Incident   \n",
       "1 2020-06-22 06:32:00   1400            Accident   \n",
       "2 2020-06-26 07:15:00   1400          Mechanical   \n",
       "3 2020-08-06 16:15:00   1400            Accident   \n",
       "4 2020-10-15 06:38:00   1400          Mechanical   \n",
       "\n",
       "                                            COMMENTS START_STOP_ABBR  \\\n",
       "0  Passenger Incident, 99 opr to cover outbound...jf        WHIMOONN   \n",
       "1  Accident,Bus not involved,No 99 needed at this...        WHIMOONN   \n",
       "2               Mechanical, 99 covered outbound trip         MCC4_20   \n",
       "3    Accident along route, 99 covered the OB trip-DB         MCC4_20   \n",
       "4                 Mechanical,99 covered inbound trip        ROWBUESN   \n",
       "\n",
       "                     geometry  \n",
       "0  POINT (-86.80345 36.21818)  \n",
       "1  POINT (-86.80345 36.21818)  \n",
       "2  POINT (-86.78192 36.16709)  \n",
       "3  POINT (-86.78192 36.16709)  \n",
       "4  POINT (-86.81951 36.21714)  "
      ]
     },
     "execution_count": 3,
     "metadata": {},
     "output_type": "execute_result"
    }
   ],
   "source": [
    "disruptions_df = gpd.GeoDataFrame(disruptions_df, geometry=gpd.points_from_xy(disruptions_df.START_STOP_LONGITUDE, disruptions_df.START_STOP_LATITUDE))\n",
    "disruptions_df = disruptions_df.set_crs('EPSG:4326')\n",
    "disruptions_df = disruptions_df[['DATETIME', 'BLOCK', 'REASON', 'COMMENTS', 'START_STOP_ABBR', 'geometry']]\n",
    "disruptions_df.head()"
   ]
  },
  {
   "cell_type": "code",
   "execution_count": 4,
   "metadata": {},
   "outputs": [
    {
     "data": {
      "text/html": [
       "<div>\n",
       "<style scoped>\n",
       "    .dataframe tbody tr th:only-of-type {\n",
       "        vertical-align: middle;\n",
       "    }\n",
       "\n",
       "    .dataframe tbody tr th {\n",
       "        vertical-align: top;\n",
       "    }\n",
       "\n",
       "    .dataframe thead th {\n",
       "        text-align: right;\n",
       "    }\n",
       "</style>\n",
       "<table border=\"1\" class=\"dataframe\">\n",
       "  <thead>\n",
       "    <tr style=\"text-align: right;\">\n",
       "      <th></th>\n",
       "      <th>type</th>\n",
       "      <th>message</th>\n",
       "      <th>table</th>\n",
       "      <th>rows</th>\n",
       "    </tr>\n",
       "  </thead>\n",
       "  <tbody>\n",
       "    <tr>\n",
       "      <th>1</th>\n",
       "      <td>error</td>\n",
       "      <td>Invalid arrival_time; maybe has extra space ch...</td>\n",
       "      <td>stop_times</td>\n",
       "      <td>[369, 370, 371, 372, 373, 374, 375, 376, 377, ...</td>\n",
       "    </tr>\n",
       "    <tr>\n",
       "      <th>2</th>\n",
       "      <td>error</td>\n",
       "      <td>Invalid departure_time; maybe has extra space ...</td>\n",
       "      <td>stop_times</td>\n",
       "      <td>[369, 370, 371, 372, 373, 374, 375, 376, 377, ...</td>\n",
       "    </tr>\n",
       "    <tr>\n",
       "      <th>0</th>\n",
       "      <td>warning</td>\n",
       "      <td>Feed expired</td>\n",
       "      <td>calendar/calendar_dates</td>\n",
       "      <td>[]</td>\n",
       "    </tr>\n",
       "  </tbody>\n",
       "</table>\n",
       "</div>"
      ],
      "text/plain": [
       "      type                                            message  \\\n",
       "1    error  Invalid arrival_time; maybe has extra space ch...   \n",
       "2    error  Invalid departure_time; maybe has extra space ...   \n",
       "0  warning                                       Feed expired   \n",
       "\n",
       "                     table                                               rows  \n",
       "1               stop_times  [369, 370, 371, 372, 373, 374, 375, 376, 377, ...  \n",
       "2               stop_times  [369, 370, 371, 372, 373, 374, 375, 376, 377, ...  \n",
       "0  calendar/calendar_dates                                                 []  "
      ]
     },
     "execution_count": 4,
     "metadata": {},
     "output_type": "execute_result"
    }
   ],
   "source": [
    "fp = '/home/jptalusan/gits/mta_simulator_redo/data_generation/data/GTFS/OCT2021/gtfs.zip'\n",
    "feed = gk.read_feed(fp, dist_units='km')\n",
    "feed.validate()"
   ]
  },
  {
   "cell_type": "code",
   "execution_count": 5,
   "metadata": {},
   "outputs": [
    {
     "data": {
      "text/html": [
       "<div>\n",
       "<style scoped>\n",
       "    .dataframe tbody tr th:only-of-type {\n",
       "        vertical-align: middle;\n",
       "    }\n",
       "\n",
       "    .dataframe tbody tr th {\n",
       "        vertical-align: top;\n",
       "    }\n",
       "\n",
       "    .dataframe thead th {\n",
       "        text-align: right;\n",
       "    }\n",
       "</style>\n",
       "<table border=\"1\" class=\"dataframe\">\n",
       "  <thead>\n",
       "    <tr style=\"text-align: right;\">\n",
       "      <th></th>\n",
       "      <th>stop_id</th>\n",
       "      <th>stop_name</th>\n",
       "      <th>stop_lat</th>\n",
       "      <th>stop_lon</th>\n",
       "      <th>geometry</th>\n",
       "    </tr>\n",
       "  </thead>\n",
       "  <tbody>\n",
       "    <tr>\n",
       "      <th>0</th>\n",
       "      <td>10AHERNN</td>\n",
       "      <td>10TH AVE N &amp; HERMAN ST NB</td>\n",
       "      <td>36.168831</td>\n",
       "      <td>-86.792339</td>\n",
       "      <td>POINT (-86.79234 36.16883)</td>\n",
       "    </tr>\n",
       "  </tbody>\n",
       "</table>\n",
       "</div>"
      ],
      "text/plain": [
       "    stop_id                  stop_name   stop_lat   stop_lon  \\\n",
       "0  10AHERNN  10TH AVE N & HERMAN ST NB  36.168831 -86.792339   \n",
       "\n",
       "                     geometry  \n",
       "0  POINT (-86.79234 36.16883)  "
      ]
     },
     "execution_count": 5,
     "metadata": {},
     "output_type": "execute_result"
    }
   ],
   "source": [
    "stops_df = gk.get_stops(feed)[['stop_id', 'stop_name', 'stop_lat', 'stop_lon']]\n",
    "stops_df = gpd.GeoDataFrame(stops_df, geometry=gpd.points_from_xy(stops_df.stop_lon, stops_df.stop_lat))\n",
    "stops_df = stops_df.set_crs('EPSG:4326')\n",
    "stops_df.head(1)"
   ]
  },
  {
   "cell_type": "code",
   "execution_count": 6,
   "metadata": {},
   "outputs": [],
   "source": [
    "disruptions_df = pd.merge(disruptions_df, stops_df[['stop_id', 'geometry']], left_on='START_STOP_ABBR', right_on='stop_id', how='left', suffixes=(\"_report\", \"_gtfs\"))\n",
    "disruptions_df = disruptions_df.rename({\"geometry_gtfs\":\"geometry\"}, axis=1)\n",
    "disruptions_df = disruptions_df.set_geometry(\"geometry\")\n",
    "# Assign disruption report geometry to overall geometry if couldn't find match\n",
    "disruptions_df.loc[disruptions_df['stop_id'].isnull(), 'geometry'] = disruptions_df[disruptions_df['stop_id'].isnull()]['geometry_report']"
   ]
  },
  {
   "cell_type": "code",
   "execution_count": 7,
   "metadata": {},
   "outputs": [],
   "source": [
    "mapbox_access_token = \"pk.eyJ1Ijoidmlzb3ItdnUiLCJhIjoiY2tkdTZteWt4MHZ1cDJ4cXMwMnkzNjNwdSJ9.-O6AIHBGu4oLy3dQ3Tu2XA\"\n",
    "MAPBOX_ACCESS_TOKEN = mapbox_access_token"
   ]
  },
  {
   "cell_type": "code",
   "execution_count": 8,
   "metadata": {},
   "outputs": [],
   "source": [
    "fp = os.path.join('data', 'shapefiles', \"tncounty\")\n",
    "gdf_county = gpd.read_file(fp)\n",
    "gdf_dav = gdf_county[gdf_county[\"NAME\"] == \"Davidson\"]\n",
    "gdf_dav = gdf_dav.to_crs(\"EPSG:4326\")\n",
    "\n",
    "fp_G = os.path.join('data', 'davidson_graph.graphml')\n",
    "if not os.path.exists(fp_G):\n",
    "    G = ox.graph_from_polygon(gdf_dav.geometry.iloc[0], network_type='drive')\n",
    "    # G = ox.add_edge_speeds(G)\n",
    "    # G = ox.add_edge_travel_times(G)\n",
    "\n",
    "    ox.save_graphml(G, fp_G)\n",
    "else:\n",
    "    G = ox.load_graphml(fp_G)\n",
    "\n",
    "nodes, edges = ox.graph_to_gdfs(G)"
   ]
  },
  {
   "cell_type": "code",
   "execution_count": 9,
   "metadata": {},
   "outputs": [
    {
     "data": {
      "text/html": [
       "<div>\n",
       "<style scoped>\n",
       "    .dataframe tbody tr th:only-of-type {\n",
       "        vertical-align: middle;\n",
       "    }\n",
       "\n",
       "    .dataframe tbody tr th {\n",
       "        vertical-align: top;\n",
       "    }\n",
       "\n",
       "    .dataframe thead th {\n",
       "        text-align: right;\n",
       "    }\n",
       "</style>\n",
       "<table border=\"1\" class=\"dataframe\">\n",
       "  <thead>\n",
       "    <tr style=\"text-align: right;\">\n",
       "      <th></th>\n",
       "      <th>geometry</th>\n",
       "      <th>XDSegID</th>\n",
       "      <th>PreviousXD</th>\n",
       "      <th>NextXDSegI</th>\n",
       "      <th>FRC</th>\n",
       "      <th>County_inrix</th>\n",
       "      <th>Miles</th>\n",
       "      <th>Lanes</th>\n",
       "      <th>SlipRoad</th>\n",
       "      <th>StartLat</th>\n",
       "      <th>...</th>\n",
       "      <th>WayStartOffset_m</th>\n",
       "      <th>WayEndOffset_m</th>\n",
       "      <th>WayStartOffset_percent</th>\n",
       "      <th>WayEndOffset_percent</th>\n",
       "      <th>iSF_length</th>\n",
       "      <th>iSF_length_min</th>\n",
       "      <th>Nearest_Weather_Station</th>\n",
       "      <th>MyGrouping_3</th>\n",
       "      <th>MyGrouping_3_id</th>\n",
       "      <th>MyGrouping_3_id_miles</th>\n",
       "    </tr>\n",
       "  </thead>\n",
       "  <tbody>\n",
       "    <tr>\n",
       "      <th>5954</th>\n",
       "      <td>LINESTRING (-86.770 36.120, -86.770 36.120)</td>\n",
       "      <td>155711459.0</td>\n",
       "      <td>NaN</td>\n",
       "      <td>NaN</td>\n",
       "      <td>4</td>\n",
       "      <td>davidson</td>\n",
       "      <td>0.027042</td>\n",
       "      <td>1.0</td>\n",
       "      <td>False</td>\n",
       "      <td>36.1199</td>\n",
       "      <td>...</td>\n",
       "      <td>404.08</td>\n",
       "      <td>447.6</td>\n",
       "      <td>48.607</td>\n",
       "      <td>53.842</td>\n",
       "      <td>1.0</td>\n",
       "      <td>1.0</td>\n",
       "      <td>723270-13897</td>\n",
       "      <td>8109150</td>\n",
       "      <td>NaN</td>\n",
       "      <td>NaN</td>\n",
       "    </tr>\n",
       "  </tbody>\n",
       "</table>\n",
       "<p>1 rows × 30 columns</p>\n",
       "</div>"
      ],
      "text/plain": [
       "                                         geometry      XDSegID  PreviousXD  \\\n",
       "5954  LINESTRING (-86.770 36.120, -86.770 36.120)  155711459.0         NaN   \n",
       "\n",
       "      NextXDSegI  FRC County_inrix     Miles  Lanes  SlipRoad  StartLat  ...  \\\n",
       "5954         NaN    4     davidson  0.027042    1.0     False   36.1199  ...   \n",
       "\n",
       "      WayStartOffset_m  WayEndOffset_m  WayStartOffset_percent  \\\n",
       "5954            404.08           447.6                  48.607   \n",
       "\n",
       "     WayEndOffset_percent  iSF_length iSF_length_min Nearest_Weather_Station  \\\n",
       "5954               53.842         1.0            1.0            723270-13897   \n",
       "\n",
       "     MyGrouping_3 MyGrouping_3_id MyGrouping_3_id_miles  \n",
       "5954      8109150             NaN                   NaN  \n",
       "\n",
       "[1 rows x 30 columns]"
      ]
     },
     "execution_count": 9,
     "metadata": {},
     "output_type": "execute_result"
    }
   ],
   "source": [
    "fp = os.path.join('data', 'inrix_grouped.pkl')\n",
    "inrix_grouped = pd.read_pickle(fp)\n",
    "inrix_grouped = inrix_grouped.set_geometry('geometry')\n",
    "inrix_grouped = inrix_grouped[inrix_grouped.within(gdf_dav.geometry.iloc[0])]\n",
    "# inrix_grouped = inrix_grouped.to_crs(\"EPSG:4326\")\n",
    "inrix_grouped.head(1)"
   ]
  },
  {
   "cell_type": "code",
   "execution_count": 10,
   "metadata": {},
   "outputs": [
    {
     "name": "stderr",
     "output_type": "stream",
     "text": [
      "/tmp/ipykernel_118222/1676473668.py:4: UserWarning: CRS mismatch between the CRS of left geometries and the CRS of right geometries.\n",
      "Use `to_crs()` to reproject one of the input geometries to match the CRS of the other.\n",
      "\n",
      "Left CRS: EPSG:4326\n",
      "Right CRS: EPSG:3310\n",
      "\n",
      "  gdfn = gpd.sjoin_nearest(\n",
      "/home/jptalusan/anaconda3/envs/py39/lib/python3.9/site-packages/geopandas/array.py:344: UserWarning: Geometry is in a geographic CRS. Results from 'sjoin_nearest' are likely incorrect. Use 'GeoSeries.to_crs()' to re-project geometries to a projected CRS before this operation.\n",
      "\n",
      "  warnings.warn(\n"
     ]
    }
   ],
   "source": [
    "# https://stackoverflow.com/questions/70436611/fast-way-to-check-if-a-list-of-points-is-close-to-a-list-of-linestrings-in-pytho\n",
    "# find nearest line to each point (hospital)\n",
    "def nr_dist():\n",
    "    gdfn = gpd.sjoin_nearest(\n",
    "        disruptions_df,\n",
    "        inrix_grouped\n",
    "    ).merge(inrix_grouped[\"geometry\"], left_on=\"index_right\", right_index=True, suffixes=(\"\",\"_line\"))\n",
    "    # calc the distance between the point and linestring\n",
    "    gdfn[\"distance\"] = gdfn.apply(lambda r: r[\"geometry_line\"].distance(r[\"geometry\"]), axis=1)\n",
    "    return gdfn\n",
    "\n",
    "# %timeit gdfn = nr_dist()\n",
    "gdfn = nr_dist()\n",
    "gdfn.head(1)\n",
    "tdf = gdfn[['DATETIME', 'BLOCK', 'REASON', 'XDSegID', 'Lanes', 'Miles', 'OSMWayIDs', 'geometry_line', 'distance', 'iSF_length', 'iSF_length_min', 'Bearing']]\n",
    "tdf = pd.merge(disruptions_df, tdf, on=['DATETIME', 'BLOCK', 'REASON'], how='left')\n",
    "tdf = tdf.drop_duplicates(subset=['DATETIME', 'BLOCK', 'REASON'], keep='first')\n",
    "tdf['hour'] = tdf['DATETIME'].dt.hour\n",
    "tdf['month'] = tdf['DATETIME'].dt.month\n",
    "tdf['dayofweek'] = tdf['DATETIME'].dt.dayofweek\n",
    "tdf = tdf[tdf.within(gdf_dav.geometry.iloc[0])]"
   ]
  },
  {
   "cell_type": "markdown",
   "metadata": {},
   "source": [
    "## Clustering based on spatial features only"
   ]
  },
  {
   "cell_type": "code",
   "execution_count": 31,
   "metadata": {},
   "outputs": [
    {
     "data": {
      "text/plain": [
       "1    3077\n",
       "0     786\n",
       "2     758\n",
       "3     391\n",
       "Name: labels, dtype: int64"
      ]
     },
     "execution_count": 31,
     "metadata": {},
     "output_type": "execute_result"
    }
   ],
   "source": [
    "from sklearn.cluster import KMeans\n",
    "from copy import deepcopy\n",
    "\n",
    "_tdf = deepcopy(tdf)\n",
    "_tdf['lat'] = tdf['geometry_report'].x\n",
    "_tdf['lon'] = tdf['geometry_report'].y\n",
    "kmeans = KMeans(n_clusters=4, random_state=0).fit(_tdf[['lat', 'lon']].to_numpy())\n",
    "_tdf['labels'] = kmeans.labels_\n",
    "_tdf['labels'].value_counts()"
   ]
  },
  {
   "cell_type": "code",
   "execution_count": 35,
   "metadata": {},
   "outputs": [],
   "source": [
    "polys = []\n",
    "for label, label_df in _tdf.groupby('labels'):\n",
    "    env = label_df.unary_union.minimum_rotated_rectangle\n",
    "    polys.append((label, env))"
   ]
  },
  {
   "cell_type": "code",
   "execution_count": 36,
   "metadata": {},
   "outputs": [],
   "source": [
    "import numpy as np\n",
    "import networkx as nx\n",
    "\n",
    "depots = []\n",
    "for label, poly in polys:\n",
    "    G = ox.graph_from_polygon(poly, network_type='drive', truncate_by_edge=True)\n",
    "    p = stops_df[stops_df.within(poly)].reset_index()\n",
    "    a = ox.nearest_nodes(G, X=p.geometry.x, Y=p.geometry.y, return_dist=True)\n",
    "    p = pd.merge(p, pd.DataFrame(a).T, left_index=True, right_index=True)\n",
    "    p = p.rename({0:'nearest_node', 1:'distance'}, axis=1)\n",
    "    average_distance_to_all = []\n",
    "    \n",
    "    if label != 1:\n",
    "        for k, v in p.iterrows():\n",
    "            nearest_node = v['nearest_node']\n",
    "            all_nodes = p.nearest_node.tolist()\n",
    "            distance = []\n",
    "            for node in all_nodes:\n",
    "                try:\n",
    "                    spl = nx.shortest_path_length(G, nearest_node, node)\n",
    "                    distance.append(spl)\n",
    "                except:\n",
    "                    distance.append(np.nan)\n",
    "                \n",
    "            average_distance_to_all.append(np.nanmean(np.asarray(distance)))\n",
    "        \n",
    "        p['average_distance_to_all'] = average_distance_to_all\n",
    "        p.sort_values('average_distance_to_all')\n",
    "        \n",
    "        center_stop = p.sort_values('average_distance_to_all').iloc[0].stop_id\n",
    "        depots.append((label, center_stop))\n",
    "    # fig, ax = ox.plot_graph(\n",
    "    #     G, node_color='black', node_size=1, edge_linewidth=2, edge_color=\"#555555\", show=False\n",
    "    # )\n",
    "    # center = p.sort_values('average_distance_to_all').iloc[0].geometry\n",
    "    # ax.plot(*center.centroid.xy, marker='^', markersize=10, color='red')\n",
    "    # p.plot(ax=ax, marker='s', markersize=5)\n",
    "    # plt.savefig(f\"{label}.png\", dpi=200)\n",
    "depots.append((1, 'MTA'))\n",
    "depots.append((1, 'MCC5_1'))"
   ]
  },
  {
   "cell_type": "code",
   "execution_count": 37,
   "metadata": {},
   "outputs": [
    {
     "data": {
      "text/plain": [
       "[(0, 'GLASOUWN'), (2, 'DWMRT'), (3, 'WHICHASF'), (1, 'MTA'), (1, 'MCC5_1')]"
      ]
     },
     "execution_count": 37,
     "metadata": {},
     "output_type": "execute_result"
    }
   ],
   "source": [
    "depots"
   ]
  },
  {
   "cell_type": "code",
   "execution_count": 41,
   "metadata": {},
   "outputs": [
    {
     "data": {
      "text/html": [
       "<div>\n",
       "<style scoped>\n",
       "    .dataframe tbody tr th:only-of-type {\n",
       "        vertical-align: middle;\n",
       "    }\n",
       "\n",
       "    .dataframe tbody tr th {\n",
       "        vertical-align: top;\n",
       "    }\n",
       "\n",
       "    .dataframe thead th {\n",
       "        text-align: right;\n",
       "    }\n",
       "</style>\n",
       "<table border=\"1\" class=\"dataframe\">\n",
       "  <thead>\n",
       "    <tr style=\"text-align: right;\">\n",
       "      <th></th>\n",
       "      <th>current_node</th>\n",
       "      <th>next_node</th>\n",
       "      <th>travel_time_s</th>\n",
       "      <th>distance_m</th>\n",
       "      <th>current_stop</th>\n",
       "      <th>next_stop</th>\n",
       "    </tr>\n",
       "  </thead>\n",
       "  <tbody>\n",
       "    <tr>\n",
       "      <th>0</th>\n",
       "      <td>202342839</td>\n",
       "      <td>202342839</td>\n",
       "      <td>0.0</td>\n",
       "      <td>0.000</td>\n",
       "      <td>12ADEMNN</td>\n",
       "      <td>12ADEMNN</td>\n",
       "    </tr>\n",
       "    <tr>\n",
       "      <th>1</th>\n",
       "      <td>202342839</td>\n",
       "      <td>202342839</td>\n",
       "      <td>0.0</td>\n",
       "      <td>0.000</td>\n",
       "      <td>12ADEMNN</td>\n",
       "      <td>11ADEMSF</td>\n",
       "    </tr>\n",
       "    <tr>\n",
       "      <th>2</th>\n",
       "      <td>202342839</td>\n",
       "      <td>202342839</td>\n",
       "      <td>0.0</td>\n",
       "      <td>0.000</td>\n",
       "      <td>11ADEMSF</td>\n",
       "      <td>12ADEMNN</td>\n",
       "    </tr>\n",
       "    <tr>\n",
       "      <th>3</th>\n",
       "      <td>202342839</td>\n",
       "      <td>202342839</td>\n",
       "      <td>0.0</td>\n",
       "      <td>0.000</td>\n",
       "      <td>11ADEMSF</td>\n",
       "      <td>11ADEMSF</td>\n",
       "    </tr>\n",
       "    <tr>\n",
       "      <th>4</th>\n",
       "      <td>202342839</td>\n",
       "      <td>202342839</td>\n",
       "      <td>0.0</td>\n",
       "      <td>0.000</td>\n",
       "      <td>12ADEMNN</td>\n",
       "      <td>12ADEMNN</td>\n",
       "    </tr>\n",
       "    <tr>\n",
       "      <th>...</th>\n",
       "      <td>...</td>\n",
       "      <td>...</td>\n",
       "      <td>...</td>\n",
       "      <td>...</td>\n",
       "      <td>...</td>\n",
       "      <td>...</td>\n",
       "    </tr>\n",
       "    <tr>\n",
       "      <th>23164964</th>\n",
       "      <td>202242866</td>\n",
       "      <td>2546443756</td>\n",
       "      <td>1276.0</td>\n",
       "      <td>21400.466</td>\n",
       "      <td>VILBRIEM</td>\n",
       "      <td>WALBROEM</td>\n",
       "    </tr>\n",
       "    <tr>\n",
       "      <th>23164965</th>\n",
       "      <td>2546443756</td>\n",
       "      <td>2546443756</td>\n",
       "      <td>0.0</td>\n",
       "      <td>0.000</td>\n",
       "      <td>WALBROEM</td>\n",
       "      <td>WALBROEM</td>\n",
       "    </tr>\n",
       "    <tr>\n",
       "      <th>23164966</th>\n",
       "      <td>202300606</td>\n",
       "      <td>2546443756</td>\n",
       "      <td>736.5</td>\n",
       "      <td>11585.342</td>\n",
       "      <td>WED21AEF</td>\n",
       "      <td>WALBROEM</td>\n",
       "    </tr>\n",
       "    <tr>\n",
       "      <th>23164967</th>\n",
       "      <td>202263644</td>\n",
       "      <td>2546443756</td>\n",
       "      <td>876.1</td>\n",
       "      <td>13443.758</td>\n",
       "      <td>WES29AWN</td>\n",
       "      <td>WALBROEM</td>\n",
       "    </tr>\n",
       "    <tr>\n",
       "      <th>23164968</th>\n",
       "      <td>2473512360</td>\n",
       "      <td>2546443756</td>\n",
       "      <td>1066.1</td>\n",
       "      <td>15881.354</td>\n",
       "      <td>WHIVINSM</td>\n",
       "      <td>WALBROEM</td>\n",
       "    </tr>\n",
       "  </tbody>\n",
       "</table>\n",
       "<p>23164969 rows × 6 columns</p>\n",
       "</div>"
      ],
      "text/plain": [
       "          current_node   next_node  travel_time_s  distance_m current_stop  \\\n",
       "0            202342839   202342839            0.0       0.000     12ADEMNN   \n",
       "1            202342839   202342839            0.0       0.000     12ADEMNN   \n",
       "2            202342839   202342839            0.0       0.000     11ADEMSF   \n",
       "3            202342839   202342839            0.0       0.000     11ADEMSF   \n",
       "4            202342839   202342839            0.0       0.000     12ADEMNN   \n",
       "...                ...         ...            ...         ...          ...   \n",
       "23164964     202242866  2546443756         1276.0   21400.466     VILBRIEM   \n",
       "23164965    2546443756  2546443756            0.0       0.000     WALBROEM   \n",
       "23164966     202300606  2546443756          736.5   11585.342     WED21AEF   \n",
       "23164967     202263644  2546443756          876.1   13443.758     WES29AWN   \n",
       "23164968    2473512360  2546443756         1066.1   15881.354     WHIVINSM   \n",
       "\n",
       "         next_stop  \n",
       "0         12ADEMNN  \n",
       "1         11ADEMSF  \n",
       "2         12ADEMNN  \n",
       "3         11ADEMSF  \n",
       "4         12ADEMNN  \n",
       "...            ...  \n",
       "23164964  WALBROEM  \n",
       "23164965  WALBROEM  \n",
       "23164966  WALBROEM  \n",
       "23164967  WALBROEM  \n",
       "23164968  WALBROEM  \n",
       "\n",
       "[23164969 rows x 6 columns]"
      ]
     },
     "execution_count": 41,
     "metadata": {},
     "output_type": "execute_result"
    }
   ],
   "source": [
    "geometry"
   ]
  },
  {
   "cell_type": "code",
   "execution_count": null,
   "metadata": {},
   "outputs": [],
   "source": []
  },
  {
   "cell_type": "code",
   "execution_count": 64,
   "metadata": {},
   "outputs": [
    {
     "name": "stdout",
     "output_type": "stream",
     "text": [
      "['GLASOUWN']\n",
      "['MTA', 'MCC5_1']\n",
      "['DWMRT']\n",
      "['WHICHASF']\n"
     ]
    },
    {
     "data": {
      "image/png": "[encoded data removed]",
      "text/plain": [
       "<Figure size 500x500 with 1 Axes>"
      ]
     },
     "metadata": {},
     "output_type": "display_data"
    }
   ],
   "source": [
    "import matplotlib.pyplot as plt\n",
    "\n",
    "fig, ax = plt.subplots(figsize=(5, 5))\n",
    "inrix_grouped.plot(lw=0.5, color='gray', ax=ax, alpha=0.5)\n",
    "colors = ['#9e0142','#d53e4f','#f46d43','#fdae61','#fee08b','#ffffbf','#e6f598','#abdda4','#66c2a5','#3288bd','#5e4fa2']\n",
    "\n",
    "for label, label_df in _tdf.groupby('labels'):\n",
    "    label_df.plot(color=colors[label], ax=ax)\n",
    "    env = label_df.unary_union.minimum_rotated_rectangle\n",
    "    _depots = [_d[1] for _d in depots if _d[0] == label]\n",
    "    print(_depots)\n",
    "    for d in _depots:\n",
    "        center = stops_df.query(\"stop_id == @d\").iloc[0].geometry\n",
    "        \n",
    "        # sometimes the center stop is not available\n",
    "        a = feed.geometrize_stops()\n",
    "        idx = a.sindex.nearest(center)[1]\n",
    "        d = a.iloc[idx].iloc[0].stop_id\n",
    "        center = a.iloc[idx].iloc[0].geometry\n",
    "        \n",
    "        ax.plot(*center.centroid.xy, marker='^', markersize=15, color='black')\n",
    "        ax.text(x=center.centroid.x + 0.01, y=center.centroid.y, s=d)\n",
    "    ax.plot(*env.exterior.xy)\n",
    "\n",
    "# plt.savefig('kmeans_map.eps', format='eps')"
   ]
  },
  {
   "cell_type": "code",
   "execution_count": null,
   "metadata": {},
   "outputs": [],
   "source": []
  }
 ],
 "metadata": {
  "kernelspec": {
   "display_name": "py39",
   "language": "python",
   "name": "python3"
  },
  "language_info": {
   "codemirror_mode": {
    "name": "ipython",
    "version": 3
   },
   "file_extension": ".py",
   "mimetype": "text/x-python",
   "name": "python",
   "nbconvert_exporter": "python",
   "pygments_lexer": "ipython3",
   "version": "3.9.15"
  },
  "orig_nbformat": 4,
  "vscode": {
   "interpreter": {
    "hash": "88d12193eb5d2fbe298f9bb9e457ac6a535b56551d0f537fc14a1636657a2895"
   }
  }
 },
 "nbformat": 4,
 "nbformat_minor": 2
}
