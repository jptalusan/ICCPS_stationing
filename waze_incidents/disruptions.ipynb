{
 "cells": [
  {
   "cell_type": "code",
   "execution_count": 2,
   "metadata": {},
   "outputs": [
    {
     "name": "stdout",
     "output_type": "stream",
     "text": [
      "23/01/23 16:16:08 WARN Utils: Your hostname, Slade-173477 resolves to a loopback address: 127.0.1.1; using 10.2.219.10 instead (on interface eno1)\n",
      "23/01/23 16:16:08 WARN Utils: Set SPARK_LOCAL_IP if you need to bind to another address\n"
     ]
    },
    {
     "name": "stderr",
     "output_type": "stream",
     "text": [
      "Setting default log level to \"WARN\".\n",
      "To adjust logging level use sc.setLogLevel(newLevel). For SparkR, use setLogLevel(newLevel).\n"
     ]
    },
    {
     "name": "stdout",
     "output_type": "stream",
     "text": [
      "23/01/23 16:16:09 WARN NativeCodeLoader: Unable to load native-hadoop library for your platform... using builtin-java classes where applicable\n"
     ]
    }
   ],
   "source": [
    "%matplotlib inline\n",
    "import os\n",
    "import json\n",
    "import random\n",
    "import matplotlib.pyplot as plt\n",
    "import geopandas as gpd\n",
    "import pandas as pd\n",
    "import gtfs_kit as gk\n",
    "import numpy as np\n",
    "import osmnx as ox\n",
    "import networkx as nx\n",
    "from tqdm import tqdm\n",
    "from shapely.geometry import Polygon, LineString, Point\n",
    "import warnings\n",
    "warnings.filterwarnings('ignore')\n",
    "from pyspark import SparkContext,SparkConf\n",
    "from pyspark.sql import SQLContext\n",
    "from pyspark.sql import Row, SparkSession\n",
    "from pyspark.sql.types import IntegerType\n",
    "from pyspark.sql import functions as F\n",
    "from pyspark import SparkConf\n",
    "import pandas as pd\n",
    "import pickle\n",
    "from tqdm import tqdm\n",
    "spark = SparkSession.builder.config('spark.executor.cores', '8').config('spark.executor.memory', '80g')\\\n",
    "        .config(\"spark.sql.session.timeZone\", \"UTC\").config('spark.driver.memory', '40g').master(\"local[26]\")\\\n",
    "        .appName(\"wego-daily\").config('spark.driver.extraJavaOptions', '-Duser.timezone=UTC').config('spark.executor.extraJavaOptions', '-Duser.timezone=UTC')\\\n",
    "        .config(\"spark.sql.datetime.java8API.enabled\", \"true\").config(\"spark.sql.execution.arrow.pyspark.enabled\", \"true\")\\\n",
    "        .config(\"spark.sql.autoBroadcastJoinThreshold\", -1)\\\n",
    "        .config(\"spark.driver.maxResultSize\", 0)\\\n",
    "        .config(\"spark.shuffle.spill\", \"true\")\\\n",
    "        .getOrCreate()\n",
    "spark.sparkContext.setLogLevel(\"ERROR\")"
   ]
  },
  {
   "attachments": {},
   "cell_type": "markdown",
   "metadata": {},
   "source": [
    "# Calculate with MTA disruptions dataset"
   ]
  },
  {
   "cell_type": "code",
   "execution_count": 3,
   "metadata": {},
   "outputs": [
    {
     "name": "stdout",
     "output_type": "stream",
     "text": [
      "2020-03-21 06:28:00 2022-08-12 06:38:00\n"
     ]
    },
    {
     "name": "stderr",
     "output_type": "stream",
     "text": [
      "                                                                                \r"
     ]
    },
    {
     "data": {
      "text/html": [
       "<div>\n",
       "<style scoped>\n",
       "    .dataframe tbody tr th:only-of-type {\n",
       "        vertical-align: middle;\n",
       "    }\n",
       "\n",
       "    .dataframe tbody tr th {\n",
       "        vertical-align: top;\n",
       "    }\n",
       "\n",
       "    .dataframe thead th {\n",
       "        text-align: right;\n",
       "    }\n",
       "</style>\n",
       "<table border=\"1\" class=\"dataframe\">\n",
       "  <thead>\n",
       "    <tr style=\"text-align: right;\">\n",
       "      <th></th>\n",
       "      <th>stop_id_original</th>\n",
       "      <th>probability</th>\n",
       "    </tr>\n",
       "  </thead>\n",
       "  <tbody>\n",
       "    <tr>\n",
       "      <th>0</th>\n",
       "      <td>DKWM</td>\n",
       "      <td>0.000000</td>\n",
       "    </tr>\n",
       "    <tr>\n",
       "      <th>1</th>\n",
       "      <td>ETHGLESF</td>\n",
       "      <td>0.000000</td>\n",
       "    </tr>\n",
       "    <tr>\n",
       "      <th>2</th>\n",
       "      <td>RHAB</td>\n",
       "      <td>0.000000</td>\n",
       "    </tr>\n",
       "    <tr>\n",
       "      <th>3</th>\n",
       "      <td>THOLANWF</td>\n",
       "      <td>0.000000</td>\n",
       "    </tr>\n",
       "    <tr>\n",
       "      <th>4</th>\n",
       "      <td>THOGRAWN</td>\n",
       "      <td>0.000000</td>\n",
       "    </tr>\n",
       "    <tr>\n",
       "      <th>...</th>\n",
       "      <td>...</td>\n",
       "      <td>...</td>\n",
       "    </tr>\n",
       "    <tr>\n",
       "      <th>2068</th>\n",
       "      <td>JAM5AEN</td>\n",
       "      <td>0.000000</td>\n",
       "    </tr>\n",
       "    <tr>\n",
       "      <th>2069</th>\n",
       "      <td>DWMRT</td>\n",
       "      <td>0.001027</td>\n",
       "    </tr>\n",
       "    <tr>\n",
       "      <th>2070</th>\n",
       "      <td>4AVCHUSN</td>\n",
       "      <td>0.000000</td>\n",
       "    </tr>\n",
       "    <tr>\n",
       "      <th>2071</th>\n",
       "      <td>CHA7AEN</td>\n",
       "      <td>0.000000</td>\n",
       "    </tr>\n",
       "    <tr>\n",
       "      <th>2072</th>\n",
       "      <td>8ABRONM</td>\n",
       "      <td>0.000064</td>\n",
       "    </tr>\n",
       "  </tbody>\n",
       "</table>\n",
       "<p>2073 rows × 2 columns</p>\n",
       "</div>"
      ],
      "text/plain": [
       "     stop_id_original  probability\n",
       "0                DKWM     0.000000\n",
       "1            ETHGLESF     0.000000\n",
       "2                RHAB     0.000000\n",
       "3            THOLANWF     0.000000\n",
       "4            THOGRAWN     0.000000\n",
       "...               ...          ...\n",
       "2068          JAM5AEN     0.000000\n",
       "2069            DWMRT     0.001027\n",
       "2070         4AVCHUSN     0.000000\n",
       "2071          CHA7AEN     0.000000\n",
       "2072          8ABRONM     0.000064\n",
       "\n",
       "[2073 rows x 2 columns]"
      ]
     },
     "execution_count": 3,
     "metadata": {},
     "output_type": "execute_result"
    }
   ],
   "source": [
    "# Get service disruption dataset\n",
    "fp = os.path.join('data/Service Disruptions_07_2019_08_2022.csv')\n",
    "disruptions_df = pd.read_csv(fp)\n",
    "disruptions_df.head()\n",
    "disruptions_df['DATETIME'] = disruptions_df['DATE'] + ' ' + disruptions_df['TIME']\n",
    "disruptions_df['DATE'] = pd.to_datetime(disruptions_df['DATE'], format='%m/%d/%y', errors='coerce')\n",
    "disruptions_df['TIME'] = pd.to_datetime(disruptions_df['TIME'], format='%H:%M:%S', errors='coerce')\n",
    "disruptions_df['DATETIME'] = pd.to_datetime(disruptions_df['DATETIME'], format='%m/%d/%y %H:%M:%S', errors='coerce')\n",
    "\n",
    "# Remove mechanical and weather disruptions\n",
    "disruptions_df = disruptions_df.query(\"REASON != 'Mechanical' and REASON != 'Weather'\")\n",
    "\n",
    "disruptions_df['BLOCK'] = disruptions_df['BLOCK'].astype('int32')# disruptions_sp = disruptions_sp.withColumn(\"BLOCK\", F.col(\"BLOCK\").cast(IntegerType()))\n",
    "disruptions_counts_df = disruptions_df.groupby('START_STOP_ABBR').agg('count')[['REASON']].reset_index().sort_values('REASON')\n",
    "\n",
    "# Count the number of trips throughout this time\n",
    "start_date = disruptions_df.sort_values(by=['DATETIME']).iloc[0]['DATETIME']\n",
    "end_date   = disruptions_df.sort_values(by=['DATETIME']).iloc[-1]['DATETIME']\n",
    "\n",
    "print(start_date, end_date)\n",
    "\n",
    "# Filter APC data on these dates\n",
    "# # filter subset\n",
    "get_columns = ['transit_date', 'trip_id', 'departure_time', 'stop_id_original']\n",
    "get_str = \", \".join([c for c in get_columns])\n",
    "\n",
    "f = os.path.join('data/apc_weather_gtfs_20221216.parquet')\n",
    "apcdata = spark.read.load(f)\n",
    "apcdata.createOrReplaceTempView(\"apc\")\n",
    "query = f\"\"\"\n",
    "SELECT {get_str}\n",
    "FROM apc\n",
    "WHERE (transit_date >= '{start_date.date()}') AND (transit_date <= '{end_date.date()}')\n",
    "\"\"\"\n",
    "apcdataafternegdelete = spark.sql(query)\n",
    "apcdataafternegdelete = apcdataafternegdelete.dropna()\n",
    "trips_df = apcdataafternegdelete.toPandas()\n",
    "trips_df = trips_df.groupby('stop_id_original').agg('count').sort_values('trip_id').reset_index()\n",
    "\n",
    "# Merging them toegether\n",
    "merged_df = pd.merge(trips_df, disruptions_counts_df[['START_STOP_ABBR', 'REASON']], left_on='stop_id_original', right_on='START_STOP_ABBR')\n",
    "merged_df['probability'] = merged_df['REASON'] / merged_df['transit_date']\n",
    "merged_df['probability'] = merged_df['probability']/merged_df['probability'].max()\n",
    "merged_df.sort_values('probability').tail(10)\n",
    "\n",
    "all_stop_probabilities = trips_df[['stop_id_original']]\n",
    "all_stop_probabilities = pd.merge(all_stop_probabilities, merged_df[['stop_id_original', 'probability']], on='stop_id_original', how='outer').fillna(0)\n",
    "all_stop_probabilities.sort_values('probability')\n",
    "\n",
    "fp = os.path.join('data/disruption_probabilities.pkl')\n",
    "all_stop_probabilities.to_pickle(fp)\n",
    "all_stop_probabilities"
   ]
  },
  {
   "cell_type": "code",
   "execution_count": 11,
   "metadata": {},
   "outputs": [
    {
     "data": {
      "text/plain": [
       "array(['CXI53AVE', 'MCC5_6', 'NOLWELSF', 'NXOFRGND', 'MXITHOMP',\n",
       "       'WHIMOONN', 'GXIRIVEF', 'WES31AEM', 'MCSHERM', 'ELIHYDNF',\n",
       "       'WHGRENN', 'CXORICHL', 'CXOWTBRG', 'OLDFORT', 'WHIMOONN', 'WALTPR',\n",
       "       'BOYBUENN', 'MUSICVAL', 'GWYEWISM', 'PONATHE2', 'DOLL', '19SSHESN',\n",
       "       'LEBOLDNN', 'TEN50AWN', 'LEBOLDNN', 'MCC5_5', 'MXIWHARF',\n",
       "       'GXORIVEN', 'DOVDICWF', 'NXITHMPN', 'GXOFIVEF'], dtype=object)"
      ]
     },
     "execution_count": 11,
     "metadata": {},
     "output_type": "execute_result"
    }
   ],
   "source": [
    "a = all_stop_probabilities.query(\"probability > 0.0 and probability <= 0.1\").sort_values('probability')\n",
    "np.random.choice(a.stop_id_original, 31)"
   ]
  },
  {
   "attachments": {},
   "cell_type": "markdown",
   "metadata": {},
   "source": [
    "# Calculate first with the waze incidents"
   ]
  },
  {
   "cell_type": "code",
   "execution_count": 3,
   "metadata": {},
   "outputs": [
    {
     "name": "stdout",
     "output_type": "stream",
     "text": [
      "32\n",
      "32\n"
     ]
    },
    {
     "name": "stderr",
     "output_type": "stream",
     "text": [
      "600it [00:02, 211.87it/s]\n"
     ]
    },
    {
     "data": {
      "image/png": "[encoded data removed]",
      "text/plain": [
       "<Figure size 640x480 with 1 Axes>"
      ]
     },
     "metadata": {},
     "output_type": "display_data"
    }
   ],
   "source": [
    "from shapely import wkt\n",
    "import glob\n",
    "\n",
    "waze_df = pd.read_csv('data/nashville_2020_2022.csv')\n",
    "waze_df['geometry'] = waze_df['geo'].apply(wkt.loads)\n",
    "waze_df = gpd.GeoDataFrame(waze_df, crs='epsg:4326')\n",
    "# waze_df['datetime'] = pd.to_datetime()\n",
    "cols = ['date', 'hour', 'minute', 'second']\n",
    "waze_df['datetime'] = waze_df[cols].apply(lambda row: ' '.join(row.values.astype(str)), axis=1)\n",
    "waze_df['datetime'] = pd.to_datetime(waze_df['datetime'], format=\"%Y-%m-%d %H %M %S\")\n",
    "waze_df = waze_df.query(\"type == 'ACCIDENT'\")\n",
    "waze_df.head(1)\n",
    "listfiles = glob.glob('data/raw_gtfs/*.zip')\n",
    "routes_arr = []\n",
    "stops_arr = []\n",
    "for lf in listfiles:\n",
    "    feed = gk.read_feed(lf, dist_units='mi')\n",
    "    routes = feed.geometrize_routes()\n",
    "    stops = feed.geometrize_stops()\n",
    "    routes_arr.append(routes)\n",
    "    stops_arr.append(stops)\n",
    "    \n",
    "routes = pd.concat(routes_arr)\n",
    "routes = routes.drop_duplicates()\n",
    "\n",
    "stops = pd.concat(stops_arr)\n",
    "stops = stops.drop_duplicates(subset='stop_id')\n",
    "stops = stops.reset_index(drop=True)\n",
    "stops\n",
    "# maps\n",
    "fp = os.path.join('data', 'shapefiles', \"tncounty\")\n",
    "gdf_county = gpd.read_file(fp)\n",
    "gdf_dav = gdf_county[gdf_county[\"NAME\"] == \"Davidson\"]\n",
    "# gdf_dav = gdf_dav.to_crs(\"EPSG:4326\")\n",
    "xmin, ymin, xmax, ymax = gdf_dav.total_bounds\n",
    "gdf_dav.total_bounds\n",
    "# gdf_dav.plot()\n",
    "# GTFS\n",
    "\n",
    "length = 5280 #feet\n",
    "wide = 5280\n",
    "\n",
    "cols = list(np.arange(xmin, xmax + wide, wide))\n",
    "print(len(cols))\n",
    "rows = list(np.arange(ymin, ymax + length, length))\n",
    "print(len(rows))\n",
    "\n",
    "polygons = []\n",
    "for x in cols[:-1]:\n",
    "    for y in rows[:-1]:\n",
    "        polygons.append(Polygon([(x,y), (x+wide, y), (x+wide, y+length), (x, y+length)]))\n",
    "\n",
    "grid = gpd.GeoDataFrame({'geometry':polygons})\n",
    "grids = grid.set_crs(\"EPSG:2274\")\n",
    "dav_grids = gpd.overlay(gdf_dav, grids, how='intersection')\n",
    "\n",
    "dav_grids['row_num'] = np.arange(len(dav_grids))\n",
    "dav_grids2 = dav_grids.to_crs(\"EPSG:4326\")\n",
    "dav_grids2.plot()\n",
    "\n",
    "fp = os.path.join('data', 'inrix_grouped.pkl')\n",
    "inrix_grouped = pd.read_pickle(fp)\n",
    "inrix_grouped = inrix_grouped.set_geometry('geometry')\n",
    "\n",
    "gdf_dav = gdf_dav.to_crs(\"EPSG:4326\")\n",
    "inrix_grouped = inrix_grouped[inrix_grouped.within(gdf_dav.geometry.iloc[0])]\n",
    "# Match incidents per grid\n",
    "grid_incidents = {}\n",
    "grid_stops = {}\n",
    "for k, v in tqdm(dav_grids2.iterrows()):\n",
    "    polygon = v['geometry']\n",
    "    \n",
    "    # roads_poly = inrix_grouped[inrix_grouped.within(polygon)].buffer(0.0005).unary_union\n",
    "    # if roads_poly is not None:\n",
    "    #     spatial_index = waze_df.sindex\n",
    "    #     possible_matches_index = list(spatial_index.intersection(roads_poly.bounds))\n",
    "    #     possible_matches = waze_df.iloc[possible_matches_index]\n",
    "    #     precise_matches = possible_matches[possible_matches.intersects(roads_poly)]\n",
    "    #     if not precise_matches.empty:\n",
    "    #         grid_incidents[k] = precise_matches.index\n",
    "    \n",
    "    spatial_index = waze_df.sindex\n",
    "    possible_matches_index = list(spatial_index.intersection(polygon.bounds))\n",
    "    possible_matches = waze_df.iloc[possible_matches_index]\n",
    "    precise_matches = possible_matches[possible_matches.intersects(polygon)]\n",
    "    if not precise_matches.empty:\n",
    "        grid_incidents[k] = precise_matches.index\n",
    "\n",
    "    spatial_index = stops.sindex\n",
    "    possible_matches_index = list(spatial_index.intersection(polygon.bounds))\n",
    "    possible_matches = stops.iloc[possible_matches_index]\n",
    "    precise_matches = possible_matches[possible_matches.intersects(polygon)]\n",
    "    if not precise_matches.empty:\n",
    "        grid_stops[k] = precise_matches.index\n",
    "    \n",
    "        # polygon = precise_matches.buffer(0.0005).unary_union\n",
    "        # spatial_index = waze_df.sindex\n",
    "        # possible_matches_index = list(spatial_index.intersection(polygon.bounds))\n",
    "        # possible_matches = waze_df.iloc[possible_matches_index]\n",
    "        # precise_matches = possible_matches[possible_matches.intersects(polygon)]\n",
    "        # if not precise_matches.empty:\n",
    "        #     grid_incidents[k] = precise_matches.index\n",
    "        "
   ]
  },
  {
   "cell_type": "code",
   "execution_count": 4,
   "metadata": {},
   "outputs": [
    {
     "name": "stderr",
     "output_type": "stream",
     "text": [
      "                                                                                \r"
     ]
    },
    {
     "name": "stdout",
     "output_type": "stream",
     "text": [
      "+-------------------+--------+-------+----------------+-------------+----+-------------------+-------------------+------------+-------------------+---------------+\n",
      "|       transit_date|route_id|trip_id|stop_id_original|stop_sequence|load|     departure_time|     scheduled_time|next_stop_id|       next_arrival|tt_to_next_stop|\n",
      "+-------------------+--------+-------+----------------+-------------+----+-------------------+-------------------+------------+-------------------+---------------+\n",
      "|2020-01-01 00:00:00|      14| 193713|         MCC4_20|            1| 2.0|2020-01-01 15:20:40|2020-01-01 15:15:00|     UNI2AEF|2020-01-01 15:22:14|           94.0|\n",
      "+-------------------+--------+-------+----------------+-------------+----+-------------------+-------------------+------------+-------------------+---------------+\n",
      "only showing top 1 row\n",
      "\n"
     ]
    },
    {
     "name": "stderr",
     "output_type": "stream",
     "text": [
      "                                                                                \r"
     ]
    }
   ],
   "source": [
    "apc_data = spark.read.load('data/tt_to_next_stop_2022_04_31.parquet')\n",
    "apc_data.createOrReplaceTempView(\"apc\")\n",
    "apc_data.show(1)"
   ]
  },
  {
   "cell_type": "code",
   "execution_count": 40,
   "metadata": {},
   "outputs": [],
   "source": [
    "grids_with_incidents_and_roads = list(set(list(grid_incidents.keys())) & set(list(grid_stops.keys())))\n",
    "grids_with_incidents_and_roads.sort()\n",
    "stop_to_grid_dict = {}\n",
    "df_arr = []\n",
    "for k in grids_with_incidents_and_roads:\n",
    "    _grid_incidents_idx = grid_incidents[k]\n",
    "    _grid_stops_idx = grid_stops[k]\n",
    "    \n",
    "    _grid_stops = stops.loc[_grid_stops_idx]\n",
    "    _grid_stops = _grid_stops.stop_id.tolist()\n",
    "    # _apc_data = apc_data.filter(F.col(\"stop_id_original\").isin(_grid_stops))\n",
    "    # df = _apc_data.toPandas()\n",
    "    for gs in _grid_stops:\n",
    "        stop_to_grid_dict[gs] = k\n",
    "    \n",
    "    _grid_incidents = waze_df.loc[_grid_incidents_idx]\n",
    "    _grid_incidents = _grid_incidents.set_index('datetime').sort_index()\n",
    "    _grid_incidents['incident'] = 1\n",
    "    _grid_incidents['grid'] = k\n",
    "    _grid_incidents = _grid_incidents.resample(\"10min\").agg({'incident':'sum', 'grid':'first'})\n",
    "    _grid_incidents['grid'] = _grid_incidents['grid'].fillna(method='bfill')\n",
    "    \n",
    "    _grid_incidents['hour'] = _grid_incidents.index.hour\n",
    "    _grid_incidents['minute'] = _grid_incidents.index.minute\n",
    "    df_arr.append(_grid_incidents)\n",
    "\n",
    "df_arr = pd.concat(df_arr)\n",
    "# group by time of day, find number of times an incident occured, number of times no incident occurred (sample by 10 minutes)\n",
    "times_of_day = ['early_am', 'rush_am', 'mid_am', 'mid_pm', 'rush_pm', 'night']\n",
    "times_of_day_dict = {'early_am':('00:00', '06:00'),\n",
    "                     'rush_am':('06:00', '09:00'),\n",
    "                     'mid_am':('09:00', '13:00'),\n",
    "                     'mid_pm':('13:00', '17:00'),\n",
    "                     'rush_pm':('17:00', '19:00'),\n",
    "                     'night':('20:00', '23:59')}\n",
    "\n",
    "data_arr = []\n",
    "for grid, grid_df in df_arr.groupby('grid'):\n",
    "    for tod in times_of_day:\n",
    "        trange = times_of_day_dict[tod]\n",
    "        tdf = grid_df.between_time(*trange)\n",
    "        total_incidents = tdf.incident.sum()\n",
    "        probability = total_incidents / len(tdf)\n",
    "        if probability == 1.0:\n",
    "            probability = 0.04\n",
    "        if np.isnan(probability):\n",
    "            probability = 0.0002\n",
    "        data_arr.append((grid, tod, probability))\n",
    "        \n",
    "data_arr = pd.DataFrame(data_arr, columns=['grid', 'time_of_day', 'probability'])\n",
    "data_arr.to_parquet('data/processed_grid_probabilities.parquet')\n",
    "\n",
    "# Save dict\n",
    "with open('data/processed_stop_to_grid_dict.pkl', 'wb') as fp:\n",
    "    pickle.dump(stop_to_grid_dict, fp, protocol=pickle.HIGHEST_PROTOCOL)"
   ]
  },
  {
   "attachments": {},
   "cell_type": "markdown",
   "metadata": {},
   "source": [
    "### Working with the files together\n",
    "* processed_grid_probabilities.parquet\n",
    "* processed_tt_incidnt_factor_per_stop_pair.parquet (get maxed factor)"
   ]
  },
  {
   "cell_type": "code",
   "execution_count": 114,
   "metadata": {},
   "outputs": [
    {
     "name": "stdout",
     "output_type": "stream",
     "text": [
      "mid_am\n",
      "0.0012465627864344639\n",
      "CPU times: user 4.27 ms, sys: 0 ns, total: 4.27 ms\n",
      "Wall time: 4.17 ms\n"
     ]
    }
   ],
   "source": [
    "grid_probabiltiies = pd.read_parquet('data/processed_grid_probabilities.parquet')\n",
    "incident_factor = pd.read_parquet('data/processed_tt_incident_factor_per_stop_pair.parquet')\n",
    "with open('data/processed_stop_to_grid_dict.pkl', 'rb') as fp:\n",
    "    stop_to_grid_dict = pickle.load(fp)\n",
    "\n",
    "def get_tod(timestamp):\n",
    "    h = timestamp.hour\n",
    "    if h < 6:\n",
    "        return 'early_am'\n",
    "    elif h >= 6 and h < 9:\n",
    "        return 'rush_am'\n",
    "    elif h >= 9 and h < 13:\n",
    "        return 'mid_am'\n",
    "    elif h >= 13 and h < 17:\n",
    "        return 'mid_pm'\n",
    "    elif h >= 17 and h < 19:\n",
    "        return 'rush_pm'\n",
    "    elif h >= 20 and h < 24:\n",
    "        return 'night'\n",
    "    else:\n",
    "        return None\n",
    "\n",
    "timestamp = pd.Timestamp('2022-10-07 11:57:48')\n",
    "stop_id = '100OAKS'\n",
    "next_stop = 'POWPOWNM'\n",
    "\n",
    "def get_i_factor(timestamp, stop_id, next_stop):\n",
    "    grid = stop_to_grid_dict[stop_id]\n",
    "    stop_pair = f\"{stop_id}_{next_stop}\"\n",
    "    tod = get_tod(timestamp)\n",
    "    print(tod)\n",
    "    probability = grid_probabiltiies.query(\"grid == @grid and time_of_day == @tod\").probability.iloc[0]\n",
    "    print(probability)\n",
    "    incident_chance = np.random.choice([0, 1], size=1, p=[1-probability, probability])\n",
    "\n",
    "    if incident_chance > 0:\n",
    "        i_factor = incident_factor.query(\"stop_pair == @stop_pair\")['tt_incident_factor'].max()\n",
    "        if not np.isnan(i_factor):\n",
    "            return i_factor\n",
    "        else:\n",
    "            return 1.0\n",
    "\n",
    "get_i_factor(timestamp, stop_id, next_stop)"
   ]
  },
  {
   "cell_type": "code",
   "execution_count": 109,
   "metadata": {},
   "outputs": [],
   "source": [
    "grid_probabiltiies = pd.read_parquet('data/processed_grid_probabilities.parquet')\n",
    "incident_factor = pd.read_parquet('data/processed_tt_incident_factor_per_stop_pair.parquet')\n",
    "\n",
    "tdf = grid_probabiltiies\n",
    "tdf['key_pair'] = list(zip(tdf.grid, tdf.time_of_day))\n",
    "tdf = tdf.set_index('key_pair')\n",
    "tdf = tdf.drop(['grid', 'time_of_day'], axis=1).to_dict('index')\n",
    "with open(f'data/processed_grid_probabilities_dict.pkl', 'wb') as handle:\n",
    "    pickle.dump(tdf, handle, protocol=pickle.HIGHEST_PROTOCOL)\n",
    "    \n",
    "tdf = incident_factor.groupby('stop_pair').agg({'tt_incident_factor':'max'})\n",
    "tdf = tdf.to_dict('index')\n",
    "with open(f'data/processed_tt_incident_factor_per_stop_pair_dict.pkl', 'wb') as handle:\n",
    "    pickle.dump(tdf, handle, protocol=pickle.HIGHEST_PROTOCOL)"
   ]
  },
  {
   "cell_type": "code",
   "execution_count": 116,
   "metadata": {},
   "outputs": [
    {
     "name": "stdout",
     "output_type": "stream",
     "text": [
      "mid_am\n",
      "0.0012465627864344639\n"
     ]
    }
   ],
   "source": [
    "with open('data/processed_stop_to_grid_dict.pkl', 'rb') as fp:\n",
    "    stop_to_grid_dict = pickle.load(fp)\n",
    "with open('data/processed_grid_probabilities_dict.pkl', 'rb') as fp:\n",
    "    grid_probabiltiies = pickle.load(fp)\n",
    "with open('data/processed_tt_incident_factor_per_stop_pair_dict.pkl', 'rb') as fp:\n",
    "    incident_factor = pickle.load(fp)\n",
    "\n",
    "def get_tod(timestamp):\n",
    "    h = timestamp.hour\n",
    "    if h < 6:\n",
    "        return 'early_am'\n",
    "    elif h >= 6 and h < 9:\n",
    "        return 'rush_am'\n",
    "    elif h >= 9 and h < 13:\n",
    "        return 'mid_am'\n",
    "    elif h >= 13 and h < 17:\n",
    "        return 'mid_pm'\n",
    "    elif h >= 17 and h < 19:\n",
    "        return 'rush_pm'\n",
    "    elif h >= 20 and h < 24:\n",
    "        return 'night'\n",
    "    else:\n",
    "        return None\n",
    "\n",
    "timestamp = pd.Timestamp('2022-10-07 11:57:48')\n",
    "stop_id = '100OAKS'\n",
    "next_stop = 'POWPOWNM'\n",
    "\n",
    "def get_i_factor(timestamp, stop_id, next_stop):\n",
    "    grid = stop_to_grid_dict[stop_id]\n",
    "    stop_pair = f\"{stop_id}_{next_stop}\"\n",
    "    tod = get_tod(timestamp)\n",
    "    print(tod)\n",
    "    # probability = grid_probabiltiies[(grid, tod)]['probability']\n",
    "    a = grid_probabiltiies.get((grid, tod), None)\n",
    "    if a:\n",
    "        probability = a['probability']\n",
    "    # probability = grid_probabiltiies.query(\"grid == @grid and time_of_day == @tod\").probability.iloc[0]\n",
    "    print(probability)\n",
    "    incident_chance = np.random.choice([0, 1], size=1, p=[1-probability, probability])\n",
    "\n",
    "    if incident_chance > 0:\n",
    "        # i_factor = incident_factor.query(\"stop_pair == @stop_pair\")['tt_incident_factor'].max()\n",
    "        # i_factor = incident_factor[stop_pair]['tt_incident_factor']\n",
    "        a = incident_factor.get(stop_pair)\n",
    "        if a:\n",
    "            i_factor = a['tt_incident_factor']\n",
    "            if not np.isnan(i_factor):\n",
    "                return i_factor\n",
    "            else:\n",
    "                return 1.0\n",
    "\n",
    "get_i_factor(timestamp, stop_id, next_stop)"
   ]
  },
  {
   "cell_type": "code",
   "execution_count": null,
   "metadata": {},
   "outputs": [],
   "source": []
  }
 ],
 "metadata": {
  "kernelspec": {
   "display_name": "py39",
   "language": "python",
   "name": "python3"
  },
  "language_info": {
   "codemirror_mode": {
    "name": "ipython",
    "version": 3
   },
   "file_extension": ".py",
   "mimetype": "text/x-python",
   "name": "python",
   "nbconvert_exporter": "python",
   "pygments_lexer": "ipython3",
   "version": "3.9.15"
  },
  "orig_nbformat": 4,
  "vscode": {
   "interpreter": {
    "hash": "1cbc6a907b83b27da5523d46a7bac98be149ac6d56d0f6f27499d324bd57fb04"
   }
  }
 },
 "nbformat": 4,
 "nbformat_minor": 2
}
